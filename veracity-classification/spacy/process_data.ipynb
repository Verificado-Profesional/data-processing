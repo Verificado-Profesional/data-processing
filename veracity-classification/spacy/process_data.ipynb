{
 "cells": [
  {
   "cell_type": "code",
   "execution_count": 2,
   "metadata": {},
   "outputs": [],
   "source": [
    "import pandas as pd"
   ]
  },
  {
   "cell_type": "markdown",
   "metadata": {},
   "source": [
    "### Cargo Archivos"
   ]
  },
  {
   "cell_type": "markdown",
   "metadata": {},
   "source": [
    "#### Data"
   ]
  },
  {
   "cell_type": "code",
   "execution_count": 7,
   "metadata": {},
   "outputs": [
    {
     "data": {
      "text/html": [
       "<div>\n",
       "<style scoped>\n",
       "    .dataframe tbody tr th:only-of-type {\n",
       "        vertical-align: middle;\n",
       "    }\n",
       "\n",
       "    .dataframe tbody tr th {\n",
       "        vertical-align: top;\n",
       "    }\n",
       "\n",
       "    .dataframe thead th {\n",
       "        text-align: right;\n",
       "    }\n",
       "</style>\n",
       "<table border=\"1\" class=\"dataframe\">\n",
       "  <thead>\n",
       "    <tr style=\"text-align: right;\">\n",
       "      <th></th>\n",
       "      <th>Categoria</th>\n",
       "      <th>Titulo</th>\n",
       "      <th>Texto</th>\n",
       "      <th>Fecha</th>\n",
       "      <th>Origen</th>\n",
       "      <th>id</th>\n",
       "      <th>Topico</th>\n",
       "      <th>Fuente</th>\n",
       "      <th>URL</th>\n",
       "    </tr>\n",
       "  </thead>\n",
       "  <tbody>\n",
       "    <tr>\n",
       "      <th>0</th>\n",
       "      <td>1</td>\n",
       "      <td>Moreno intenta apaciguar el flanco sanitario m...</td>\n",
       "      <td>El presidente abre la puerta a unos comicios e...</td>\n",
       "      <td>19/04/2022</td>\n",
       "      <td>Vigo</td>\n",
       "      <td>NaN</td>\n",
       "      <td>NaN</td>\n",
       "      <td>NaN</td>\n",
       "      <td>NaN</td>\n",
       "    </tr>\n",
       "    <tr>\n",
       "      <th>1</th>\n",
       "      <td>1</td>\n",
       "      <td>La Abogacía del Estado se retira como acusació...</td>\n",
       "      <td>En un escrito, la abogada del Estado Rosa Marí...</td>\n",
       "      <td>17/09/2021</td>\n",
       "      <td>Vigo</td>\n",
       "      <td>NaN</td>\n",
       "      <td>NaN</td>\n",
       "      <td>NaN</td>\n",
       "      <td>NaN</td>\n",
       "    </tr>\n",
       "    <tr>\n",
       "      <th>2</th>\n",
       "      <td>0</td>\n",
       "      <td>Las promesas incumplidas de Pablo Echenique en...</td>\n",
       "      <td>Este lunes y martes la Asamblea de Madrid acog...</td>\n",
       "      <td>12/09/2022</td>\n",
       "      <td>Vigo</td>\n",
       "      <td>NaN</td>\n",
       "      <td>NaN</td>\n",
       "      <td>NaN</td>\n",
       "      <td>NaN</td>\n",
       "    </tr>\n",
       "    <tr>\n",
       "      <th>3</th>\n",
       "      <td>1</td>\n",
       "      <td>Sánchez defiende 'resolver el problema' de la ...</td>\n",
       "      <td>Resulta evidente que la ley ha tenido algunos ...</td>\n",
       "      <td>07/02/2023</td>\n",
       "      <td>Vigo</td>\n",
       "      <td>NaN</td>\n",
       "      <td>NaN</td>\n",
       "      <td>NaN</td>\n",
       "      <td>NaN</td>\n",
       "    </tr>\n",
       "    <tr>\n",
       "      <th>4</th>\n",
       "      <td>1</td>\n",
       "      <td>Ian Gibson cierra la lista electoral de la con...</td>\n",
       "      <td>El hispanista, que ya ocupó un puesto simbólic...</td>\n",
       "      <td>12/04/2023</td>\n",
       "      <td>Vigo</td>\n",
       "      <td>NaN</td>\n",
       "      <td>NaN</td>\n",
       "      <td>NaN</td>\n",
       "      <td>NaN</td>\n",
       "    </tr>\n",
       "  </tbody>\n",
       "</table>\n",
       "</div>"
      ],
      "text/plain": [
       "   Categoria                                             Titulo  \\\n",
       "0          1  Moreno intenta apaciguar el flanco sanitario m...   \n",
       "1          1  La Abogacía del Estado se retira como acusació...   \n",
       "2          0  Las promesas incumplidas de Pablo Echenique en...   \n",
       "3          1  Sánchez defiende 'resolver el problema' de la ...   \n",
       "4          1  Ian Gibson cierra la lista electoral de la con...   \n",
       "\n",
       "                                               Texto       Fecha Origen  id  \\\n",
       "0  El presidente abre la puerta a unos comicios e...  19/04/2022   Vigo NaN   \n",
       "1  En un escrito, la abogada del Estado Rosa Marí...  17/09/2021   Vigo NaN   \n",
       "2  Este lunes y martes la Asamblea de Madrid acog...  12/09/2022   Vigo NaN   \n",
       "3  Resulta evidente que la ley ha tenido algunos ...  07/02/2023   Vigo NaN   \n",
       "4  El hispanista, que ya ocupó un puesto simbólic...  12/04/2023   Vigo NaN   \n",
       "\n",
       "  Topico Fuente  URL  \n",
       "0    NaN    NaN  NaN  \n",
       "1    NaN    NaN  NaN  \n",
       "2    NaN    NaN  NaN  \n",
       "3    NaN    NaN  NaN  \n",
       "4    NaN    NaN  NaN  "
      ]
     },
     "execution_count": 7,
     "metadata": {},
     "output_type": "execute_result"
    }
   ],
   "source": [
    "df = pd.read_csv(\"../data/data_raw.csv\")\n",
    "df.head()"
   ]
  },
  {
   "cell_type": "markdown",
   "metadata": {},
   "source": [
    "#### Procesamiento de la data"
   ]
  },
  {
   "cell_type": "code",
   "execution_count": 8,
   "metadata": {},
   "outputs": [],
   "source": [
    "df_texto = df[['Categoria', 'Texto']].dropna(subset=['Texto'])\n",
    "df_titulo = df[['Categoria', 'Titulo']].dropna(subset=['Titulo'])"
   ]
  },
  {
   "cell_type": "code",
   "execution_count": 9,
   "metadata": {},
   "outputs": [],
   "source": [
    "df_titulo = df_titulo.rename(columns={'Titulo': 'Texto'})"
   ]
  },
  {
   "cell_type": "code",
   "execution_count": 10,
   "metadata": {},
   "outputs": [
    {
     "data": {
      "text/html": [
       "<div>\n",
       "<style scoped>\n",
       "    .dataframe tbody tr th:only-of-type {\n",
       "        vertical-align: middle;\n",
       "    }\n",
       "\n",
       "    .dataframe tbody tr th {\n",
       "        vertical-align: top;\n",
       "    }\n",
       "\n",
       "    .dataframe thead th {\n",
       "        text-align: right;\n",
       "    }\n",
       "</style>\n",
       "<table border=\"1\" class=\"dataframe\">\n",
       "  <thead>\n",
       "    <tr style=\"text-align: right;\">\n",
       "      <th></th>\n",
       "      <th>clasificacion</th>\n",
       "      <th>texto</th>\n",
       "    </tr>\n",
       "  </thead>\n",
       "  <tbody>\n",
       "    <tr>\n",
       "      <th>0</th>\n",
       "      <td>1</td>\n",
       "      <td>El presidente abre la puerta a unos comicios e...</td>\n",
       "    </tr>\n",
       "    <tr>\n",
       "      <th>1</th>\n",
       "      <td>1</td>\n",
       "      <td>En un escrito, la abogada del Estado Rosa Marí...</td>\n",
       "    </tr>\n",
       "    <tr>\n",
       "      <th>2</th>\n",
       "      <td>0</td>\n",
       "      <td>Este lunes y martes la Asamblea de Madrid acog...</td>\n",
       "    </tr>\n",
       "    <tr>\n",
       "      <th>3</th>\n",
       "      <td>1</td>\n",
       "      <td>Resulta evidente que la ley ha tenido algunos ...</td>\n",
       "    </tr>\n",
       "    <tr>\n",
       "      <th>4</th>\n",
       "      <td>1</td>\n",
       "      <td>El hispanista, que ya ocupó un puesto simbólic...</td>\n",
       "    </tr>\n",
       "    <tr>\n",
       "      <th>5</th>\n",
       "      <td>1</td>\n",
       "      <td>Empieza una intensa semana para el Ejecutivo c...</td>\n",
       "    </tr>\n",
       "    <tr>\n",
       "      <th>6</th>\n",
       "      <td>1</td>\n",
       "      <td>Núñez Feijóo guarda silencio pero Ayuso y Alme...</td>\n",
       "    </tr>\n",
       "    <tr>\n",
       "      <th>7</th>\n",
       "      <td>1</td>\n",
       "      <td>Los socialistas han remarcado que estos trabaj...</td>\n",
       "    </tr>\n",
       "    <tr>\n",
       "      <th>8</th>\n",
       "      <td>1</td>\n",
       "      <td>El ministro de Inclusión, Seguridad Social y M...</td>\n",
       "    </tr>\n",
       "    <tr>\n",
       "      <th>9</th>\n",
       "      <td>1</td>\n",
       "      <td>Izquierda Unida debate y aprueba este sábado s...</td>\n",
       "    </tr>\n",
       "  </tbody>\n",
       "</table>\n",
       "</div>"
      ],
      "text/plain": [
       "   clasificacion                                              texto\n",
       "0              1  El presidente abre la puerta a unos comicios e...\n",
       "1              1  En un escrito, la abogada del Estado Rosa Marí...\n",
       "2              0  Este lunes y martes la Asamblea de Madrid acog...\n",
       "3              1  Resulta evidente que la ley ha tenido algunos ...\n",
       "4              1  El hispanista, que ya ocupó un puesto simbólic...\n",
       "5              1  Empieza una intensa semana para el Ejecutivo c...\n",
       "6              1  Núñez Feijóo guarda silencio pero Ayuso y Alme...\n",
       "7              1  Los socialistas han remarcado que estos trabaj...\n",
       "8              1  El ministro de Inclusión, Seguridad Social y M...\n",
       "9              1  Izquierda Unida debate y aprueba este sábado s..."
      ]
     },
     "execution_count": 10,
     "metadata": {},
     "output_type": "execute_result"
    }
   ],
   "source": [
    "df_final = pd.concat([df_texto, df_titulo], ignore_index=True)\n",
    "df_final= df_final.rename(columns={'Texto': 'texto','Categoria': 'clasificacion'})\n",
    "df_final.head(10)"
   ]
  },
  {
   "cell_type": "code",
   "execution_count": 11,
   "metadata": {},
   "outputs": [],
   "source": [
    "df_final.to_csv('../data/data.csv',index=False)"
   ]
  },
  {
   "cell_type": "markdown",
   "metadata": {},
   "source": [
    "#### Chequeado"
   ]
  },
  {
   "cell_type": "code",
   "execution_count": 12,
   "metadata": {},
   "outputs": [
    {
     "data": {
      "text/html": [
       "<div>\n",
       "<style scoped>\n",
       "    .dataframe tbody tr th:only-of-type {\n",
       "        vertical-align: middle;\n",
       "    }\n",
       "\n",
       "    .dataframe tbody tr th {\n",
       "        vertical-align: top;\n",
       "    }\n",
       "\n",
       "    .dataframe thead th {\n",
       "        text-align: right;\n",
       "    }\n",
       "</style>\n",
       "<table border=\"1\" class=\"dataframe\">\n",
       "  <thead>\n",
       "    <tr style=\"text-align: right;\">\n",
       "      <th></th>\n",
       "      <th>clasificacion</th>\n",
       "      <th>texto</th>\n",
       "    </tr>\n",
       "  </thead>\n",
       "  <tbody>\n",
       "    <tr>\n",
       "      <th>0</th>\n",
       "      <td>Verdadero</td>\n",
       "      <td>No se divulgaron resultados oficiales previos ...</td>\n",
       "    </tr>\n",
       "    <tr>\n",
       "      <th>1</th>\n",
       "      <td>Falso</td>\n",
       "      <td>Se difundieron en redes sociales supuestos pri...</td>\n",
       "    </tr>\n",
       "    <tr>\n",
       "      <th>2</th>\n",
       "      <td>Verdadero</td>\n",
       "      <td>En el balotaje 2023, las boletas con el número...</td>\n",
       "    </tr>\n",
       "    <tr>\n",
       "      <th>3</th>\n",
       "      <td>Falso</td>\n",
       "      <td>En el balotaje 2023, las boletas con el número...</td>\n",
       "    </tr>\n",
       "    <tr>\n",
       "      <th>4</th>\n",
       "      <td>Falso</td>\n",
       "      <td>Miles de usuarios denuncian que, durante la jo...</td>\n",
       "    </tr>\n",
       "  </tbody>\n",
       "</table>\n",
       "</div>"
      ],
      "text/plain": [
       "  clasificacion                                              texto\n",
       "0     Verdadero  No se divulgaron resultados oficiales previos ...\n",
       "1         Falso  Se difundieron en redes sociales supuestos pri...\n",
       "2     Verdadero  En el balotaje 2023, las boletas con el número...\n",
       "3         Falso  En el balotaje 2023, las boletas con el número...\n",
       "4         Falso  Miles de usuarios denuncian que, durante la jo..."
      ]
     },
     "execution_count": 12,
     "metadata": {},
     "output_type": "execute_result"
    }
   ],
   "source": [
    "chequeado = pd.read_csv(\"../data/chequeado_raw.csv\")\n",
    "chequeado.head()"
   ]
  },
  {
   "cell_type": "code",
   "execution_count": 13,
   "metadata": {},
   "outputs": [
    {
     "data": {
      "text/plain": [
       "clasificacion\n",
       "0    1770\n",
       "1     857\n",
       "Name: count, dtype: int64"
      ]
     },
     "execution_count": 13,
     "metadata": {},
     "output_type": "execute_result"
    }
   ],
   "source": [
    "chequeado['clasificacion'] = chequeado['clasificacion'].map({\"Verdadero\": 1, \"Falso\": 0})\n",
    "chequeado.value_counts(\"clasificacion\")"
   ]
  },
  {
   "cell_type": "code",
   "execution_count": 14,
   "metadata": {},
   "outputs": [],
   "source": [
    "chequeado.to_csv('../data/chequeado.csv',index=False)"
   ]
  }
 ],
 "metadata": {
  "kernelspec": {
   "display_name": "Python 3.12.0 64-bit ('3.12.0')",
   "language": "python",
   "name": "python3"
  },
  "language_info": {
   "codemirror_mode": {
    "name": "ipython",
    "version": 3
   },
   "file_extension": ".py",
   "mimetype": "text/x-python",
   "name": "python",
   "nbconvert_exporter": "python",
   "pygments_lexer": "ipython3",
   "version": "3.12.0"
  },
  "orig_nbformat": 4,
  "vscode": {
   "interpreter": {
    "hash": "825df0fcbad1e6ed7e11c1d53fafc04f4a658ad54114578619c88a90b04ca641"
   }
  }
 },
 "nbformat": 4,
 "nbformat_minor": 2
}
