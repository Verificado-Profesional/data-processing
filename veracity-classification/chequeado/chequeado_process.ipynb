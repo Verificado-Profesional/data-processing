{
 "cells": [
  {
   "cell_type": "markdown",
   "metadata": {},
   "source": [
    "### **Procesamiento de Datos de Chequeado**"
   ]
  },
  {
   "cell_type": "code",
   "execution_count": null,
   "metadata": {},
   "outputs": [],
   "source": [
    "import pandas as pd\n",
    "import matplotlib.pyplot as plt\n",
    "import seaborn as sns"
   ]
  },
  {
   "cell_type": "code",
   "execution_count": 2,
   "metadata": {},
   "outputs": [
    {
     "data": {
      "text/html": [
       "<div>\n",
       "<style scoped>\n",
       "    .dataframe tbody tr th:only-of-type {\n",
       "        vertical-align: middle;\n",
       "    }\n",
       "\n",
       "    .dataframe tbody tr th {\n",
       "        vertical-align: top;\n",
       "    }\n",
       "\n",
       "    .dataframe thead th {\n",
       "        text-align: right;\n",
       "    }\n",
       "</style>\n",
       "<table border=\"1\" class=\"dataframe\">\n",
       "  <thead>\n",
       "    <tr style=\"text-align: right;\">\n",
       "      <th></th>\n",
       "      <th>titulo</th>\n",
       "      <th>clasificacion</th>\n",
       "      <th>descripcion</th>\n",
       "    </tr>\n",
       "  </thead>\n",
       "  <tbody>\n",
       "    <tr>\n",
       "      <th>0</th>\n",
       "      <td>Son falsos estos resultados de boca de urna ad...</td>\n",
       "      <td>Falso</td>\n",
       "      <td>Circulan en redes sociales resultados presiden...</td>\n",
       "    </tr>\n",
       "    <tr>\n",
       "      <th>1</th>\n",
       "      <td>No se divulgaron resultados oficiales previos ...</td>\n",
       "      <td>Falso</td>\n",
       "      <td>Se difundieron en redes sociales supuestos pri...</td>\n",
       "    </tr>\n",
       "    <tr>\n",
       "      <th>2</th>\n",
       "      <td>En el balotaje 2023, las boletas con el número...</td>\n",
       "      <td>Falso</td>\n",
       "      <td>Miles de usuarios denuncian que, durante la jo...</td>\n",
       "    </tr>\n",
       "    <tr>\n",
       "      <th>3</th>\n",
       "      <td>Sergio Massa no pronunció la frase “voy a pode...</td>\n",
       "      <td>Falso</td>\n",
       "      <td>Decenas de miles de usuarios comparten una pla...</td>\n",
       "    </tr>\n",
       "    <tr>\n",
       "      <th>4</th>\n",
       "      <td>No, este mural de Lionel Messi no lleva escrit...</td>\n",
       "      <td>Falso</td>\n",
       "      <td>A pocos días del balotaje, miles de usuarios d...</td>\n",
       "    </tr>\n",
       "  </tbody>\n",
       "</table>\n",
       "</div>"
      ],
      "text/plain": [
       "                                              titulo clasificacion  \\\n",
       "0  Son falsos estos resultados de boca de urna ad...         Falso   \n",
       "1  No se divulgaron resultados oficiales previos ...         Falso   \n",
       "2  En el balotaje 2023, las boletas con el número...         Falso   \n",
       "3  Sergio Massa no pronunció la frase “voy a pode...         Falso   \n",
       "4  No, este mural de Lionel Messi no lleva escrit...         Falso   \n",
       "\n",
       "                                         descripcion  \n",
       "0  Circulan en redes sociales resultados presiden...  \n",
       "1  Se difundieron en redes sociales supuestos pri...  \n",
       "2  Miles de usuarios denuncian que, durante la jo...  \n",
       "3  Decenas de miles de usuarios comparten una pla...  \n",
       "4  A pocos días del balotaje, miles de usuarios d...  "
      ]
     },
     "execution_count": 2,
     "metadata": {},
     "output_type": "execute_result"
    }
   ],
   "source": [
    "chequeado = pd.read_csv(\"./data/chequeado.csv\")\n",
    "chequeado.head()"
   ]
  },
  {
   "cell_type": "code",
   "execution_count": 7,
   "metadata": {},
   "outputs": [
    {
     "data": {
      "text/plain": [
       "(3638, 3)"
      ]
     },
     "execution_count": 7,
     "metadata": {},
     "output_type": "execute_result"
    }
   ],
   "source": [
    "chequeado.shape"
   ]
  },
  {
   "cell_type": "code",
   "execution_count": 5,
   "metadata": {},
   "outputs": [],
   "source": [
    "nuevos_textos = []\n",
    "nuevas_clasificaciones = []\n",
    "\n",
    "for index, row in chequeado.iterrows():\n",
    "    nuevos_textos.extend([row['titulo'], row['descripcion']])\n",
    "    nuevas_clasificaciones.extend([row['clasificacion'], row['clasificacion']])\n",
    "\n",
    "chequeado_new = pd.DataFrame({'clasificacion': nuevas_clasificaciones,'texto': nuevos_textos})"
   ]
  },
  {
   "cell_type": "code",
   "execution_count": 6,
   "metadata": {},
   "outputs": [
    {
     "data": {
      "text/html": [
       "<div>\n",
       "<style scoped>\n",
       "    .dataframe tbody tr th:only-of-type {\n",
       "        vertical-align: middle;\n",
       "    }\n",
       "\n",
       "    .dataframe tbody tr th {\n",
       "        vertical-align: top;\n",
       "    }\n",
       "\n",
       "    .dataframe thead th {\n",
       "        text-align: right;\n",
       "    }\n",
       "</style>\n",
       "<table border=\"1\" class=\"dataframe\">\n",
       "  <thead>\n",
       "    <tr style=\"text-align: right;\">\n",
       "      <th></th>\n",
       "      <th>clasificacion</th>\n",
       "      <th>texto</th>\n",
       "    </tr>\n",
       "  </thead>\n",
       "  <tbody>\n",
       "    <tr>\n",
       "      <th>0</th>\n",
       "      <td>Falso</td>\n",
       "      <td>Son falsos estos resultados de boca de urna ad...</td>\n",
       "    </tr>\n",
       "    <tr>\n",
       "      <th>1</th>\n",
       "      <td>Falso</td>\n",
       "      <td>Circulan en redes sociales resultados presiden...</td>\n",
       "    </tr>\n",
       "    <tr>\n",
       "      <th>2</th>\n",
       "      <td>Falso</td>\n",
       "      <td>No se divulgaron resultados oficiales previos ...</td>\n",
       "    </tr>\n",
       "    <tr>\n",
       "      <th>3</th>\n",
       "      <td>Falso</td>\n",
       "      <td>Se difundieron en redes sociales supuestos pri...</td>\n",
       "    </tr>\n",
       "    <tr>\n",
       "      <th>4</th>\n",
       "      <td>Falso</td>\n",
       "      <td>En el balotaje 2023, las boletas con el número...</td>\n",
       "    </tr>\n",
       "    <tr>\n",
       "      <th>5</th>\n",
       "      <td>Falso</td>\n",
       "      <td>Miles de usuarios denuncian que, durante la jo...</td>\n",
       "    </tr>\n",
       "    <tr>\n",
       "      <th>6</th>\n",
       "      <td>Falso</td>\n",
       "      <td>Sergio Massa no pronunció la frase “voy a pode...</td>\n",
       "    </tr>\n",
       "    <tr>\n",
       "      <th>7</th>\n",
       "      <td>Falso</td>\n",
       "      <td>Decenas de miles de usuarios comparten una pla...</td>\n",
       "    </tr>\n",
       "    <tr>\n",
       "      <th>8</th>\n",
       "      <td>Falso</td>\n",
       "      <td>No, este mural de Lionel Messi no lleva escrit...</td>\n",
       "    </tr>\n",
       "    <tr>\n",
       "      <th>9</th>\n",
       "      <td>Falso</td>\n",
       "      <td>A pocos días del balotaje, miles de usuarios d...</td>\n",
       "    </tr>\n",
       "  </tbody>\n",
       "</table>\n",
       "</div>"
      ],
      "text/plain": [
       "  clasificacion                                              texto\n",
       "0         Falso  Son falsos estos resultados de boca de urna ad...\n",
       "1         Falso  Circulan en redes sociales resultados presiden...\n",
       "2         Falso  No se divulgaron resultados oficiales previos ...\n",
       "3         Falso  Se difundieron en redes sociales supuestos pri...\n",
       "4         Falso  En el balotaje 2023, las boletas con el número...\n",
       "5         Falso  Miles de usuarios denuncian que, durante la jo...\n",
       "6         Falso  Sergio Massa no pronunció la frase “voy a pode...\n",
       "7         Falso  Decenas de miles de usuarios comparten una pla...\n",
       "8         Falso  No, este mural de Lionel Messi no lleva escrit...\n",
       "9         Falso  A pocos días del balotaje, miles de usuarios d..."
      ]
     },
     "execution_count": 6,
     "metadata": {},
     "output_type": "execute_result"
    }
   ],
   "source": [
    "chequeado_new.head(10)"
   ]
  },
  {
   "cell_type": "code",
   "execution_count": 8,
   "metadata": {},
   "outputs": [
    {
     "data": {
      "text/plain": [
       "(7276, 2)"
      ]
     },
     "execution_count": 8,
     "metadata": {},
     "output_type": "execute_result"
    }
   ],
   "source": [
    "chequeado_new.shape"
   ]
  },
  {
   "cell_type": "code",
   "execution_count": 9,
   "metadata": {},
   "outputs": [
    {
     "data": {
      "text/plain": [
       "(5647, 2)"
      ]
     },
     "execution_count": 9,
     "metadata": {},
     "output_type": "execute_result"
    }
   ],
   "source": [
    "chequeado_new = chequeado_new.drop_duplicates(subset='texto').dropna()\n",
    "chequeado_new.shape"
   ]
  },
  {
   "cell_type": "code",
   "execution_count": 117,
   "metadata": {},
   "outputs": [],
   "source": [
    "chequeado_new.to_csv(\"./data/chequeado_new.csv\", index=False)"
   ]
  },
  {
   "cell_type": "code",
   "execution_count": 4,
   "metadata": {},
   "outputs": [
    {
     "data": {
      "text/plain": [
       "clasificacion\n",
       "Falso                     2328\n",
       "Verdadero                 1288\n",
       "Engañoso                   612\n",
       "Verdadero, pero…           439\n",
       "Exagerado                  358\n",
       "Insostenible               208\n",
       "Discutible                 175\n",
       "Apresurado                  65\n",
       "Incumplida                  40\n",
       "En proceso, demorada        39\n",
       "En proceso, adelantada      24\n",
       "Fuera de contexto           21\n",
       "Cumplida                    21\n",
       "Inchequeable                20\n",
       "Incumplida con avances       9\n",
       "Name: count, dtype: int64"
      ]
     },
     "execution_count": 4,
     "metadata": {},
     "output_type": "execute_result"
    }
   ],
   "source": [
    "chequeado_new[\"clasificacion\"].value_counts()"
   ]
  },
  {
   "cell_type": "code",
   "execution_count": 5,
   "metadata": {},
   "outputs": [],
   "source": [
    "chequeado_new['clasificacion'] = chequeado_new['clasificacion'].replace(['Engañoso', 'Apresurado','Discutible', 'Exagerado','Insostenible'], 'Falso')\n",
    "chequeado_new['clasificacion'] = chequeado_new['clasificacion'].replace(['Verdadero, pero…'], 'Verdadero')"
   ]
  },
  {
   "cell_type": "code",
   "execution_count": 6,
   "metadata": {},
   "outputs": [
    {
     "data": {
      "text/plain": [
       "clasificacion\n",
       "Falso        3746\n",
       "Verdadero    1727\n",
       "Name: count, dtype: int64"
      ]
     },
     "execution_count": 6,
     "metadata": {},
     "output_type": "execute_result"
    }
   ],
   "source": [
    "valores_permitidos = ['Verdadero', 'Falso']\n",
    "data = chequeado_new[chequeado_new['clasificacion'].isin(valores_permitidos)]\n",
    "data[\"clasificacion\"].value_counts()"
   ]
  },
  {
   "cell_type": "code",
   "execution_count": 7,
   "metadata": {},
   "outputs": [],
   "source": [
    "data.to_csv(\"./data/chequeado_procesado.csv\", index=False)"
   ]
  }
 ],
 "metadata": {
  "kernelspec": {
   "display_name": "Python 3.11.6 64-bit ('3.11.6')",
   "language": "python",
   "name": "python3"
  },
  "language_info": {
   "codemirror_mode": {
    "name": "ipython",
    "version": 3
   },
   "file_extension": ".py",
   "mimetype": "text/x-python",
   "name": "python",
   "nbconvert_exporter": "python",
   "pygments_lexer": "ipython3",
   "version": "3.11.6"
  },
  "orig_nbformat": 4,
  "vscode": {
   "interpreter": {
    "hash": "782c79d677e2551141f8d1a3cba28776c457e14da4c1c018035fe776b1d75b1b"
   }
  }
 },
 "nbformat": 4,
 "nbformat_minor": 2
}
