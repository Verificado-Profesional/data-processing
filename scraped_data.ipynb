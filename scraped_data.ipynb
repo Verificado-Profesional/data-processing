{
 "cells": [
  {
   "cell_type": "markdown",
   "metadata": {},
   "source": [
    "## **Análisis y recopilación de Noticias Falsas**"
   ]
  },
  {
   "cell_type": "markdown",
   "metadata": {},
   "source": [
    "En este Notebook vamos a estar analizando y recopilando información noticias falsas en español. En primer lugar, se hara un estudio de distintos datasets encontrados en la nube.Luego vamos a analizar una gran variedad de datos obtenidos de paginas de fact-checking mediante la tecnica de web scrapping. Finalmente se busca unificar toda la informacion para contar con un corpus robusto de noticias falsas en español.\n",
    "\n",
    "A modo de estandarizar la informacion, se cambiara las labels de la siguiente manera en caso de que corresponda:\n",
    "\n",
    "* True : 1\n",
    "* False : 0"
   ]
  },
  {
   "cell_type": "code",
   "execution_count": 1,
   "metadata": {},
   "outputs": [],
   "source": [
    "import pandas as pd\n",
    "import matplotlib.pyplot as plt"
   ]
  },
  {
   "cell_type": "markdown",
   "metadata": {},
   "source": [
    "## **1. Preparación de datasets preexistentes**"
   ]
  },
  {
   "cell_type": "markdown",
   "metadata": {},
   "source": [
    "**Objetivos de la sección:**\n",
    "\n",
    "*   Unificar nombres de columnas\n",
    "\n",
    "*   Unificar las clasificaciones de *True* o *Fake* por 1 y 0 segun corresponda\n",
    "\n",
    "*   Eliminar columnas sobrantes"
   ]
  },
  {
   "cell_type": "markdown",
   "metadata": {},
   "source": [
    "### **Dataset de la universidad de Vigo**"
   ]
  },
  {
   "cell_type": "markdown",
   "metadata": {},
   "source": [
    "Este conjunto de datos fue creado para un trabajo final de grado en la Universidad de Vigo. Su objetivo era el entrenamiento de un modelo Transformer para la detección de noticias falsas en el ámbito político en español.\n",
    "\n",
    "La carpeta obtenida contaba con los siguientes archivos: \n",
    " * D5500_test.csv\n",
    " * D11000_test.csv\n",
    " * D21000_train.csv\n",
    " * D46000_train.csv\n",
    " * D57000_complete.csv\n",
    "\n",
    "\n",
    "\n",
    "Para mas informacion visitar el siguiente [enlace](https://www.kaggle.com/datasets/javieroterovizoso/spanish-political-fake-news/data)."
   ]
  },
  {
   "cell_type": "code",
   "execution_count": 6,
   "metadata": {},
   "outputs": [
    {
     "data": {
      "text/html": [
       "<div>\n",
       "<style scoped>\n",
       "    .dataframe tbody tr th:only-of-type {\n",
       "        vertical-align: middle;\n",
       "    }\n",
       "\n",
       "    .dataframe tbody tr th {\n",
       "        vertical-align: top;\n",
       "    }\n",
       "\n",
       "    .dataframe thead th {\n",
       "        text-align: right;\n",
       "    }\n",
       "</style>\n",
       "<table border=\"1\" class=\"dataframe\">\n",
       "  <thead>\n",
       "    <tr style=\"text-align: right;\">\n",
       "      <th></th>\n",
       "      <th>Categoria</th>\n",
       "      <th>Titulo</th>\n",
       "      <th>Texto</th>\n",
       "      <th>Fecha</th>\n",
       "    </tr>\n",
       "  </thead>\n",
       "  <tbody>\n",
       "    <tr>\n",
       "      <th>ID</th>\n",
       "      <td>1</td>\n",
       "      <td>Moreno intenta apaciguar el flanco sanitario m...</td>\n",
       "      <td>El presidente abre la puerta a unos comicios e...</td>\n",
       "      <td>19/04/2022</td>\n",
       "    </tr>\n",
       "    <tr>\n",
       "      <th>ID</th>\n",
       "      <td>1</td>\n",
       "      <td>La Abogacía del Estado se retira como acusació...</td>\n",
       "      <td>En un escrito, la abogada del Estado Rosa Marí...</td>\n",
       "      <td>17/09/2021</td>\n",
       "    </tr>\n",
       "    <tr>\n",
       "      <th>ID</th>\n",
       "      <td>0</td>\n",
       "      <td>Las promesas incumplidas de Pablo Echenique en...</td>\n",
       "      <td>Este lunes y martes la Asamblea de Madrid acog...</td>\n",
       "      <td>12/09/2022</td>\n",
       "    </tr>\n",
       "    <tr>\n",
       "      <th>ID</th>\n",
       "      <td>1</td>\n",
       "      <td>Sánchez defiende 'resolver el problema' de la ...</td>\n",
       "      <td>Resulta evidente que la ley ha tenido algunos ...</td>\n",
       "      <td>07/02/2023</td>\n",
       "    </tr>\n",
       "    <tr>\n",
       "      <th>ID</th>\n",
       "      <td>1</td>\n",
       "      <td>Ian Gibson cierra la lista electoral de la con...</td>\n",
       "      <td>El hispanista, que ya ocupó un puesto simbólic...</td>\n",
       "      <td>12/04/2023</td>\n",
       "    </tr>\n",
       "  </tbody>\n",
       "</table>\n",
       "</div>"
      ],
      "text/plain": [
       "    Categoria                                             Titulo  \\\n",
       "ID          1  Moreno intenta apaciguar el flanco sanitario m...   \n",
       "ID          1  La Abogacía del Estado se retira como acusació...   \n",
       "ID          0  Las promesas incumplidas de Pablo Echenique en...   \n",
       "ID          1  Sánchez defiende 'resolver el problema' de la ...   \n",
       "ID          1  Ian Gibson cierra la lista electoral de la con...   \n",
       "\n",
       "                                                Texto       Fecha  \n",
       "ID  El presidente abre la puerta a unos comicios e...  19/04/2022  \n",
       "ID  En un escrito, la abogada del Estado Rosa Marí...  17/09/2021  \n",
       "ID  Este lunes y martes la Asamblea de Madrid acog...  12/09/2022  \n",
       "ID  Resulta evidente que la ley ha tenido algunos ...  07/02/2023  \n",
       "ID  El hispanista, que ya ocupó un puesto simbólic...  12/04/2023  "
      ]
     },
     "execution_count": 6,
     "metadata": {},
     "output_type": "execute_result"
    }
   ],
   "source": [
    "vigo = pd.read_csv('data/Vigo/D57000_complete.csv',sep=';',names=['Categoria', 'Titulo', 'Texto', 'Fecha'], header=0)\n",
    "vigo.head()"
   ]
  },
  {
   "cell_type": "code",
   "execution_count": 8,
   "metadata": {},
   "outputs": [
    {
     "data": {
      "text/plain": [
       "(57231, 4)"
      ]
     },
     "execution_count": 8,
     "metadata": {},
     "output_type": "execute_result"
    }
   ],
   "source": [
    "vigo.shape"
   ]
  },
  {
   "cell_type": "code",
   "execution_count": 22,
   "metadata": {},
   "outputs": [
    {
     "data": {
      "text/plain": [
       "Categoria\n",
       "1    33351\n",
       "0    23880\n",
       "Name: count, dtype: int64"
      ]
     },
     "execution_count": 22,
     "metadata": {},
     "output_type": "execute_result"
    }
   ],
   "source": [
    "vigo[\"Categoria\"].value_counts()"
   ]
  },
  {
   "cell_type": "code",
   "execution_count": 10,
   "metadata": {},
   "outputs": [],
   "source": [
    "v1 = pd.read_csv('data/Vigo/D57000_complete.csv',sep=';',names=['Categoria', 'Titulo', 'Texto', 'Fecha'], header=0)\n",
    "v2 = pd.read_csv('data/Vigo/D11000_test.csv',sep=';',names=['Categoria', 'Titulo', 'Texto', 'Fecha'], header=0)\n",
    "v3 = pd.read_csv('data/Vigo/D21000_train.csv',sep=';',names=['Categoria', 'Titulo', 'Texto', 'Fecha'], header=0)\n",
    "v4 = pd.read_csv('data/Vigo/D46000_train.csv',sep=';',names=['Categoria', 'Titulo', 'Texto', 'Fecha'], header=0)\n",
    "v5 = pd.read_csv('data/Vigo/D5500_test.csv',sep=';',names=['Categoria', 'Titulo', 'Texto', 'Fecha'], header=0)\n"
   ]
  },
  {
   "cell_type": "code",
   "execution_count": 36,
   "metadata": {},
   "outputs": [
    {
     "data": {
      "text/plain": [
       "(141139, 4)"
      ]
     },
     "execution_count": 36,
     "metadata": {},
     "output_type": "execute_result"
    }
   ],
   "source": [
    "v_union = pd.concat([v1, v2,v3,v4,v5], ignore_index=True)\n",
    "v_union.shape"
   ]
  },
  {
   "cell_type": "code",
   "execution_count": 43,
   "metadata": {},
   "outputs": [
    {
     "data": {
      "text/plain": [
       "(60555, 4)"
      ]
     },
     "execution_count": 43,
     "metadata": {},
     "output_type": "execute_result"
    }
   ],
   "source": [
    "v_sin_duplicados = v_union.drop_duplicates(subset=[\"Titulo\"])\n",
    "v_sin_duplicados.shape"
   ]
  },
  {
   "cell_type": "code",
   "execution_count": 48,
   "metadata": {},
   "outputs": [],
   "source": [
    "vigo[\"Origen\"] = \"Vigo\""
   ]
  },
  {
   "cell_type": "code",
   "execution_count": 93,
   "metadata": {},
   "outputs": [],
   "source": [
    "vigo.to_csv(\"data.csv\", index=False)"
   ]
  },
  {
   "cell_type": "markdown",
   "metadata": {},
   "source": [
    "### **Dataset de la Universidad de Madrid**\n"
   ]
  },
  {
   "cell_type": "markdown",
   "metadata": {},
   "source": [
    "Este dataset fue realizado durante la elaboración del trabajo de fin de máster en ciberseguridad de la universidad politécnica de madrid con el fin de identificar fake news de real news.\n",
    "\n",
    "La carpeta obtenida contaba con los siguientes archivos: \n",
    " * spanishFakeNews.csv\n",
    " * testSpanishFakeNews.csv\n",
    "\n",
    "\n",
    "\n",
    "Para mas informacion visitar el siguiente [enlace](https://www.kaggle.com/datasets/zulanac/fake-and-real-news)."
   ]
  },
  {
   "cell_type": "code",
   "execution_count": 94,
   "metadata": {},
   "outputs": [
    {
     "data": {
      "text/html": [
       "<div>\n",
       "<style scoped>\n",
       "    .dataframe tbody tr th:only-of-type {\n",
       "        vertical-align: middle;\n",
       "    }\n",
       "\n",
       "    .dataframe tbody tr th {\n",
       "        vertical-align: top;\n",
       "    }\n",
       "\n",
       "    .dataframe thead th {\n",
       "        text-align: right;\n",
       "    }\n",
       "</style>\n",
       "<table border=\"1\" class=\"dataframe\">\n",
       "  <thead>\n",
       "    <tr style=\"text-align: right;\">\n",
       "      <th></th>\n",
       "      <th>Texto</th>\n",
       "      <th>Categoria</th>\n",
       "    </tr>\n",
       "  </thead>\n",
       "  <tbody>\n",
       "    <tr>\n",
       "      <th>0</th>\n",
       "      <td>El año pasado la Ciudad de México se estremeci...</td>\n",
       "      <td>fake</td>\n",
       "    </tr>\n",
       "    <tr>\n",
       "      <th>1</th>\n",
       "      <td>Manuela Carmena pide a los madrileños que guar...</td>\n",
       "      <td>fake</td>\n",
       "    </tr>\n",
       "    <tr>\n",
       "      <th>2</th>\n",
       "      <td>Una fuerte sorpresa se llevó el todavía presid...</td>\n",
       "      <td>fake</td>\n",
       "    </tr>\n",
       "    <tr>\n",
       "      <th>3</th>\n",
       "      <td>La 1 de Televisión Española repitió ayer como ...</td>\n",
       "      <td>fake</td>\n",
       "    </tr>\n",
       "    <tr>\n",
       "      <th>4</th>\n",
       "      <td>685 curas católicos fueron acusados de abuso s...</td>\n",
       "      <td>real</td>\n",
       "    </tr>\n",
       "  </tbody>\n",
       "</table>\n",
       "</div>"
      ],
      "text/plain": [
       "                                               Texto Categoria\n",
       "0  El año pasado la Ciudad de México se estremeci...      fake\n",
       "1  Manuela Carmena pide a los madrileños que guar...      fake\n",
       "2  Una fuerte sorpresa se llevó el todavía presid...      fake\n",
       "3  La 1 de Televisión Española repitió ayer como ...      fake\n",
       "4  685 curas católicos fueron acusados de abuso s...      real"
      ]
     },
     "execution_count": 94,
     "metadata": {},
     "output_type": "execute_result"
    }
   ],
   "source": [
    "madrid = pd.read_csv(\"data/Madrid/spanishFakeNews.csv\",names=['Texto','Categoria'],header=0)\n",
    "madrid.head()"
   ]
  },
  {
   "cell_type": "code",
   "execution_count": 52,
   "metadata": {},
   "outputs": [
    {
     "data": {
      "text/plain": [
       "(538, 2)"
      ]
     },
     "execution_count": 52,
     "metadata": {},
     "output_type": "execute_result"
    }
   ],
   "source": [
    "madrid.shape"
   ]
  },
  {
   "cell_type": "code",
   "execution_count": 95,
   "metadata": {},
   "outputs": [
    {
     "data": {
      "text/plain": [
       "Categoria\n",
       "1    305\n",
       "0    233\n",
       "Name: count, dtype: int64"
      ]
     },
     "execution_count": 95,
     "metadata": {},
     "output_type": "execute_result"
    }
   ],
   "source": [
    "madrid['Categoria'] = madrid['Categoria'].replace({'real': 1 , 'fake': 0})\n",
    "madrid['Categoria'].value_counts()"
   ]
  },
  {
   "cell_type": "code",
   "execution_count": 96,
   "metadata": {},
   "outputs": [],
   "source": [
    "madrid_test = pd.read_csv(\"data/Madrid/testSpanishFakeNews.csv\",names=['Texto','Categoria'],header=0)\n",
    "madrid_test['Categoria'] = madrid_test['Categoria'].replace({'real': 1 , 'fake': 0})"
   ]
  },
  {
   "cell_type": "code",
   "execution_count": 97,
   "metadata": {},
   "outputs": [
    {
     "data": {
      "text/plain": [
       "Categoria\n",
       "1    34\n",
       "0    26\n",
       "Name: count, dtype: int64"
      ]
     },
     "execution_count": 97,
     "metadata": {},
     "output_type": "execute_result"
    }
   ],
   "source": [
    "madrid_test['Categoria'].value_counts()"
   ]
  },
  {
   "cell_type": "code",
   "execution_count": 98,
   "metadata": {},
   "outputs": [
    {
     "data": {
      "text/html": [
       "<div>\n",
       "<style scoped>\n",
       "    .dataframe tbody tr th:only-of-type {\n",
       "        vertical-align: middle;\n",
       "    }\n",
       "\n",
       "    .dataframe tbody tr th {\n",
       "        vertical-align: top;\n",
       "    }\n",
       "\n",
       "    .dataframe thead th {\n",
       "        text-align: right;\n",
       "    }\n",
       "</style>\n",
       "<table border=\"1\" class=\"dataframe\">\n",
       "  <thead>\n",
       "    <tr style=\"text-align: right;\">\n",
       "      <th></th>\n",
       "      <th>Texto</th>\n",
       "      <th>Categoria</th>\n",
       "    </tr>\n",
       "  </thead>\n",
       "  <tbody>\n",
       "    <tr>\n",
       "      <th>0</th>\n",
       "      <td>El año pasado la Ciudad de México se estremeci...</td>\n",
       "      <td>0</td>\n",
       "    </tr>\n",
       "    <tr>\n",
       "      <th>1</th>\n",
       "      <td>Manuela Carmena pide a los madrileños que guar...</td>\n",
       "      <td>0</td>\n",
       "    </tr>\n",
       "    <tr>\n",
       "      <th>2</th>\n",
       "      <td>Una fuerte sorpresa se llevó el todavía presid...</td>\n",
       "      <td>0</td>\n",
       "    </tr>\n",
       "    <tr>\n",
       "      <th>3</th>\n",
       "      <td>La 1 de Televisión Española repitió ayer como ...</td>\n",
       "      <td>0</td>\n",
       "    </tr>\n",
       "    <tr>\n",
       "      <th>4</th>\n",
       "      <td>685 curas católicos fueron acusados de abuso s...</td>\n",
       "      <td>1</td>\n",
       "    </tr>\n",
       "    <tr>\n",
       "      <th>...</th>\n",
       "      <td>...</td>\n",
       "      <td>...</td>\n",
       "    </tr>\n",
       "    <tr>\n",
       "      <th>593</th>\n",
       "      <td>Francia anunció la detención en Yibuti de Pete...</td>\n",
       "      <td>1</td>\n",
       "    </tr>\n",
       "    <tr>\n",
       "      <th>594</th>\n",
       "      <td>La UDA competirá en los Juegos Nacionales Inte...</td>\n",
       "      <td>1</td>\n",
       "    </tr>\n",
       "    <tr>\n",
       "      <th>595</th>\n",
       "      <td>El presidente estadounidense Donald Trump rech...</td>\n",
       "      <td>1</td>\n",
       "    </tr>\n",
       "    <tr>\n",
       "      <th>596</th>\n",
       "      <td>Mundo México deporta a 98 migrantes centroamer...</td>\n",
       "      <td>1</td>\n",
       "    </tr>\n",
       "    <tr>\n",
       "      <th>597</th>\n",
       "      <td>En la India puedes pagar para entrar a una bod...</td>\n",
       "      <td>1</td>\n",
       "    </tr>\n",
       "  </tbody>\n",
       "</table>\n",
       "<p>598 rows × 2 columns</p>\n",
       "</div>"
      ],
      "text/plain": [
       "                                                 Texto  Categoria\n",
       "0    El año pasado la Ciudad de México se estremeci...          0\n",
       "1    Manuela Carmena pide a los madrileños que guar...          0\n",
       "2    Una fuerte sorpresa se llevó el todavía presid...          0\n",
       "3    La 1 de Televisión Española repitió ayer como ...          0\n",
       "4    685 curas católicos fueron acusados de abuso s...          1\n",
       "..                                                 ...        ...\n",
       "593  Francia anunció la detención en Yibuti de Pete...          1\n",
       "594  La UDA competirá en los Juegos Nacionales Inte...          1\n",
       "595  El presidente estadounidense Donald Trump rech...          1\n",
       "596  Mundo México deporta a 98 migrantes centroamer...          1\n",
       "597  En la India puedes pagar para entrar a una bod...          1\n",
       "\n",
       "[598 rows x 2 columns]"
      ]
     },
     "execution_count": 98,
     "metadata": {},
     "output_type": "execute_result"
    }
   ],
   "source": [
    "m_union = pd.concat([madrid,madrid_test], ignore_index=True)\n",
    "m_union"
   ]
  },
  {
   "cell_type": "code",
   "execution_count": 99,
   "metadata": {},
   "outputs": [
    {
     "data": {
      "text/plain": [
       "(598, 2)"
      ]
     },
     "execution_count": 99,
     "metadata": {},
     "output_type": "execute_result"
    }
   ],
   "source": [
    "m_sin_duplicados = m_union.drop_duplicates()\n",
    "m_sin_duplicados.shape"
   ]
  },
  {
   "cell_type": "code",
   "execution_count": 100,
   "metadata": {},
   "outputs": [
    {
     "data": {
      "text/html": [
       "<div>\n",
       "<style scoped>\n",
       "    .dataframe tbody tr th:only-of-type {\n",
       "        vertical-align: middle;\n",
       "    }\n",
       "\n",
       "    .dataframe tbody tr th {\n",
       "        vertical-align: top;\n",
       "    }\n",
       "\n",
       "    .dataframe thead th {\n",
       "        text-align: right;\n",
       "    }\n",
       "</style>\n",
       "<table border=\"1\" class=\"dataframe\">\n",
       "  <thead>\n",
       "    <tr style=\"text-align: right;\">\n",
       "      <th></th>\n",
       "      <th>Texto</th>\n",
       "      <th>Categoria</th>\n",
       "      <th>Origen</th>\n",
       "    </tr>\n",
       "  </thead>\n",
       "  <tbody>\n",
       "    <tr>\n",
       "      <th>0</th>\n",
       "      <td>El año pasado la Ciudad de México se estremeci...</td>\n",
       "      <td>0</td>\n",
       "      <td>Madrid</td>\n",
       "    </tr>\n",
       "    <tr>\n",
       "      <th>1</th>\n",
       "      <td>Manuela Carmena pide a los madrileños que guar...</td>\n",
       "      <td>0</td>\n",
       "      <td>Madrid</td>\n",
       "    </tr>\n",
       "    <tr>\n",
       "      <th>2</th>\n",
       "      <td>Una fuerte sorpresa se llevó el todavía presid...</td>\n",
       "      <td>0</td>\n",
       "      <td>Madrid</td>\n",
       "    </tr>\n",
       "    <tr>\n",
       "      <th>3</th>\n",
       "      <td>La 1 de Televisión Española repitió ayer como ...</td>\n",
       "      <td>0</td>\n",
       "      <td>Madrid</td>\n",
       "    </tr>\n",
       "    <tr>\n",
       "      <th>4</th>\n",
       "      <td>685 curas católicos fueron acusados de abuso s...</td>\n",
       "      <td>1</td>\n",
       "      <td>Madrid</td>\n",
       "    </tr>\n",
       "    <tr>\n",
       "      <th>...</th>\n",
       "      <td>...</td>\n",
       "      <td>...</td>\n",
       "      <td>...</td>\n",
       "    </tr>\n",
       "    <tr>\n",
       "      <th>593</th>\n",
       "      <td>Francia anunció la detención en Yibuti de Pete...</td>\n",
       "      <td>1</td>\n",
       "      <td>Madrid</td>\n",
       "    </tr>\n",
       "    <tr>\n",
       "      <th>594</th>\n",
       "      <td>La UDA competirá en los Juegos Nacionales Inte...</td>\n",
       "      <td>1</td>\n",
       "      <td>Madrid</td>\n",
       "    </tr>\n",
       "    <tr>\n",
       "      <th>595</th>\n",
       "      <td>El presidente estadounidense Donald Trump rech...</td>\n",
       "      <td>1</td>\n",
       "      <td>Madrid</td>\n",
       "    </tr>\n",
       "    <tr>\n",
       "      <th>596</th>\n",
       "      <td>Mundo México deporta a 98 migrantes centroamer...</td>\n",
       "      <td>1</td>\n",
       "      <td>Madrid</td>\n",
       "    </tr>\n",
       "    <tr>\n",
       "      <th>597</th>\n",
       "      <td>En la India puedes pagar para entrar a una bod...</td>\n",
       "      <td>1</td>\n",
       "      <td>Madrid</td>\n",
       "    </tr>\n",
       "  </tbody>\n",
       "</table>\n",
       "<p>598 rows × 3 columns</p>\n",
       "</div>"
      ],
      "text/plain": [
       "                                                 Texto  Categoria  Origen\n",
       "0    El año pasado la Ciudad de México se estremeci...          0  Madrid\n",
       "1    Manuela Carmena pide a los madrileños que guar...          0  Madrid\n",
       "2    Una fuerte sorpresa se llevó el todavía presid...          0  Madrid\n",
       "3    La 1 de Televisión Española repitió ayer como ...          0  Madrid\n",
       "4    685 curas católicos fueron acusados de abuso s...          1  Madrid\n",
       "..                                                 ...        ...     ...\n",
       "593  Francia anunció la detención en Yibuti de Pete...          1  Madrid\n",
       "594  La UDA competirá en los Juegos Nacionales Inte...          1  Madrid\n",
       "595  El presidente estadounidense Donald Trump rech...          1  Madrid\n",
       "596  Mundo México deporta a 98 migrantes centroamer...          1  Madrid\n",
       "597  En la India puedes pagar para entrar a una bod...          1  Madrid\n",
       "\n",
       "[598 rows x 3 columns]"
      ]
     },
     "execution_count": 100,
     "metadata": {},
     "output_type": "execute_result"
    }
   ],
   "source": [
    "m_sin_duplicados[\"Origen\"] = \"Madrid\"\n",
    "m_sin_duplicados"
   ]
  },
  {
   "cell_type": "code",
   "execution_count": 78,
   "metadata": {},
   "outputs": [],
   "source": [
    "def read_and_concat(ruta,data):\n",
    "    df = pd.read_csv(ruta)\n",
    "    df_actualizado = pd.concat([df, data], ignore_index=True)\n",
    "    df_actualizado.to_csv(ruta, index=False)\n",
    "    print(df_actualizado.shape)"
   ]
  },
  {
   "cell_type": "code",
   "execution_count": 101,
   "metadata": {},
   "outputs": [
    {
     "name": "stdout",
     "output_type": "stream",
     "text": [
      "(57829, 5)\n"
     ]
    }
   ],
   "source": [
    "read_and_concat(\"data.csv\",m_sin_duplicados)"
   ]
  },
  {
   "cell_type": "markdown",
   "metadata": {},
   "source": [
    "### **Dataset de Kaggle**"
   ]
  },
  {
   "cell_type": "markdown",
   "metadata": {},
   "source": [
    "Este conjunto de datos fue encontrado en la plataforma Kaggle bajo el nombre *noticias falsas en español*, su autor es Arsenii Tretiakov.\n",
    "\n",
    "La carpeta obtenida contaba con los siguientes archivos: \n",
    " * fakes1000.csv\n",
    " * onlyfakes.csv\n",
    " * onlytrue.csv\n",
    " * train.csv\n",
    " * test.csv\n",
    "\n",
    "\n",
    "\n",
    "Para mas informacion visitar el siguiente [enlace](https://www.kaggle.com/datasets/arseniitretiakov/noticias-falsas-en-espaol/data)"
   ]
  },
  {
   "cell_type": "code",
   "execution_count": 104,
   "metadata": {},
   "outputs": [
    {
     "data": {
      "text/html": [
       "<div>\n",
       "<style scoped>\n",
       "    .dataframe tbody tr th:only-of-type {\n",
       "        vertical-align: middle;\n",
       "    }\n",
       "\n",
       "    .dataframe tbody tr th {\n",
       "        vertical-align: top;\n",
       "    }\n",
       "\n",
       "    .dataframe thead th {\n",
       "        text-align: right;\n",
       "    }\n",
       "</style>\n",
       "<table border=\"1\" class=\"dataframe\">\n",
       "  <thead>\n",
       "    <tr style=\"text-align: right;\">\n",
       "      <th></th>\n",
       "      <th>class</th>\n",
       "      <th>Text</th>\n",
       "    </tr>\n",
       "  </thead>\n",
       "  <tbody>\n",
       "    <tr>\n",
       "      <th>0</th>\n",
       "      <td>True</td>\n",
       "      <td>Algunas de las voces extremistas más conocida...</td>\n",
       "    </tr>\n",
       "    <tr>\n",
       "      <th>1</th>\n",
       "      <td>True</td>\n",
       "      <td>Después de casi dos años y medio de luchas po...</td>\n",
       "    </tr>\n",
       "    <tr>\n",
       "      <th>2</th>\n",
       "      <td>True</td>\n",
       "      <td>Dos periodistas birmanos de la agencia Reuter...</td>\n",
       "    </tr>\n",
       "    <tr>\n",
       "      <th>3</th>\n",
       "      <td>True</td>\n",
       "      <td>El Cuerpo Nacional de Policía ha detenido a c...</td>\n",
       "    </tr>\n",
       "    <tr>\n",
       "      <th>4</th>\n",
       "      <td>True</td>\n",
       "      <td>El desfile de la firma en Roma se convierte e...</td>\n",
       "    </tr>\n",
       "    <tr>\n",
       "      <th>...</th>\n",
       "      <td>...</td>\n",
       "      <td>...</td>\n",
       "    </tr>\n",
       "    <tr>\n",
       "      <th>1995</th>\n",
       "      <td>True</td>\n",
       "      <td>El Consejo de Gobierno ha dado su visto bueno...</td>\n",
       "    </tr>\n",
       "    <tr>\n",
       "      <th>1996</th>\n",
       "      <td>True</td>\n",
       "      <td>Investigadores valencianos han desarrollado u...</td>\n",
       "    </tr>\n",
       "    <tr>\n",
       "      <th>1997</th>\n",
       "      <td>True</td>\n",
       "      <td>Los arrestados actuaban en coches y en establ...</td>\n",
       "    </tr>\n",
       "    <tr>\n",
       "      <th>1998</th>\n",
       "      <td>True</td>\n",
       "      <td>El Rey ha encargado este miércoles a Pedro Sá...</td>\n",
       "    </tr>\n",
       "    <tr>\n",
       "      <th>1999</th>\n",
       "      <td>True</td>\n",
       "      <td>Las pruebas realizadas en el Centro Nacional ...</td>\n",
       "    </tr>\n",
       "  </tbody>\n",
       "</table>\n",
       "<p>2000 rows × 2 columns</p>\n",
       "</div>"
      ],
      "text/plain": [
       "      class                                               Text\n",
       "0      True   Algunas de las voces extremistas más conocida...\n",
       "1      True   Después de casi dos años y medio de luchas po...\n",
       "2      True   Dos periodistas birmanos de la agencia Reuter...\n",
       "3      True   El Cuerpo Nacional de Policía ha detenido a c...\n",
       "4      True   El desfile de la firma en Roma se convierte e...\n",
       "...     ...                                                ...\n",
       "1995   True   El Consejo de Gobierno ha dado su visto bueno...\n",
       "1996   True   Investigadores valencianos han desarrollado u...\n",
       "1997   True   Los arrestados actuaban en coches y en establ...\n",
       "1998   True   El Rey ha encargado este miércoles a Pedro Sá...\n",
       "1999   True   Las pruebas realizadas en el Centro Nacional ...\n",
       "\n",
       "[2000 rows x 2 columns]"
      ]
     },
     "execution_count": 104,
     "metadata": {},
     "output_type": "execute_result"
    }
   ],
   "source": [
    "kaggle = pd.read_csv(\"data/Kaggle/fakes1000.csv\")\n",
    "kaggle"
   ]
  },
  {
   "cell_type": "code",
   "execution_count": 115,
   "metadata": {},
   "outputs": [
    {
     "data": {
      "text/plain": [
       "class\n",
       "True     1000\n",
       "False    1000\n",
       "Name: count, dtype: int64"
      ]
     },
     "execution_count": 115,
     "metadata": {},
     "output_type": "execute_result"
    }
   ],
   "source": [
    "kaggle[\"class\"].value_counts()"
   ]
  },
  {
   "cell_type": "code",
   "execution_count": 126,
   "metadata": {},
   "outputs": [],
   "source": [
    "k1 = pd.read_csv(\"data/Kaggle/fakes1000.csv\",names=['Categoria','Texto'],header=0)"
   ]
  },
  {
   "cell_type": "code",
   "execution_count": 171,
   "metadata": {},
   "outputs": [
    {
     "data": {
      "text/html": [
       "<div>\n",
       "<style scoped>\n",
       "    .dataframe tbody tr th:only-of-type {\n",
       "        vertical-align: middle;\n",
       "    }\n",
       "\n",
       "    .dataframe tbody tr th {\n",
       "        vertical-align: top;\n",
       "    }\n",
       "\n",
       "    .dataframe thead th {\n",
       "        text-align: right;\n",
       "    }\n",
       "</style>\n",
       "<table border=\"1\" class=\"dataframe\">\n",
       "  <thead>\n",
       "    <tr style=\"text-align: right;\">\n",
       "      <th></th>\n",
       "      <th>title</th>\n",
       "      <th>text</th>\n",
       "    </tr>\n",
       "  </thead>\n",
       "  <tbody>\n",
       "    <tr>\n",
       "      <th>0</th>\n",
       "      <td>Podemos estudia en su programa playas para muj...</td>\n",
       "      <td>Spanish nationalism rabid that a Catalan compa...</td>\n",
       "    </tr>\n",
       "    <tr>\n",
       "      <th>1</th>\n",
       "      <td>Alemania va a quitar los hijos a los padres po...</td>\n",
       "      <td>Su amante, llamó al marido llorando y le contó...</td>\n",
       "    </tr>\n",
       "    <tr>\n",
       "      <th>2</th>\n",
       "      <td>Valencia multará los balcones con banderas por...</td>\n",
       "      <td>SUBEN LAS PENSIONES 1 EURO Y SUBEN EL RECIBO D...</td>\n",
       "    </tr>\n",
       "    <tr>\n",
       "      <th>3</th>\n",
       "      <td>Un directivo de Hazte Oír se besa con una muje...</td>\n",
       "      <td>Suecia está haciendo un experimento, ha reduci...</td>\n",
       "    </tr>\n",
       "    <tr>\n",
       "      <th>4</th>\n",
       "      <td>Iglesias y Montero se compran también un apart...</td>\n",
       "      <td>Suecia sigue avanzando hacia su islamización. ...</td>\n",
       "    </tr>\n",
       "  </tbody>\n",
       "</table>\n",
       "</div>"
      ],
      "text/plain": [
       "                                               title  \\\n",
       "0  Podemos estudia en su programa playas para muj...   \n",
       "1  Alemania va a quitar los hijos a los padres po...   \n",
       "2  Valencia multará los balcones con banderas por...   \n",
       "3  Un directivo de Hazte Oír se besa con una muje...   \n",
       "4  Iglesias y Montero se compran también un apart...   \n",
       "\n",
       "                                                text  \n",
       "0  Spanish nationalism rabid that a Catalan compa...  \n",
       "1  Su amante, llamó al marido llorando y le contó...  \n",
       "2  SUBEN LAS PENSIONES 1 EURO Y SUBEN EL RECIBO D...  \n",
       "3  Suecia está haciendo un experimento, ha reduci...  \n",
       "4  Suecia sigue avanzando hacia su islamización. ...  "
      ]
     },
     "execution_count": 171,
     "metadata": {},
     "output_type": "execute_result"
    }
   ],
   "source": [
    "k2 = pd.read_csv(\"data/Kaggle/test.csv\")\n",
    "k2.head()"
   ]
  },
  {
   "cell_type": "code",
   "execution_count": 136,
   "metadata": {},
   "outputs": [
    {
     "data": {
      "text/html": [
       "<div>\n",
       "<style scoped>\n",
       "    .dataframe tbody tr th:only-of-type {\n",
       "        vertical-align: middle;\n",
       "    }\n",
       "\n",
       "    .dataframe tbody tr th {\n",
       "        vertical-align: top;\n",
       "    }\n",
       "\n",
       "    .dataframe thead th {\n",
       "        text-align: right;\n",
       "    }\n",
       "</style>\n",
       "<table border=\"1\" class=\"dataframe\">\n",
       "  <thead>\n",
       "    <tr style=\"text-align: right;\">\n",
       "      <th></th>\n",
       "      <th>Titulo</th>\n",
       "      <th>Texto</th>\n",
       "      <th>Categoria</th>\n",
       "    </tr>\n",
       "  </thead>\n",
       "  <tbody>\n",
       "    <tr>\n",
       "      <th>0</th>\n",
       "      <td>NaN</td>\n",
       "      <td>El suceso ha tenido lugar en Brasil. Un adole...</td>\n",
       "      <td>1</td>\n",
       "    </tr>\n",
       "    <tr>\n",
       "      <th>1</th>\n",
       "      <td>\"La quimioterapia mata a la gente y no al cánc...</td>\n",
       "      <td>Estamos en la semana decisiva. Los expertos a...</td>\n",
       "      <td>1</td>\n",
       "    </tr>\n",
       "    <tr>\n",
       "      <th>2</th>\n",
       "      <td>Los Cubos De Caldo Para Cocinar Son Veneno Par...</td>\n",
       "      <td>Estudios científicos hay muchos. Unos nos int...</td>\n",
       "      <td>1</td>\n",
       "    </tr>\n",
       "    <tr>\n",
       "      <th>3</th>\n",
       "      <td>MEGATERREMOTO EN LOS PRÓXIMOS DÍAS ALINEACIÓN ...</td>\n",
       "      <td>Ha sucedido en la ciudad de San José de Río P...</td>\n",
       "      <td>1</td>\n",
       "    </tr>\n",
       "    <tr>\n",
       "      <th>4</th>\n",
       "      <td>¡Qué injusticia! El perro que defendió su casa...</td>\n",
       "      <td>La fiesta en Sevilla por el vuelco electoral ...</td>\n",
       "      <td>1</td>\n",
       "    </tr>\n",
       "    <tr>\n",
       "      <th>...</th>\n",
       "      <td>...</td>\n",
       "      <td>...</td>\n",
       "      <td>...</td>\n",
       "    </tr>\n",
       "    <tr>\n",
       "      <th>1595</th>\n",
       "      <td>El 81% de las familias españolas prefieren los...</td>\n",
       "      <td>Recuperamos la historia de Aleixandra, la jove...</td>\n",
       "      <td>0</td>\n",
       "    </tr>\n",
       "    <tr>\n",
       "      <th>1596</th>\n",
       "      <td>AEGC denuncia una frontera desprotegida por fa...</td>\n",
       "      <td>Reproches, tensión y sinceridad: la comida en ...</td>\n",
       "      <td>0</td>\n",
       "    </tr>\n",
       "    <tr>\n",
       "      <th>1597</th>\n",
       "      <td>Huawei fía su supervivencia a la innovación</td>\n",
       "      <td>RT @ElMundoOpinion: \"PSOE, PP, Ciudadanos y Vo...</td>\n",
       "      <td>0</td>\n",
       "    </tr>\n",
       "    <tr>\n",
       "      <th>1598</th>\n",
       "      <td>La Marina marroquí intercepta a 247 emigrantes...</td>\n",
       "      <td>Rusia cita al embajador español por unas decla...</td>\n",
       "      <td>0</td>\n",
       "    </tr>\n",
       "    <tr>\n",
       "      <th>1599</th>\n",
       "      <td>Un joven marroquí ataca a una mujer en Caspe y...</td>\n",
       "      <td>Saeed Malekpour fue detenido en 2008, cuando v...</td>\n",
       "      <td>0</td>\n",
       "    </tr>\n",
       "  </tbody>\n",
       "</table>\n",
       "<p>1600 rows × 3 columns</p>\n",
       "</div>"
      ],
      "text/plain": [
       "                                                 Titulo  \\\n",
       "0                                                   NaN   \n",
       "1     \"La quimioterapia mata a la gente y no al cánc...   \n",
       "2     Los Cubos De Caldo Para Cocinar Son Veneno Par...   \n",
       "3     MEGATERREMOTO EN LOS PRÓXIMOS DÍAS ALINEACIÓN ...   \n",
       "4     ¡Qué injusticia! El perro que defendió su casa...   \n",
       "...                                                 ...   \n",
       "1595  El 81% de las familias españolas prefieren los...   \n",
       "1596  AEGC denuncia una frontera desprotegida por fa...   \n",
       "1597        Huawei fía su supervivencia a la innovación   \n",
       "1598  La Marina marroquí intercepta a 247 emigrantes...   \n",
       "1599  Un joven marroquí ataca a una mujer en Caspe y...   \n",
       "\n",
       "                                                  Texto  Categoria  \n",
       "0      El suceso ha tenido lugar en Brasil. Un adole...          1  \n",
       "1      Estamos en la semana decisiva. Los expertos a...          1  \n",
       "2      Estudios científicos hay muchos. Unos nos int...          1  \n",
       "3      Ha sucedido en la ciudad de San José de Río P...          1  \n",
       "4      La fiesta en Sevilla por el vuelco electoral ...          1  \n",
       "...                                                 ...        ...  \n",
       "1595  Recuperamos la historia de Aleixandra, la jove...          0  \n",
       "1596  Reproches, tensión y sinceridad: la comida en ...          0  \n",
       "1597  RT @ElMundoOpinion: \"PSOE, PP, Ciudadanos y Vo...          0  \n",
       "1598  Rusia cita al embajador español por unas decla...          0  \n",
       "1599  Saeed Malekpour fue detenido en 2008, cuando v...          0  \n",
       "\n",
       "[1600 rows x 3 columns]"
      ]
     },
     "execution_count": 136,
     "metadata": {},
     "output_type": "execute_result"
    }
   ],
   "source": [
    "k3 = pd.read_csv(\"data/Kaggle/train.csv\",names=['Titulo','Texto','Categoria'],header=0)\n",
    "k3"
   ]
  },
  {
   "cell_type": "code",
   "execution_count": 137,
   "metadata": {},
   "outputs": [],
   "source": [
    "k4 = pd.read_csv(\"data/Kaggle/onlyfakes1000.csv\",names=['Texto'],header=0)\n",
    "k4[\"Categoria\"] = \"False\"\n",
    "k5 = pd.read_csv(\"data/Kaggle/onlytrue1000.csv\",names=['Texto'],header=0)\n",
    "k5[\"Categoria\"] = \"True\""
   ]
  },
  {
   "cell_type": "code",
   "execution_count": 138,
   "metadata": {},
   "outputs": [
    {
     "data": {
      "text/html": [
       "<div>\n",
       "<style scoped>\n",
       "    .dataframe tbody tr th:only-of-type {\n",
       "        vertical-align: middle;\n",
       "    }\n",
       "\n",
       "    .dataframe tbody tr th {\n",
       "        vertical-align: top;\n",
       "    }\n",
       "\n",
       "    .dataframe thead th {\n",
       "        text-align: right;\n",
       "    }\n",
       "</style>\n",
       "<table border=\"1\" class=\"dataframe\">\n",
       "  <thead>\n",
       "    <tr style=\"text-align: right;\">\n",
       "      <th></th>\n",
       "      <th>Categoria</th>\n",
       "      <th>Texto</th>\n",
       "    </tr>\n",
       "  </thead>\n",
       "  <tbody>\n",
       "    <tr>\n",
       "      <th>0</th>\n",
       "      <td>True</td>\n",
       "      <td>Algunas de las voces extremistas más conocida...</td>\n",
       "    </tr>\n",
       "    <tr>\n",
       "      <th>1</th>\n",
       "      <td>True</td>\n",
       "      <td>Después de casi dos años y medio de luchas po...</td>\n",
       "    </tr>\n",
       "    <tr>\n",
       "      <th>2</th>\n",
       "      <td>True</td>\n",
       "      <td>Dos periodistas birmanos de la agencia Reuter...</td>\n",
       "    </tr>\n",
       "    <tr>\n",
       "      <th>3</th>\n",
       "      <td>True</td>\n",
       "      <td>El Cuerpo Nacional de Policía ha detenido a c...</td>\n",
       "    </tr>\n",
       "    <tr>\n",
       "      <th>4</th>\n",
       "      <td>True</td>\n",
       "      <td>El desfile de la firma en Roma se convierte e...</td>\n",
       "    </tr>\n",
       "    <tr>\n",
       "      <th>...</th>\n",
       "      <td>...</td>\n",
       "      <td>...</td>\n",
       "    </tr>\n",
       "    <tr>\n",
       "      <th>3995</th>\n",
       "      <td>True</td>\n",
       "      <td>El Consejo de Gobierno ha dado su visto bueno...</td>\n",
       "    </tr>\n",
       "    <tr>\n",
       "      <th>3996</th>\n",
       "      <td>True</td>\n",
       "      <td>Investigadores valencianos han desarrollado u...</td>\n",
       "    </tr>\n",
       "    <tr>\n",
       "      <th>3997</th>\n",
       "      <td>True</td>\n",
       "      <td>Los arrestados actuaban en coches y en establ...</td>\n",
       "    </tr>\n",
       "    <tr>\n",
       "      <th>3998</th>\n",
       "      <td>True</td>\n",
       "      <td>El Rey ha encargado este miércoles a Pedro Sá...</td>\n",
       "    </tr>\n",
       "    <tr>\n",
       "      <th>3999</th>\n",
       "      <td>True</td>\n",
       "      <td>Las pruebas realizadas en el Centro Nacional ...</td>\n",
       "    </tr>\n",
       "  </tbody>\n",
       "</table>\n",
       "<p>4000 rows × 2 columns</p>\n",
       "</div>"
      ],
      "text/plain": [
       "     Categoria                                              Texto\n",
       "0         True   Algunas de las voces extremistas más conocida...\n",
       "1         True   Después de casi dos años y medio de luchas po...\n",
       "2         True   Dos periodistas birmanos de la agencia Reuter...\n",
       "3         True   El Cuerpo Nacional de Policía ha detenido a c...\n",
       "4         True   El desfile de la firma en Roma se convierte e...\n",
       "...        ...                                                ...\n",
       "3995      True   El Consejo de Gobierno ha dado su visto bueno...\n",
       "3996      True   Investigadores valencianos han desarrollado u...\n",
       "3997      True   Los arrestados actuaban en coches y en establ...\n",
       "3998      True   El Rey ha encargado este miércoles a Pedro Sá...\n",
       "3999      True   Las pruebas realizadas en el Centro Nacional ...\n",
       "\n",
       "[4000 rows x 2 columns]"
      ]
     },
     "execution_count": 138,
     "metadata": {},
     "output_type": "execute_result"
    }
   ],
   "source": [
    "k_union = pd.concat([k1,k4,k5], ignore_index=True)\n",
    "k_union"
   ]
  },
  {
   "cell_type": "code",
   "execution_count": 141,
   "metadata": {},
   "outputs": [
    {
     "data": {
      "text/plain": [
       "(1958, 2)"
      ]
     },
     "execution_count": 141,
     "metadata": {},
     "output_type": "execute_result"
    }
   ],
   "source": [
    "k_sin_duplicados = k_union.drop_duplicates(subset=[\"Texto\"])\n",
    "k_sin_duplicados.shape"
   ]
  },
  {
   "cell_type": "code",
   "execution_count": 157,
   "metadata": {},
   "outputs": [
    {
     "data": {
      "text/html": [
       "<div>\n",
       "<style scoped>\n",
       "    .dataframe tbody tr th:only-of-type {\n",
       "        vertical-align: middle;\n",
       "    }\n",
       "\n",
       "    .dataframe tbody tr th {\n",
       "        vertical-align: top;\n",
       "    }\n",
       "\n",
       "    .dataframe thead th {\n",
       "        text-align: right;\n",
       "    }\n",
       "</style>\n",
       "<table border=\"1\" class=\"dataframe\">\n",
       "  <thead>\n",
       "    <tr style=\"text-align: right;\">\n",
       "      <th></th>\n",
       "      <th>Categoria</th>\n",
       "      <th>Texto</th>\n",
       "      <th>Origen</th>\n",
       "    </tr>\n",
       "  </thead>\n",
       "  <tbody>\n",
       "    <tr>\n",
       "      <th>0</th>\n",
       "      <td>1</td>\n",
       "      <td>Algunas de las voces extremistas más conocida...</td>\n",
       "      <td>Kaggle</td>\n",
       "    </tr>\n",
       "    <tr>\n",
       "      <th>1</th>\n",
       "      <td>1</td>\n",
       "      <td>Después de casi dos años y medio de luchas po...</td>\n",
       "      <td>Kaggle</td>\n",
       "    </tr>\n",
       "    <tr>\n",
       "      <th>2</th>\n",
       "      <td>1</td>\n",
       "      <td>Dos periodistas birmanos de la agencia Reuter...</td>\n",
       "      <td>Kaggle</td>\n",
       "    </tr>\n",
       "    <tr>\n",
       "      <th>3</th>\n",
       "      <td>1</td>\n",
       "      <td>El Cuerpo Nacional de Policía ha detenido a c...</td>\n",
       "      <td>Kaggle</td>\n",
       "    </tr>\n",
       "    <tr>\n",
       "      <th>4</th>\n",
       "      <td>1</td>\n",
       "      <td>El desfile de la firma en Roma se convierte e...</td>\n",
       "      <td>Kaggle</td>\n",
       "    </tr>\n",
       "    <tr>\n",
       "      <th>...</th>\n",
       "      <td>...</td>\n",
       "      <td>...</td>\n",
       "      <td>...</td>\n",
       "    </tr>\n",
       "    <tr>\n",
       "      <th>1995</th>\n",
       "      <td>1</td>\n",
       "      <td>El Consejo de Gobierno ha dado su visto bueno...</td>\n",
       "      <td>Kaggle</td>\n",
       "    </tr>\n",
       "    <tr>\n",
       "      <th>1996</th>\n",
       "      <td>1</td>\n",
       "      <td>Investigadores valencianos han desarrollado u...</td>\n",
       "      <td>Kaggle</td>\n",
       "    </tr>\n",
       "    <tr>\n",
       "      <th>1997</th>\n",
       "      <td>1</td>\n",
       "      <td>Los arrestados actuaban en coches y en establ...</td>\n",
       "      <td>Kaggle</td>\n",
       "    </tr>\n",
       "    <tr>\n",
       "      <th>1998</th>\n",
       "      <td>1</td>\n",
       "      <td>El Rey ha encargado este miércoles a Pedro Sá...</td>\n",
       "      <td>Kaggle</td>\n",
       "    </tr>\n",
       "    <tr>\n",
       "      <th>1999</th>\n",
       "      <td>1</td>\n",
       "      <td>Las pruebas realizadas en el Centro Nacional ...</td>\n",
       "      <td>Kaggle</td>\n",
       "    </tr>\n",
       "  </tbody>\n",
       "</table>\n",
       "<p>2000 rows × 3 columns</p>\n",
       "</div>"
      ],
      "text/plain": [
       "      Categoria                                              Texto  Origen\n",
       "0             1   Algunas de las voces extremistas más conocida...  Kaggle\n",
       "1             1   Después de casi dos años y medio de luchas po...  Kaggle\n",
       "2             1   Dos periodistas birmanos de la agencia Reuter...  Kaggle\n",
       "3             1   El Cuerpo Nacional de Policía ha detenido a c...  Kaggle\n",
       "4             1   El desfile de la firma en Roma se convierte e...  Kaggle\n",
       "...         ...                                                ...     ...\n",
       "1995          1   El Consejo de Gobierno ha dado su visto bueno...  Kaggle\n",
       "1996          1   Investigadores valencianos han desarrollado u...  Kaggle\n",
       "1997          1   Los arrestados actuaban en coches y en establ...  Kaggle\n",
       "1998          1   El Rey ha encargado este miércoles a Pedro Sá...  Kaggle\n",
       "1999          1   Las pruebas realizadas en el Centro Nacional ...  Kaggle\n",
       "\n",
       "[2000 rows x 3 columns]"
      ]
     },
     "execution_count": 157,
     "metadata": {},
     "output_type": "execute_result"
    }
   ],
   "source": [
    "k1['Categoria'] = k1['Categoria'].replace({True: 1 , False: 0})\n",
    "k1['Origen'] = \"Kaggle\"\n",
    "k1"
   ]
  },
  {
   "cell_type": "code",
   "execution_count": 158,
   "metadata": {},
   "outputs": [
    {
     "data": {
      "text/html": [
       "<div>\n",
       "<style scoped>\n",
       "    .dataframe tbody tr th:only-of-type {\n",
       "        vertical-align: middle;\n",
       "    }\n",
       "\n",
       "    .dataframe tbody tr th {\n",
       "        vertical-align: top;\n",
       "    }\n",
       "\n",
       "    .dataframe thead th {\n",
       "        text-align: right;\n",
       "    }\n",
       "</style>\n",
       "<table border=\"1\" class=\"dataframe\">\n",
       "  <thead>\n",
       "    <tr style=\"text-align: right;\">\n",
       "      <th></th>\n",
       "      <th>Titulo</th>\n",
       "      <th>Texto</th>\n",
       "      <th>Categoria</th>\n",
       "      <th>Origen</th>\n",
       "    </tr>\n",
       "  </thead>\n",
       "  <tbody>\n",
       "    <tr>\n",
       "      <th>0</th>\n",
       "      <td>NaN</td>\n",
       "      <td>El suceso ha tenido lugar en Brasil. Un adole...</td>\n",
       "      <td>1</td>\n",
       "      <td>Kaggle</td>\n",
       "    </tr>\n",
       "    <tr>\n",
       "      <th>1</th>\n",
       "      <td>\"La quimioterapia mata a la gente y no al cánc...</td>\n",
       "      <td>Estamos en la semana decisiva. Los expertos a...</td>\n",
       "      <td>1</td>\n",
       "      <td>Kaggle</td>\n",
       "    </tr>\n",
       "    <tr>\n",
       "      <th>2</th>\n",
       "      <td>Los Cubos De Caldo Para Cocinar Son Veneno Par...</td>\n",
       "      <td>Estudios científicos hay muchos. Unos nos int...</td>\n",
       "      <td>1</td>\n",
       "      <td>Kaggle</td>\n",
       "    </tr>\n",
       "    <tr>\n",
       "      <th>3</th>\n",
       "      <td>MEGATERREMOTO EN LOS PRÓXIMOS DÍAS ALINEACIÓN ...</td>\n",
       "      <td>Ha sucedido en la ciudad de San José de Río P...</td>\n",
       "      <td>1</td>\n",
       "      <td>Kaggle</td>\n",
       "    </tr>\n",
       "    <tr>\n",
       "      <th>4</th>\n",
       "      <td>¡Qué injusticia! El perro que defendió su casa...</td>\n",
       "      <td>La fiesta en Sevilla por el vuelco electoral ...</td>\n",
       "      <td>1</td>\n",
       "      <td>Kaggle</td>\n",
       "    </tr>\n",
       "    <tr>\n",
       "      <th>...</th>\n",
       "      <td>...</td>\n",
       "      <td>...</td>\n",
       "      <td>...</td>\n",
       "      <td>...</td>\n",
       "    </tr>\n",
       "    <tr>\n",
       "      <th>1595</th>\n",
       "      <td>El 81% de las familias españolas prefieren los...</td>\n",
       "      <td>Recuperamos la historia de Aleixandra, la jove...</td>\n",
       "      <td>0</td>\n",
       "      <td>Kaggle</td>\n",
       "    </tr>\n",
       "    <tr>\n",
       "      <th>1596</th>\n",
       "      <td>AEGC denuncia una frontera desprotegida por fa...</td>\n",
       "      <td>Reproches, tensión y sinceridad: la comida en ...</td>\n",
       "      <td>0</td>\n",
       "      <td>Kaggle</td>\n",
       "    </tr>\n",
       "    <tr>\n",
       "      <th>1597</th>\n",
       "      <td>Huawei fía su supervivencia a la innovación</td>\n",
       "      <td>RT @ElMundoOpinion: \"PSOE, PP, Ciudadanos y Vo...</td>\n",
       "      <td>0</td>\n",
       "      <td>Kaggle</td>\n",
       "    </tr>\n",
       "    <tr>\n",
       "      <th>1598</th>\n",
       "      <td>La Marina marroquí intercepta a 247 emigrantes...</td>\n",
       "      <td>Rusia cita al embajador español por unas decla...</td>\n",
       "      <td>0</td>\n",
       "      <td>Kaggle</td>\n",
       "    </tr>\n",
       "    <tr>\n",
       "      <th>1599</th>\n",
       "      <td>Un joven marroquí ataca a una mujer en Caspe y...</td>\n",
       "      <td>Saeed Malekpour fue detenido en 2008, cuando v...</td>\n",
       "      <td>0</td>\n",
       "      <td>Kaggle</td>\n",
       "    </tr>\n",
       "  </tbody>\n",
       "</table>\n",
       "<p>1600 rows × 4 columns</p>\n",
       "</div>"
      ],
      "text/plain": [
       "                                                 Titulo  \\\n",
       "0                                                   NaN   \n",
       "1     \"La quimioterapia mata a la gente y no al cánc...   \n",
       "2     Los Cubos De Caldo Para Cocinar Son Veneno Par...   \n",
       "3     MEGATERREMOTO EN LOS PRÓXIMOS DÍAS ALINEACIÓN ...   \n",
       "4     ¡Qué injusticia! El perro que defendió su casa...   \n",
       "...                                                 ...   \n",
       "1595  El 81% de las familias españolas prefieren los...   \n",
       "1596  AEGC denuncia una frontera desprotegida por fa...   \n",
       "1597        Huawei fía su supervivencia a la innovación   \n",
       "1598  La Marina marroquí intercepta a 247 emigrantes...   \n",
       "1599  Un joven marroquí ataca a una mujer en Caspe y...   \n",
       "\n",
       "                                                  Texto  Categoria  Origen  \n",
       "0      El suceso ha tenido lugar en Brasil. Un adole...          1  Kaggle  \n",
       "1      Estamos en la semana decisiva. Los expertos a...          1  Kaggle  \n",
       "2      Estudios científicos hay muchos. Unos nos int...          1  Kaggle  \n",
       "3      Ha sucedido en la ciudad de San José de Río P...          1  Kaggle  \n",
       "4      La fiesta en Sevilla por el vuelco electoral ...          1  Kaggle  \n",
       "...                                                 ...        ...     ...  \n",
       "1595  Recuperamos la historia de Aleixandra, la jove...          0  Kaggle  \n",
       "1596  Reproches, tensión y sinceridad: la comida en ...          0  Kaggle  \n",
       "1597  RT @ElMundoOpinion: \"PSOE, PP, Ciudadanos y Vo...          0  Kaggle  \n",
       "1598  Rusia cita al embajador español por unas decla...          0  Kaggle  \n",
       "1599  Saeed Malekpour fue detenido en 2008, cuando v...          0  Kaggle  \n",
       "\n",
       "[1600 rows x 4 columns]"
      ]
     },
     "execution_count": 158,
     "metadata": {},
     "output_type": "execute_result"
    }
   ],
   "source": [
    "k3['Origen'] = \"Kaggle\"\n",
    "k3"
   ]
  },
  {
   "cell_type": "code",
   "execution_count": 160,
   "metadata": {},
   "outputs": [
    {
     "name": "stdout",
     "output_type": "stream",
     "text": [
      "(61429, 5)\n"
     ]
    }
   ],
   "source": [
    "kaggle_data = pd.concat([k1,k3], ignore_index=True)\n",
    "read_and_concat(\"data.csv\",kaggle_data)\n"
   ]
  },
  {
   "cell_type": "code",
   "execution_count": 161,
   "metadata": {},
   "outputs": [
    {
     "data": {
      "text/plain": [
       "Categoria\n",
       "1    1800\n",
       "0    1800\n",
       "Name: count, dtype: int64"
      ]
     },
     "execution_count": 161,
     "metadata": {},
     "output_type": "execute_result"
    }
   ],
   "source": [
    "kaggle_data[\"Categoria\"].value_counts()"
   ]
  },
  {
   "cell_type": "markdown",
   "metadata": {},
   "source": [
    "### **Dataset encontrado en Github [*Spanish Fake News Corpus*]** \n"
   ]
  },
  {
   "cell_type": "markdown",
   "metadata": {},
   "source": [
    "El Spanish Fake News Corpus contiene pares de publicaciones falsas y verdaderas sobre diferentes eventos (todas escritas en español) que fueron recopiladas desde noviembre de 2020 hasta marzo de 2021. Para recopilar la información se utilizaron diferentes fuentes de la web, pero principalmente de dos tipos: \n",
    "\n",
    "1) Sitios web de periódicos y empresas de medios\n",
    "\n",
    "2) Sitios web de verificación de datos. La mayoría de los sitios de verificación de datos revisados ​​utilizados siguen las recomendaciones de la Red Internacional de Verificación de Datos (IFCN) que busca promover buenas prácticas en la verificación de datos.v.\n",
    "\n",
    "La carpeta obtenida contaba con los siguientes archivos: \n",
    " * development.csv\n",
    " * train.csv\n",
    " * test.csv\n",
    "\n",
    "\n",
    "\n",
    "Para mas informacion visitar el siguiente [enlace](https://github.com/jpposadas/FakeNewsCorpusSpanish) al repositorio.\n"
   ]
  },
  {
   "cell_type": "code",
   "execution_count": 175,
   "metadata": {},
   "outputs": [
    {
     "name": "stdout",
     "output_type": "stream",
     "text": [
      "(295, 7)\n"
     ]
    },
    {
     "data": {
      "text/html": [
       "<div>\n",
       "<style scoped>\n",
       "    .dataframe tbody tr th:only-of-type {\n",
       "        vertical-align: middle;\n",
       "    }\n",
       "\n",
       "    .dataframe tbody tr th {\n",
       "        vertical-align: top;\n",
       "    }\n",
       "\n",
       "    .dataframe thead th {\n",
       "        text-align: right;\n",
       "    }\n",
       "</style>\n",
       "<table border=\"1\" class=\"dataframe\">\n",
       "  <thead>\n",
       "    <tr style=\"text-align: right;\">\n",
       "      <th></th>\n",
       "      <th>id</th>\n",
       "      <th>Categoria</th>\n",
       "      <th>Topico</th>\n",
       "      <th>Fuente</th>\n",
       "      <th>Titulo</th>\n",
       "      <th>Texto</th>\n",
       "      <th>URL</th>\n",
       "    </tr>\n",
       "  </thead>\n",
       "  <tbody>\n",
       "    <tr>\n",
       "      <th>0</th>\n",
       "      <td>1</td>\n",
       "      <td>Fake</td>\n",
       "      <td>Education</td>\n",
       "      <td>El Ruinaversal</td>\n",
       "      <td>MAESTRA DE *NUMBER* AÑOS QUE TUVO RELACIONES C...</td>\n",
       "      <td>MAESTRA DE *NUMBER* AÑOS QUE TUVO RELACIONES C...</td>\n",
       "      <td>http://www.elruinaversal.com/2017/06/04/maestr...</td>\n",
       "    </tr>\n",
       "    <tr>\n",
       "      <th>1</th>\n",
       "      <td>2</td>\n",
       "      <td>True</td>\n",
       "      <td>Education</td>\n",
       "      <td>Heraldo</td>\n",
       "      <td>Oxford lanza sus propios exámenes de certifica...</td>\n",
       "      <td>Oxford lanza sus propios exámenes de certifica...</td>\n",
       "      <td>https://www.heraldo.es/noticias/sociedad/2017/...</td>\n",
       "    </tr>\n",
       "    <tr>\n",
       "      <th>2</th>\n",
       "      <td>3</td>\n",
       "      <td>True</td>\n",
       "      <td>Education</td>\n",
       "      <td>abc</td>\n",
       "      <td>La RAE estudia incluir «machirulo» en el Dicci...</td>\n",
       "      <td>La RAE estudia incluir «machirulo» en el Dicci...</td>\n",
       "      <td>https://www.abc.es/cultura/abci-estudia-inclui...</td>\n",
       "    </tr>\n",
       "    <tr>\n",
       "      <th>3</th>\n",
       "      <td>4</td>\n",
       "      <td>True</td>\n",
       "      <td>Education</td>\n",
       "      <td>El país</td>\n",
       "      <td>Malala Yousafzai anuncia que estudiará en Oxford</td>\n",
       "      <td>Malala Yousafzai anuncia que estudiará en Oxfo...</td>\n",
       "      <td>https://elpais.com/internacional/2017/08/17/ac...</td>\n",
       "    </tr>\n",
       "    <tr>\n",
       "      <th>4</th>\n",
       "      <td>5</td>\n",
       "      <td>Fake</td>\n",
       "      <td>Education</td>\n",
       "      <td>El Ruinaversal</td>\n",
       "      <td>Nombran a Ricardo Arjona nuevo miembro de la R...</td>\n",
       "      <td>Nombran a Ricardo Arjona nuevo miembro de la R...</td>\n",
       "      <td>http://www.elruinaversal.com/2017/06/25/nombra...</td>\n",
       "    </tr>\n",
       "  </tbody>\n",
       "</table>\n",
       "</div>"
      ],
      "text/plain": [
       "   id Categoria     Topico          Fuente  \\\n",
       "0   1      Fake  Education  El Ruinaversal   \n",
       "1   2      True  Education         Heraldo   \n",
       "2   3      True  Education             abc   \n",
       "3   4      True  Education         El país   \n",
       "4   5      Fake  Education  El Ruinaversal   \n",
       "\n",
       "                                              Titulo  \\\n",
       "0  MAESTRA DE *NUMBER* AÑOS QUE TUVO RELACIONES C...   \n",
       "1  Oxford lanza sus propios exámenes de certifica...   \n",
       "2  La RAE estudia incluir «machirulo» en el Dicci...   \n",
       "3   Malala Yousafzai anuncia que estudiará en Oxford   \n",
       "4  Nombran a Ricardo Arjona nuevo miembro de la R...   \n",
       "\n",
       "                                               Texto  \\\n",
       "0  MAESTRA DE *NUMBER* AÑOS QUE TUVO RELACIONES C...   \n",
       "1  Oxford lanza sus propios exámenes de certifica...   \n",
       "2  La RAE estudia incluir «machirulo» en el Dicci...   \n",
       "3  Malala Yousafzai anuncia que estudiará en Oxfo...   \n",
       "4  Nombran a Ricardo Arjona nuevo miembro de la R...   \n",
       "\n",
       "                                                 URL  \n",
       "0  http://www.elruinaversal.com/2017/06/04/maestr...  \n",
       "1  https://www.heraldo.es/noticias/sociedad/2017/...  \n",
       "2  https://www.abc.es/cultura/abci-estudia-inclui...  \n",
       "3  https://elpais.com/internacional/2017/08/17/ac...  \n",
       "4  http://www.elruinaversal.com/2017/06/25/nombra...  "
      ]
     },
     "execution_count": 175,
     "metadata": {},
     "output_type": "execute_result"
    }
   ],
   "source": [
    "p1 = pd.read_excel(\"data/Posadas/development.xlsx\",names=['id','Categoria','Topico','Fuente','Titulo','Texto','URL'],header=0)\n",
    "print(p1.shape)\n",
    "p1.head()"
   ]
  },
  {
   "cell_type": "code",
   "execution_count": 176,
   "metadata": {},
   "outputs": [
    {
     "data": {
      "text/plain": [
       "Categoria\n",
       "1    153\n",
       "0    142\n",
       "Name: count, dtype: int64"
      ]
     },
     "execution_count": 176,
     "metadata": {},
     "output_type": "execute_result"
    }
   ],
   "source": [
    "p1['Categoria'] = p1['Categoria'].replace({\"True\": 1 , \"Fake\": 0})\n",
    "p1['Categoria'].value_counts()"
   ]
  },
  {
   "cell_type": "code",
   "execution_count": 173,
   "metadata": {},
   "outputs": [
    {
     "name": "stdout",
     "output_type": "stream",
     "text": [
      "(572, 7)\n"
     ]
    },
    {
     "data": {
      "text/html": [
       "<div>\n",
       "<style scoped>\n",
       "    .dataframe tbody tr th:only-of-type {\n",
       "        vertical-align: middle;\n",
       "    }\n",
       "\n",
       "    .dataframe tbody tr th {\n",
       "        vertical-align: top;\n",
       "    }\n",
       "\n",
       "    .dataframe thead th {\n",
       "        text-align: right;\n",
       "    }\n",
       "</style>\n",
       "<table border=\"1\" class=\"dataframe\">\n",
       "  <thead>\n",
       "    <tr style=\"text-align: right;\">\n",
       "      <th></th>\n",
       "      <th>id</th>\n",
       "      <th>Categoria</th>\n",
       "      <th>Topico</th>\n",
       "      <th>Fuente</th>\n",
       "      <th>Titulo</th>\n",
       "      <th>Texto</th>\n",
       "      <th>URL</th>\n",
       "    </tr>\n",
       "  </thead>\n",
       "  <tbody>\n",
       "    <tr>\n",
       "      <th>0</th>\n",
       "      <td>1</td>\n",
       "      <td>True</td>\n",
       "      <td>Covid-19</td>\n",
       "      <td>El Economista</td>\n",
       "      <td>Covid-19: mentiras que matan</td>\n",
       "      <td>El control de la Covid-19 no es sólo un tema d...</td>\n",
       "      <td>https://www.eleconomista.com.mx/opinion/Covid-...</td>\n",
       "    </tr>\n",
       "    <tr>\n",
       "      <th>1</th>\n",
       "      <td>2</td>\n",
       "      <td>False</td>\n",
       "      <td>Política</td>\n",
       "      <td>El matinal</td>\n",
       "      <td>El Gobierno podrá acceder a las IPs de los móv...</td>\n",
       "      <td>El Gobierno de Pedro Sánchez y Pablo Iglesias ...</td>\n",
       "      <td>https://www.elmatinal.com/espana-ultima-hora/e...</td>\n",
       "    </tr>\n",
       "    <tr>\n",
       "      <th>2</th>\n",
       "      <td>3</td>\n",
       "      <td>True</td>\n",
       "      <td>Política</td>\n",
       "      <td>El País</td>\n",
       "      <td>La comunidad musulmana catalana denuncia a Vox...</td>\n",
       "      <td>Las tres federaciones que agrupan al 90% de la...</td>\n",
       "      <td>https://elpais.com/espana/elecciones-catalanas...</td>\n",
       "    </tr>\n",
       "    <tr>\n",
       "      <th>3</th>\n",
       "      <td>4</td>\n",
       "      <td>False</td>\n",
       "      <td>Política</td>\n",
       "      <td>AFPFactual</td>\n",
       "      <td>NaN</td>\n",
       "      <td>Se han dado a conocer los datos electorales pr...</td>\n",
       "      <td>https://perma.cc/GYE6-SPMB</td>\n",
       "    </tr>\n",
       "    <tr>\n",
       "      <th>4</th>\n",
       "      <td>5</td>\n",
       "      <td>True</td>\n",
       "      <td>Sociedad</td>\n",
       "      <td>La Republica</td>\n",
       "      <td>El censo poblacional 2018 tendrá un costo de $...</td>\n",
       "      <td>La primera fase del censo será virtual y solo ...</td>\n",
       "      <td>https://www.larepublica.co/economia/el-censo-p...</td>\n",
       "    </tr>\n",
       "  </tbody>\n",
       "</table>\n",
       "</div>"
      ],
      "text/plain": [
       "   id  Categoria    Topico         Fuente  \\\n",
       "0   1       True  Covid-19  El Economista   \n",
       "1   2      False  Política     El matinal   \n",
       "2   3       True  Política        El País   \n",
       "3   4      False  Política     AFPFactual   \n",
       "4   5       True  Sociedad   La Republica   \n",
       "\n",
       "                                              Titulo  \\\n",
       "0                       Covid-19: mentiras que matan   \n",
       "1  El Gobierno podrá acceder a las IPs de los móv...   \n",
       "2  La comunidad musulmana catalana denuncia a Vox...   \n",
       "3                                                NaN   \n",
       "4  El censo poblacional 2018 tendrá un costo de $...   \n",
       "\n",
       "                                               Texto  \\\n",
       "0  El control de la Covid-19 no es sólo un tema d...   \n",
       "1  El Gobierno de Pedro Sánchez y Pablo Iglesias ...   \n",
       "2  Las tres federaciones que agrupan al 90% de la...   \n",
       "3  Se han dado a conocer los datos electorales pr...   \n",
       "4  La primera fase del censo será virtual y solo ...   \n",
       "\n",
       "                                                 URL  \n",
       "0  https://www.eleconomista.com.mx/opinion/Covid-...  \n",
       "1  https://www.elmatinal.com/espana-ultima-hora/e...  \n",
       "2  https://elpais.com/espana/elecciones-catalanas...  \n",
       "3                         https://perma.cc/GYE6-SPMB  \n",
       "4  https://www.larepublica.co/economia/el-censo-p...  "
      ]
     },
     "execution_count": 173,
     "metadata": {},
     "output_type": "execute_result"
    }
   ],
   "source": [
    "p2 = pd.read_excel(\"data/Posadas/test.xlsx\",names=['id','Categoria','Topico','Fuente','Titulo','Texto','URL'],header=0)\n",
    "print(p2.shape)\n",
    "p2.head()"
   ]
  },
  {
   "cell_type": "code",
   "execution_count": 177,
   "metadata": {},
   "outputs": [
    {
     "data": {
      "text/plain": [
       "Categoria\n",
       "1    286\n",
       "0    286\n",
       "Name: count, dtype: int64"
      ]
     },
     "execution_count": 177,
     "metadata": {},
     "output_type": "execute_result"
    }
   ],
   "source": [
    "p2['Categoria'] = p2['Categoria'].replace({True: 1 , False: 0})\n",
    "p2['Categoria'].value_counts()"
   ]
  },
  {
   "cell_type": "code",
   "execution_count": 174,
   "metadata": {},
   "outputs": [
    {
     "name": "stdout",
     "output_type": "stream",
     "text": [
      "(676, 7)\n"
     ]
    },
    {
     "data": {
      "text/html": [
       "<div>\n",
       "<style scoped>\n",
       "    .dataframe tbody tr th:only-of-type {\n",
       "        vertical-align: middle;\n",
       "    }\n",
       "\n",
       "    .dataframe tbody tr th {\n",
       "        vertical-align: top;\n",
       "    }\n",
       "\n",
       "    .dataframe thead th {\n",
       "        text-align: right;\n",
       "    }\n",
       "</style>\n",
       "<table border=\"1\" class=\"dataframe\">\n",
       "  <thead>\n",
       "    <tr style=\"text-align: right;\">\n",
       "      <th></th>\n",
       "      <th>id</th>\n",
       "      <th>Categoria</th>\n",
       "      <th>Topico</th>\n",
       "      <th>Fuente</th>\n",
       "      <th>Titulo</th>\n",
       "      <th>Texto</th>\n",
       "      <th>URL</th>\n",
       "    </tr>\n",
       "  </thead>\n",
       "  <tbody>\n",
       "    <tr>\n",
       "      <th>0</th>\n",
       "      <td>1</td>\n",
       "      <td>Fake</td>\n",
       "      <td>Education</td>\n",
       "      <td>El Ruinaversal</td>\n",
       "      <td>RAE INCLUIRÁ LA PALABRA \"LADY\" EN EL DICCIONAR...</td>\n",
       "      <td>RAE INCLUIRÁ LA PALABRA \"LADY\" EN EL DICCIONAR...</td>\n",
       "      <td>http://www.elruinaversal.com/2017/06/10/rae-in...</td>\n",
       "    </tr>\n",
       "    <tr>\n",
       "      <th>1</th>\n",
       "      <td>2</td>\n",
       "      <td>Fake</td>\n",
       "      <td>Education</td>\n",
       "      <td>Hay noticia</td>\n",
       "      <td>La palabra \"haiga\", aceptada por la RAE</td>\n",
       "      <td>La palabra \"haiga\", aceptada por la RAE La Rea...</td>\n",
       "      <td>https://haynoticia.es/la-palabra-haiga-aceptad...</td>\n",
       "    </tr>\n",
       "    <tr>\n",
       "      <th>2</th>\n",
       "      <td>3</td>\n",
       "      <td>Fake</td>\n",
       "      <td>Education</td>\n",
       "      <td>El Ruinaversal</td>\n",
       "      <td>YORDI ROSADO ESCRIBIRÁ Y DISEÑARÁ LOS NUEVOS L...</td>\n",
       "      <td>YORDI ROSADO ESCRIBIRÁ Y DISEÑARÁ LOS NUEVOS L...</td>\n",
       "      <td>http://www.elruinaversal.com/2018/05/06/yordi-...</td>\n",
       "    </tr>\n",
       "    <tr>\n",
       "      <th>3</th>\n",
       "      <td>4</td>\n",
       "      <td>True</td>\n",
       "      <td>Education</td>\n",
       "      <td>EL UNIVERSAL</td>\n",
       "      <td>UNAM capacitará a maestros para aprobar prueba...</td>\n",
       "      <td>UNAM capacitará a maestros para aprobar prueba...</td>\n",
       "      <td>http://www.eluniversal.com.mx/articulo/nacion/...</td>\n",
       "    </tr>\n",
       "    <tr>\n",
       "      <th>4</th>\n",
       "      <td>5</td>\n",
       "      <td>Fake</td>\n",
       "      <td>Education</td>\n",
       "      <td>Lamula</td>\n",
       "      <td>pretenden aprobar libros escolares con conteni...</td>\n",
       "      <td>Alerta: pretenden aprobar libros escolares con...</td>\n",
       "      <td>https://redaccion.lamula.pe/2018/06/19/memoria...</td>\n",
       "    </tr>\n",
       "  </tbody>\n",
       "</table>\n",
       "</div>"
      ],
      "text/plain": [
       "   id Categoria     Topico          Fuente  \\\n",
       "0   1      Fake  Education  El Ruinaversal   \n",
       "1   2      Fake  Education     Hay noticia   \n",
       "2   3      Fake  Education  El Ruinaversal   \n",
       "3   4      True  Education    EL UNIVERSAL   \n",
       "4   5      Fake  Education          Lamula   \n",
       "\n",
       "                                              Titulo  \\\n",
       "0  RAE INCLUIRÁ LA PALABRA \"LADY\" EN EL DICCIONAR...   \n",
       "1            La palabra \"haiga\", aceptada por la RAE   \n",
       "2  YORDI ROSADO ESCRIBIRÁ Y DISEÑARÁ LOS NUEVOS L...   \n",
       "3  UNAM capacitará a maestros para aprobar prueba...   \n",
       "4  pretenden aprobar libros escolares con conteni...   \n",
       "\n",
       "                                               Texto  \\\n",
       "0  RAE INCLUIRÁ LA PALABRA \"LADY\" EN EL DICCIONAR...   \n",
       "1  La palabra \"haiga\", aceptada por la RAE La Rea...   \n",
       "2  YORDI ROSADO ESCRIBIRÁ Y DISEÑARÁ LOS NUEVOS L...   \n",
       "3  UNAM capacitará a maestros para aprobar prueba...   \n",
       "4  Alerta: pretenden aprobar libros escolares con...   \n",
       "\n",
       "                                                 URL  \n",
       "0  http://www.elruinaversal.com/2017/06/10/rae-in...  \n",
       "1  https://haynoticia.es/la-palabra-haiga-aceptad...  \n",
       "2  http://www.elruinaversal.com/2018/05/06/yordi-...  \n",
       "3  http://www.eluniversal.com.mx/articulo/nacion/...  \n",
       "4  https://redaccion.lamula.pe/2018/06/19/memoria...  "
      ]
     },
     "execution_count": 174,
     "metadata": {},
     "output_type": "execute_result"
    }
   ],
   "source": [
    "p3 = pd.read_excel(\"data/Posadas/train.xlsx\",names=['id','Categoria','Topico','Fuente','Titulo','Texto','URL'],header=0)\n",
    "print(p3.shape)\n",
    "p3.head()\n"
   ]
  },
  {
   "cell_type": "code",
   "execution_count": 178,
   "metadata": {},
   "outputs": [
    {
     "data": {
      "text/plain": [
       "Categoria\n",
       "0    338\n",
       "1    338\n",
       "Name: count, dtype: int64"
      ]
     },
     "execution_count": 178,
     "metadata": {},
     "output_type": "execute_result"
    }
   ],
   "source": [
    "p3['Categoria'] = p3['Categoria'].replace({\"True\": 1 , \"Fake\": 0})\n",
    "p3['Categoria'].value_counts()"
   ]
  },
  {
   "cell_type": "code",
   "execution_count": 181,
   "metadata": {},
   "outputs": [
    {
     "data": {
      "text/plain": [
       "(1543, 7)"
      ]
     },
     "execution_count": 181,
     "metadata": {},
     "output_type": "execute_result"
    }
   ],
   "source": [
    "p_union =pd.concat([p1,p2,p3], ignore_index=True)\n",
    "p_union.shape"
   ]
  },
  {
   "cell_type": "code",
   "execution_count": 185,
   "metadata": {},
   "outputs": [
    {
     "data": {
      "text/plain": [
       "(1542, 7)"
      ]
     },
     "execution_count": 185,
     "metadata": {},
     "output_type": "execute_result"
    }
   ],
   "source": [
    "p_sin_duplicados = p_union.drop_duplicates(subset=[\"Titulo\",\"Texto\"])\n",
    "p_sin_duplicados.shape"
   ]
  },
  {
   "cell_type": "code",
   "execution_count": 195,
   "metadata": {},
   "outputs": [
    {
     "data": {
      "text/plain": [
       "Categoria\n",
       "1    777\n",
       "0    766\n",
       "Name: count, dtype: int64"
      ]
     },
     "execution_count": 195,
     "metadata": {},
     "output_type": "execute_result"
    }
   ],
   "source": [
    "p_union[\"Origen\"] = \"Posadas\"\n",
    "p_union[\"Categoria\"].value_counts()"
   ]
  },
  {
   "cell_type": "code",
   "execution_count": 196,
   "metadata": {},
   "outputs": [
    {
     "name": "stdout",
     "output_type": "stream",
     "text": [
      "(62972, 9)\n"
     ]
    }
   ],
   "source": [
    "read_and_concat(\"data.csv\",p_union)"
   ]
  },
  {
   "cell_type": "markdown",
   "metadata": {},
   "source": [
    "## **2. Analisis de Datos de fuentes**"
   ]
  },
  {
   "cell_type": "markdown",
   "metadata": {},
   "source": [
    "**Objetivos de la sección:**\n",
    "\n",
    "*   Estudiar el formato de los datos de las distintas fuentes\n",
    "\n",
    "*   Clasificar los datos en caso de ser necesario\n",
    "\n",
    "*   Unificar las clasificaciones por una escala entre 1 y 0 segun corresponda\n",
    "\n",
    "*   Unificar el nombre de las columnas y eliminar las sobrantes"
   ]
  },
  {
   "cell_type": "markdown",
   "metadata": {},
   "source": [
    "### **Dataset encontrado en Github [*FakeStorage*]**"
   ]
  },
  {
   "cell_type": "markdown",
   "metadata": {},
   "source": [
    "Este proyecto está dirigido a la construcción de un dataset de noticias falsas (o \"fake news\") en internet que estén en español. Con este dataset buscamos contribuir a la construcción de sistemas para identificar noticias falsas en internet. El dataset sigue en construcción.\n",
    "\n",
    "La carpeta obtenida contaba con los siguientes archivos: \n",
    " * fakenewsMaldita.json\n",
    " * fakenewsNewtral.json\n",
    " * fakenewsNewtral_old.json\n",
    "\n",
    "\n",
    "\n",
    "Para mas informacion visitar el siguiente [enlace](https://github.com/alcorpas10/FakesStorage) al repositorio.\n",
    "\n"
   ]
  },
  {
   "cell_type": "code",
   "execution_count": 2,
   "metadata": {},
   "outputs": [
    {
     "data": {
      "text/html": [
       "<div>\n",
       "<style scoped>\n",
       "    .dataframe tbody tr th:only-of-type {\n",
       "        vertical-align: middle;\n",
       "    }\n",
       "\n",
       "    .dataframe tbody tr th {\n",
       "        vertical-align: top;\n",
       "    }\n",
       "\n",
       "    .dataframe thead th {\n",
       "        text-align: right;\n",
       "    }\n",
       "</style>\n",
       "<table border=\"1\" class=\"dataframe\">\n",
       "  <thead>\n",
       "    <tr style=\"text-align: right;\">\n",
       "      <th></th>\n",
       "      <th>titulo</th>\n",
       "      <th>link</th>\n",
       "      <th>date</th>\n",
       "      <th>words_count</th>\n",
       "    </tr>\n",
       "  </thead>\n",
       "  <tbody>\n",
       "    <tr>\n",
       "      <th>0</th>\n",
       "      <td>No, los datos de positivos de un estudio de la...</td>\n",
       "      <td>https://maldita.es/malditobulo/20211220/complu...</td>\n",
       "      <td>2021/12/20</td>\n",
       "      <td>{'no': 13, 'los': 15, 'datos': 8, 'de': 76, 'p...</td>\n",
       "    </tr>\n",
       "    <tr>\n",
       "      <th>1</th>\n",
       "      <td>La imagen de la cafeteria del Congreso de los ...</td>\n",
       "      <td>https://maldita.es/malditobulo/20211220/cafete...</td>\n",
       "      <td>2021/12/20</td>\n",
       "      <td>{'la': 32, 'imagen': 5, 'de': 31, 'cafeteria':...</td>\n",
       "    </tr>\n",
       "    <tr>\n",
       "      <th>2</th>\n",
       "      <td>Como los antivacunas han utilizado el problema...</td>\n",
       "      <td>https://maldita.es/malditobulo/20211220/kun-ag...</td>\n",
       "      <td>2021/12/20</td>\n",
       "      <td>{'como': 6, 'los': 9, 'antivacunas': 1, 'han':...</td>\n",
       "    </tr>\n",
       "    <tr>\n",
       "      <th>3</th>\n",
       "      <td>No, Mexico no permite modificar el acta de nac...</td>\n",
       "      <td>https://maldita.es/malditobulo/20211220/mexico...</td>\n",
       "      <td>2021/12/20</td>\n",
       "      <td>{'no': 7, 'mexico': 8, 'permite': 3, 'modifica...</td>\n",
       "    </tr>\n",
       "    <tr>\n",
       "      <th>4</th>\n",
       "      <td>No, esta ilustracion del artista Walter Molino...</td>\n",
       "      <td>https://maldita.es/malditobulo/20211220/pintur...</td>\n",
       "      <td>2021/12/20</td>\n",
       "      <td>{'no': 5, 'esta': 1, 'ilustracion': 6, 'del': ...</td>\n",
       "    </tr>\n",
       "    <tr>\n",
       "      <th>...</th>\n",
       "      <td>...</td>\n",
       "      <td>...</td>\n",
       "      <td>...</td>\n",
       "      <td>...</td>\n",
       "    </tr>\n",
       "    <tr>\n",
       "      <th>5646</th>\n",
       "      <td>No, Donald Trump no plagio frases de su discur...</td>\n",
       "      <td>https://maldita.es/malditobulo/20170121/no-don...</td>\n",
       "      <td>2017/01/21</td>\n",
       "      <td>{'no': 2, 'donald': 1, 'trump': 1, 'plagio': 1...</td>\n",
       "    </tr>\n",
       "    <tr>\n",
       "      <th>5647</th>\n",
       "      <td>No, Roberto Centeno no es asesor de Trump</td>\n",
       "      <td>https://maldita.es/malditobulo/20170120/no-rob...</td>\n",
       "      <td>2017/01/20</td>\n",
       "      <td>{'no': 2, 'roberto': 1, 'centeno': 1, 'es': 1,...</td>\n",
       "    </tr>\n",
       "    <tr>\n",
       "      <th>5648</th>\n",
       "      <td>No, una mujer no se ha puesto veneno en la vag...</td>\n",
       "      <td>https://maldita.es/malditobulo/20170120/no-una...</td>\n",
       "      <td>2017/01/20</td>\n",
       "      <td>{'no': 3, 'una': 3, 'mujer': 2, 'se': 2, 'ha':...</td>\n",
       "    </tr>\n",
       "    <tr>\n",
       "      <th>5649</th>\n",
       "      <td>No, un refugiado no ha violado y dejado embara...</td>\n",
       "      <td>https://maldita.es/malditobulo/20170114/no-un-...</td>\n",
       "      <td>2017/01/14</td>\n",
       "      <td>{'no': 5, 'un': 3, 'refugiado': 4, 'ha': 1, 'v...</td>\n",
       "    </tr>\n",
       "    <tr>\n",
       "      <th>5650</th>\n",
       "      <td>No, un musulman no ha entrado en un Mercadona ...</td>\n",
       "      <td>https://maldita.es/malditobulo/20170113/no-un-...</td>\n",
       "      <td>2017/01/13</td>\n",
       "      <td>{'no': 2, 'un': 3, 'musulman': 1, 'ha': 1, 'en...</td>\n",
       "    </tr>\n",
       "  </tbody>\n",
       "</table>\n",
       "<p>5640 rows × 4 columns</p>\n",
       "</div>"
      ],
      "text/plain": [
       "                                                 titulo  \\\n",
       "0     No, los datos de positivos de un estudio de la...   \n",
       "1     La imagen de la cafeteria del Congreso de los ...   \n",
       "2     Como los antivacunas han utilizado el problema...   \n",
       "3     No, Mexico no permite modificar el acta de nac...   \n",
       "4     No, esta ilustracion del artista Walter Molino...   \n",
       "...                                                 ...   \n",
       "5646  No, Donald Trump no plagio frases de su discur...   \n",
       "5647          No, Roberto Centeno no es asesor de Trump   \n",
       "5648  No, una mujer no se ha puesto veneno en la vag...   \n",
       "5649  No, un refugiado no ha violado y dejado embara...   \n",
       "5650  No, un musulman no ha entrado en un Mercadona ...   \n",
       "\n",
       "                                                   link        date  \\\n",
       "0     https://maldita.es/malditobulo/20211220/complu...  2021/12/20   \n",
       "1     https://maldita.es/malditobulo/20211220/cafete...  2021/12/20   \n",
       "2     https://maldita.es/malditobulo/20211220/kun-ag...  2021/12/20   \n",
       "3     https://maldita.es/malditobulo/20211220/mexico...  2021/12/20   \n",
       "4     https://maldita.es/malditobulo/20211220/pintur...  2021/12/20   \n",
       "...                                                 ...         ...   \n",
       "5646  https://maldita.es/malditobulo/20170121/no-don...  2017/01/21   \n",
       "5647  https://maldita.es/malditobulo/20170120/no-rob...  2017/01/20   \n",
       "5648  https://maldita.es/malditobulo/20170120/no-una...  2017/01/20   \n",
       "5649  https://maldita.es/malditobulo/20170114/no-un-...  2017/01/14   \n",
       "5650  https://maldita.es/malditobulo/20170113/no-un-...  2017/01/13   \n",
       "\n",
       "                                            words_count  \n",
       "0     {'no': 13, 'los': 15, 'datos': 8, 'de': 76, 'p...  \n",
       "1     {'la': 32, 'imagen': 5, 'de': 31, 'cafeteria':...  \n",
       "2     {'como': 6, 'los': 9, 'antivacunas': 1, 'han':...  \n",
       "3     {'no': 7, 'mexico': 8, 'permite': 3, 'modifica...  \n",
       "4     {'no': 5, 'esta': 1, 'ilustracion': 6, 'del': ...  \n",
       "...                                                 ...  \n",
       "5646  {'no': 2, 'donald': 1, 'trump': 1, 'plagio': 1...  \n",
       "5647  {'no': 2, 'roberto': 1, 'centeno': 1, 'es': 1,...  \n",
       "5648  {'no': 3, 'una': 3, 'mujer': 2, 'se': 2, 'ha':...  \n",
       "5649  {'no': 5, 'un': 3, 'refugiado': 4, 'ha': 1, 'v...  \n",
       "5650  {'no': 2, 'un': 3, 'musulman': 1, 'ha': 1, 'en...  \n",
       "\n",
       "[5640 rows x 4 columns]"
      ]
     },
     "execution_count": 2,
     "metadata": {},
     "output_type": "execute_result"
    }
   ],
   "source": [
    "maldita = pd.read_json(\"data/FakeStorage/fakenewsMaldita.json\").transpose()\n",
    "maldita"
   ]
  },
  {
   "cell_type": "code",
   "execution_count": 5,
   "metadata": {},
   "outputs": [
    {
     "data": {
      "text/html": [
       "<div>\n",
       "<style scoped>\n",
       "    .dataframe tbody tr th:only-of-type {\n",
       "        vertical-align: middle;\n",
       "    }\n",
       "\n",
       "    .dataframe tbody tr th {\n",
       "        vertical-align: top;\n",
       "    }\n",
       "\n",
       "    .dataframe thead th {\n",
       "        text-align: right;\n",
       "    }\n",
       "</style>\n",
       "<table border=\"1\" class=\"dataframe\">\n",
       "  <thead>\n",
       "    <tr style=\"text-align: right;\">\n",
       "      <th></th>\n",
       "      <th>titulo</th>\n",
       "      <th>link</th>\n",
       "      <th>date</th>\n",
       "      <th>words_count</th>\n",
       "    </tr>\n",
       "  </thead>\n",
       "  <tbody>\n",
       "    <tr>\n",
       "      <th>0</th>\n",
       "      <td>Las vacunas contienen óxido de grafeno. Estas ...</td>\n",
       "      <td>https://www.newtral.es/carta-carlos-martinez-v...</td>\n",
       "      <td>20/12/2021</td>\n",
       "      <td>{'las': 29, 'vacunas': 20, 'contienen': 3, 'ox...</td>\n",
       "    </tr>\n",
       "    <tr>\n",
       "      <th>1</th>\n",
       "      <td>Este cuadro de una joven amamantando a un anci...</td>\n",
       "      <td>https://www.newtral.es/jules-lefebvre-cuadro-v...</td>\n",
       "      <td>20/12/2021</td>\n",
       "      <td>{'este': 6, 'cuadro': 6, 'de': 60, 'una': 16, ...</td>\n",
       "    </tr>\n",
       "    <tr>\n",
       "      <th>2</th>\n",
       "      <td>Las personas que han estado en la discoteca TA...</td>\n",
       "      <td>https://www.newtral.es/brote-discoteca-tenerif...</td>\n",
       "      <td>17/12/2021</td>\n",
       "      <td>{'las': 14, 'personas': 3, 'que': 46, 'han': 7...</td>\n",
       "    </tr>\n",
       "    <tr>\n",
       "      <th>3</th>\n",
       "      <td>Ursula Van Der Leyen (sic) dijo a la prensa qu...</td>\n",
       "      <td>https://www.newtral.es/von-der-leyen-codigo-nu...</td>\n",
       "      <td>17/12/2021</td>\n",
       "      <td>{'ursula': 6, 'van': 1, 'der': 11, 'leyen': 11...</td>\n",
       "    </tr>\n",
       "    <tr>\n",
       "      <th>4</th>\n",
       "      <td>Secuestran [en Australia] para inocular a la h...</td>\n",
       "      <td>https://www.newtral.es/nina-obligada-a-vacunar...</td>\n",
       "      <td>17/12/2021</td>\n",
       "      <td>{'secuestran': 2, 'en': 46, 'australia': 21, '...</td>\n",
       "    </tr>\n",
       "    <tr>\n",
       "      <th>...</th>\n",
       "      <td>...</td>\n",
       "      <td>...</td>\n",
       "      <td>...</td>\n",
       "      <td>...</td>\n",
       "    </tr>\n",
       "    <tr>\n",
       "      <th>1635</th>\n",
       "      <td>Picasso pintó el Guernica en recuerdo de un to...</td>\n",
       "      <td>https://www.newtral.es/fake-no-picasso-no-pint...</td>\n",
       "      <td>25/10/2018</td>\n",
       "      <td>{'picasso': 9, 'pinto': 1, 'el': 22, 'guernica...</td>\n",
       "    </tr>\n",
       "    <tr>\n",
       "      <th>1636</th>\n",
       "      <td>Un supuesto juez del Tribunal Constitucional c...</td>\n",
       "      <td>https://www.newtral.es/no-hay-jueces-cantando-...</td>\n",
       "      <td>19/10/2018</td>\n",
       "      <td>{'un': 3, 'supuesto': 2, 'juez': 3, 'del': 4, ...</td>\n",
       "    </tr>\n",
       "    <tr>\n",
       "      <th>1637</th>\n",
       "      <td>Este vídeo es un asalto de refugiados en España</td>\n",
       "      <td>https://www.newtral.es/desmentimos-un-nuevo-bu...</td>\n",
       "      <td>18/10/2018</td>\n",
       "      <td>{'este': 2, 'video': 4, 'es': 4, 'un': 2, 'asa...</td>\n",
       "    </tr>\n",
       "    <tr>\n",
       "      <th>1638</th>\n",
       "      <td>Haré todo lo posible para impedir que el Salar...</td>\n",
       "      <td>https://www.newtral.es/la-verdad-sobre-las-dec...</td>\n",
       "      <td>16/10/2018</td>\n",
       "      <td>{'hare': 2, 'todo': 2, 'lo': 3, 'posible': 3, ...</td>\n",
       "    </tr>\n",
       "    <tr>\n",
       "      <th>1639</th>\n",
       "      <td>Las vacunas causan autismo</td>\n",
       "      <td>https://www.newtral.es/no-existe-evidencia-cie...</td>\n",
       "      <td>05/10/2018</td>\n",
       "      <td>{'las': 3, 'vacunas': 3, 'causan': 1, 'autismo...</td>\n",
       "    </tr>\n",
       "  </tbody>\n",
       "</table>\n",
       "<p>1640 rows × 4 columns</p>\n",
       "</div>"
      ],
      "text/plain": [
       "                                                 titulo  \\\n",
       "0     Las vacunas contienen óxido de grafeno. Estas ...   \n",
       "1     Este cuadro de una joven amamantando a un anci...   \n",
       "2     Las personas que han estado en la discoteca TA...   \n",
       "3     Ursula Van Der Leyen (sic) dijo a la prensa qu...   \n",
       "4     Secuestran [en Australia] para inocular a la h...   \n",
       "...                                                 ...   \n",
       "1635  Picasso pintó el Guernica en recuerdo de un to...   \n",
       "1636  Un supuesto juez del Tribunal Constitucional c...   \n",
       "1637    Este vídeo es un asalto de refugiados en España   \n",
       "1638  Haré todo lo posible para impedir que el Salar...   \n",
       "1639                         Las vacunas causan autismo   \n",
       "\n",
       "                                                   link        date  \\\n",
       "0     https://www.newtral.es/carta-carlos-martinez-v...  20/12/2021   \n",
       "1     https://www.newtral.es/jules-lefebvre-cuadro-v...  20/12/2021   \n",
       "2     https://www.newtral.es/brote-discoteca-tenerif...  17/12/2021   \n",
       "3     https://www.newtral.es/von-der-leyen-codigo-nu...  17/12/2021   \n",
       "4     https://www.newtral.es/nina-obligada-a-vacunar...  17/12/2021   \n",
       "...                                                 ...         ...   \n",
       "1635  https://www.newtral.es/fake-no-picasso-no-pint...  25/10/2018   \n",
       "1636  https://www.newtral.es/no-hay-jueces-cantando-...  19/10/2018   \n",
       "1637  https://www.newtral.es/desmentimos-un-nuevo-bu...  18/10/2018   \n",
       "1638  https://www.newtral.es/la-verdad-sobre-las-dec...  16/10/2018   \n",
       "1639  https://www.newtral.es/no-existe-evidencia-cie...  05/10/2018   \n",
       "\n",
       "                                            words_count  \n",
       "0     {'las': 29, 'vacunas': 20, 'contienen': 3, 'ox...  \n",
       "1     {'este': 6, 'cuadro': 6, 'de': 60, 'una': 16, ...  \n",
       "2     {'las': 14, 'personas': 3, 'que': 46, 'han': 7...  \n",
       "3     {'ursula': 6, 'van': 1, 'der': 11, 'leyen': 11...  \n",
       "4     {'secuestran': 2, 'en': 46, 'australia': 21, '...  \n",
       "...                                                 ...  \n",
       "1635  {'picasso': 9, 'pinto': 1, 'el': 22, 'guernica...  \n",
       "1636  {'un': 3, 'supuesto': 2, 'juez': 3, 'del': 4, ...  \n",
       "1637  {'este': 2, 'video': 4, 'es': 4, 'un': 2, 'asa...  \n",
       "1638  {'hare': 2, 'todo': 2, 'lo': 3, 'posible': 3, ...  \n",
       "1639  {'las': 3, 'vacunas': 3, 'causan': 1, 'autismo...  \n",
       "\n",
       "[1640 rows x 4 columns]"
      ]
     },
     "execution_count": 5,
     "metadata": {},
     "output_type": "execute_result"
    }
   ],
   "source": [
    "newtral = pd.read_json(\"data/FakeStorage/fakenewsNewtral.json\").transpose()\n",
    "newtral"
   ]
  },
  {
   "cell_type": "code",
   "execution_count": 3,
   "metadata": {},
   "outputs": [
    {
     "data": {
      "text/plain": [
       "(1633, 4)"
      ]
     },
     "execution_count": 3,
     "metadata": {},
     "output_type": "execute_result"
    }
   ],
   "source": [
    "newtral_old = pd.read_json(\"data/FakeStorage/fakenewsNewtral_old.json\").transpose()\n",
    "newtral_old.shape"
   ]
  },
  {
   "cell_type": "code",
   "execution_count": 6,
   "metadata": {},
   "outputs": [
    {
     "data": {
      "text/plain": [
       "(1640, 4)"
      ]
     },
     "execution_count": 6,
     "metadata": {},
     "output_type": "execute_result"
    }
   ],
   "source": [
    "newtral_union = pd.concat([newtral,newtral_old],ignore_index=True)\n",
    "newtral_sin_duplicados = newtral_union.drop_duplicates(subset=[\"titulo\"])\n",
    "newtral_sin_duplicados.shape"
   ]
  },
  {
   "cell_type": "markdown",
   "metadata": {},
   "source": [
    "### **Datos recolectados mediante Web Scrapping**\n"
   ]
  },
  {
   "cell_type": "markdown",
   "metadata": {},
   "source": [
    "Todos los datos mostrados a continuacion fueron recolectados por nuestro grupo desde el dia 01/10/2024 hasta el 01/12/2024, a traves de distintas paginas de fact-cheking utilizando el scrapeo de datos.\n",
    "\n",
    "Los datos fueron recolectados de las siguientes fuentes: \n",
    "\n",
    "* [Chequeado](https://chequeado.com/notas/)\n",
    "* [Newtral](https://www.newtral.es/)\n"
   ]
  },
  {
   "cell_type": "code",
   "execution_count": 13,
   "metadata": {},
   "outputs": [
    {
     "name": "stdout",
     "output_type": "stream",
     "text": [
      "(3638, 3)\n"
     ]
    },
    {
     "data": {
      "text/html": [
       "<div>\n",
       "<style scoped>\n",
       "    .dataframe tbody tr th:only-of-type {\n",
       "        vertical-align: middle;\n",
       "    }\n",
       "\n",
       "    .dataframe tbody tr th {\n",
       "        vertical-align: top;\n",
       "    }\n",
       "\n",
       "    .dataframe thead th {\n",
       "        text-align: right;\n",
       "    }\n",
       "</style>\n",
       "<table border=\"1\" class=\"dataframe\">\n",
       "  <thead>\n",
       "    <tr style=\"text-align: right;\">\n",
       "      <th></th>\n",
       "      <th>Titulo</th>\n",
       "      <th>Categoria</th>\n",
       "      <th>Texto</th>\n",
       "    </tr>\n",
       "  </thead>\n",
       "  <tbody>\n",
       "    <tr>\n",
       "      <th>0</th>\n",
       "      <td>Son falsos estos resultados de boca de urna ad...</td>\n",
       "      <td>Falso</td>\n",
       "      <td>Circulan en redes sociales resultados presiden...</td>\n",
       "    </tr>\n",
       "    <tr>\n",
       "      <th>1</th>\n",
       "      <td>No se divulgaron resultados oficiales previos ...</td>\n",
       "      <td>Falso</td>\n",
       "      <td>Se difundieron en redes sociales supuestos pri...</td>\n",
       "    </tr>\n",
       "    <tr>\n",
       "      <th>2</th>\n",
       "      <td>En el balotaje 2023, las boletas con el número...</td>\n",
       "      <td>Falso</td>\n",
       "      <td>Miles de usuarios denuncian que, durante la jo...</td>\n",
       "    </tr>\n",
       "    <tr>\n",
       "      <th>3</th>\n",
       "      <td>Sergio Massa no pronunció la frase “voy a pode...</td>\n",
       "      <td>Falso</td>\n",
       "      <td>Decenas de miles de usuarios comparten una pla...</td>\n",
       "    </tr>\n",
       "    <tr>\n",
       "      <th>4</th>\n",
       "      <td>No, este mural de Lionel Messi no lleva escrit...</td>\n",
       "      <td>Falso</td>\n",
       "      <td>A pocos días del balotaje, miles de usuarios d...</td>\n",
       "    </tr>\n",
       "  </tbody>\n",
       "</table>\n",
       "</div>"
      ],
      "text/plain": [
       "                                              Titulo Categoria  \\\n",
       "0  Son falsos estos resultados de boca de urna ad...     Falso   \n",
       "1  No se divulgaron resultados oficiales previos ...     Falso   \n",
       "2  En el balotaje 2023, las boletas con el número...     Falso   \n",
       "3  Sergio Massa no pronunció la frase “voy a pode...     Falso   \n",
       "4  No, este mural de Lionel Messi no lleva escrit...     Falso   \n",
       "\n",
       "                                               Texto  \n",
       "0  Circulan en redes sociales resultados presiden...  \n",
       "1  Se difundieron en redes sociales supuestos pri...  \n",
       "2  Miles de usuarios denuncian que, durante la jo...  \n",
       "3  Decenas de miles de usuarios comparten una pla...  \n",
       "4  A pocos días del balotaje, miles de usuarios d...  "
      ]
     },
     "execution_count": 13,
     "metadata": {},
     "output_type": "execute_result"
    }
   ],
   "source": [
    "\n",
    "chequeado = pd.read_csv(\"data/Scrape/chequeado.csv\",names=['Titulo','Categoria','Texto'],header=0)\n",
    "print(chequeado.shape)\n",
    "chequeado.head()\n"
   ]
  },
  {
   "cell_type": "code",
   "execution_count": 14,
   "metadata": {},
   "outputs": [
    {
     "data": {
      "text/plain": [
       "Categoria\n",
       "Falso                     1572\n",
       "Verdadero                  830\n",
       "Engañoso                   374\n",
       "Verdadero, pero…           263\n",
       "Exagerado                  213\n",
       "Insostenible               125\n",
       "Discutible                  94\n",
       "Apresurado                  40\n",
       "En proceso, demorada        30\n",
       "Incumplida                  29\n",
       "En proceso, adelantada      19\n",
       "Fuera de contexto           17\n",
       "Cumplida                    13\n",
       "Inchequeable                10\n",
       "Incumplida con avances       9\n",
       "Name: count, dtype: int64"
      ]
     },
     "execution_count": 14,
     "metadata": {},
     "output_type": "execute_result"
    }
   ],
   "source": [
    "chequeado[\"Categoria\"].value_counts()"
   ]
  },
  {
   "cell_type": "code",
   "execution_count": 15,
   "metadata": {},
   "outputs": [],
   "source": [
    "chequeado[\"Origen\"] = \"Chequeado\""
   ]
  },
  {
   "cell_type": "code",
   "execution_count": 16,
   "metadata": {},
   "outputs": [
    {
     "data": {
      "text/html": [
       "<div>\n",
       "<style scoped>\n",
       "    .dataframe tbody tr th:only-of-type {\n",
       "        vertical-align: middle;\n",
       "    }\n",
       "\n",
       "    .dataframe tbody tr th {\n",
       "        vertical-align: top;\n",
       "    }\n",
       "\n",
       "    .dataframe thead th {\n",
       "        text-align: right;\n",
       "    }\n",
       "</style>\n",
       "<table border=\"1\" class=\"dataframe\">\n",
       "  <thead>\n",
       "    <tr style=\"text-align: right;\">\n",
       "      <th></th>\n",
       "      <th>Texto</th>\n",
       "      <th>Autor</th>\n",
       "      <th>Posicion</th>\n",
       "      <th>Categoria</th>\n",
       "    </tr>\n",
       "  </thead>\n",
       "  <tbody>\n",
       "    <tr>\n",
       "      <th>0</th>\n",
       "      <td>“Hay una resolución del Congreso de los Diputa...</td>\n",
       "      <td>Esteban González Pons</td>\n",
       "      <td>Vicesecretario general del PP</td>\n",
       "      <td>Verdad a medias</td>\n",
       "    </tr>\n",
       "    <tr>\n",
       "      <th>1</th>\n",
       "      <td>\"Nuestra deuda con el Estado es treinta veces ...</td>\n",
       "      <td>Alfonso Rueda</td>\n",
       "      <td>Presidente de la Xunta de Galicia</td>\n",
       "      <td>Verdadero</td>\n",
       "    </tr>\n",
       "    <tr>\n",
       "      <th>2</th>\n",
       "      <td>“Desde el año 2020 le arrebatamos el liderazgo...</td>\n",
       "      <td>Juan Manuel Moreno</td>\n",
       "      <td>Presidente de Andalucía</td>\n",
       "      <td>Verdad a medias</td>\n",
       "    </tr>\n",
       "    <tr>\n",
       "      <th>3</th>\n",
       "      <td>“[Impuesto temporal de grandes fortunas y soli...</td>\n",
       "      <td>Isabel Díaz Ayuso</td>\n",
       "      <td>Presidenta de la Comunidad de Madrid</td>\n",
       "      <td>Falso</td>\n",
       "    </tr>\n",
       "    <tr>\n",
       "      <th>4</th>\n",
       "      <td>“En esta Cámara yo traje una propuesta de Gobi...</td>\n",
       "      <td>Alberto Núñez Feijóo</td>\n",
       "      <td>Presidente del PP</td>\n",
       "      <td>Verdad a medias</td>\n",
       "    </tr>\n",
       "    <tr>\n",
       "      <th>...</th>\n",
       "      <td>...</td>\n",
       "      <td>...</td>\n",
       "      <td>...</td>\n",
       "      <td>...</td>\n",
       "    </tr>\n",
       "    <tr>\n",
       "      <th>1055</th>\n",
       "      <td>“Si al PSOE le dan los números para gobernar c...</td>\n",
       "      <td>Pablo Iglesias Turrión</td>\n",
       "      <td>Diputado</td>\n",
       "      <td>Falso</td>\n",
       "    </tr>\n",
       "    <tr>\n",
       "      <th>1056</th>\n",
       "      <td>En Andalucía, de 47 millones dedicados a viole...</td>\n",
       "      <td>Rocío Monasterio San Martín</td>\n",
       "      <td>Diputada</td>\n",
       "      <td>Engañoso</td>\n",
       "    </tr>\n",
       "    <tr>\n",
       "      <th>1057</th>\n",
       "      <td>“El PP ha reducido la brecha salarial un 5%”</td>\n",
       "      <td>Pablo Casado Blanco</td>\n",
       "      <td>Diputado</td>\n",
       "      <td>Falso</td>\n",
       "    </tr>\n",
       "    <tr>\n",
       "      <th>1058</th>\n",
       "      <td>“Los partidos que llevaban en sus programas la...</td>\n",
       "      <td>Pedro Sánchez Pérez-Castejón</td>\n",
       "      <td>Presidente</td>\n",
       "      <td>Verdad a medias</td>\n",
       "    </tr>\n",
       "    <tr>\n",
       "      <th>1059</th>\n",
       "      <td>El sector de la construcción se ha desplomado ...</td>\n",
       "      <td>Pablo Casado Blanco</td>\n",
       "      <td>Diputado</td>\n",
       "      <td>Falso</td>\n",
       "    </tr>\n",
       "  </tbody>\n",
       "</table>\n",
       "<p>1060 rows × 4 columns</p>\n",
       "</div>"
      ],
      "text/plain": [
       "                                                  Texto  \\\n",
       "0     “Hay una resolución del Congreso de los Diputa...   \n",
       "1     \"Nuestra deuda con el Estado es treinta veces ...   \n",
       "2     “Desde el año 2020 le arrebatamos el liderazgo...   \n",
       "3     “[Impuesto temporal de grandes fortunas y soli...   \n",
       "4     “En esta Cámara yo traje una propuesta de Gobi...   \n",
       "...                                                 ...   \n",
       "1055  “Si al PSOE le dan los números para gobernar c...   \n",
       "1056  En Andalucía, de 47 millones dedicados a viole...   \n",
       "1057       “El PP ha reducido la brecha salarial un 5%”   \n",
       "1058  “Los partidos que llevaban en sus programas la...   \n",
       "1059  El sector de la construcción se ha desplomado ...   \n",
       "\n",
       "                             Autor                              Posicion  \\\n",
       "0            Esteban González Pons         Vicesecretario general del PP   \n",
       "1                    Alfonso Rueda     Presidente de la Xunta de Galicia   \n",
       "2               Juan Manuel Moreno               Presidente de Andalucía   \n",
       "3                Isabel Díaz Ayuso  Presidenta de la Comunidad de Madrid   \n",
       "4             Alberto Núñez Feijóo                     Presidente del PP   \n",
       "...                            ...                                   ...   \n",
       "1055        Pablo Iglesias Turrión                              Diputado   \n",
       "1056   Rocío Monasterio San Martín                              Diputada   \n",
       "1057           Pablo Casado Blanco                              Diputado   \n",
       "1058  Pedro Sánchez Pérez-Castejón                            Presidente   \n",
       "1059           Pablo Casado Blanco                              Diputado   \n",
       "\n",
       "            Categoria  \n",
       "0     Verdad a medias  \n",
       "1           Verdadero  \n",
       "2     Verdad a medias  \n",
       "3               Falso  \n",
       "4     Verdad a medias  \n",
       "...               ...  \n",
       "1055            Falso  \n",
       "1056         Engañoso  \n",
       "1057            Falso  \n",
       "1058  Verdad a medias  \n",
       "1059            Falso  \n",
       "\n",
       "[1060 rows x 4 columns]"
      ]
     },
     "execution_count": 16,
     "metadata": {},
     "output_type": "execute_result"
    }
   ],
   "source": [
    "newtral_rmx = pd.read_csv(\"data/Scrape/newtral.csv\",names=['Texto','Autor','Posicion','Categoria'],header=0)\n",
    "newtral_rmx"
   ]
  },
  {
   "cell_type": "code",
   "execution_count": 17,
   "metadata": {},
   "outputs": [
    {
     "data": {
      "text/plain": [
       "Categoria\n",
       "Falso              464\n",
       "Engañoso           442\n",
       "Verdad a medias    141\n",
       "Verdadero           13\n",
       "Name: count, dtype: int64"
      ]
     },
     "execution_count": 17,
     "metadata": {},
     "output_type": "execute_result"
    }
   ],
   "source": [
    "newtral_rmx[\"Categoria\"].value_counts()"
   ]
  },
  {
   "cell_type": "markdown",
   "metadata": {},
   "source": [
    "##  **3. Analisis Dataset final**\n"
   ]
  },
  {
   "cell_type": "markdown",
   "metadata": {},
   "source": [
    "**Cantidad de valores totales:**"
   ]
  },
  {
   "cell_type": "code",
   "execution_count": 197,
   "metadata": {},
   "outputs": [
    {
     "data": {
      "text/plain": [
       "(62972, 9)"
      ]
     },
     "execution_count": 197,
     "metadata": {},
     "output_type": "execute_result"
    }
   ],
   "source": [
    "data = pd.read_csv(\"data.csv\")\n",
    "data.shape"
   ]
  },
  {
   "cell_type": "markdown",
   "metadata": {},
   "source": [
    "**Cantidad de nulos por columna:**"
   ]
  },
  {
   "cell_type": "code",
   "execution_count": 216,
   "metadata": {},
   "outputs": [
    {
     "data": {
      "text/plain": [
       "Categoria        0\n",
       "Titulo        3168\n",
       "Texto            0\n",
       "Fecha         5741\n",
       "Origen           0\n",
       "id           61429\n",
       "Topico       61429\n",
       "Fuente       61436\n",
       "URL          61432\n",
       "dtype: int64"
      ]
     },
     "execution_count": 216,
     "metadata": {},
     "output_type": "execute_result"
    }
   ],
   "source": [
    "data.isnull().sum()"
   ]
  },
  {
   "cell_type": "markdown",
   "metadata": {},
   "source": [
    "**Cantidad de noticias Falsas y Verdaderas:**"
   ]
  },
  {
   "cell_type": "code",
   "execution_count": 221,
   "metadata": {},
   "outputs": [
    {
     "data": {
      "text/plain": [
       "Categoria\n",
       "1    36267\n",
       "0    26705\n",
       "Name: count, dtype: int64"
      ]
     },
     "execution_count": 221,
     "metadata": {},
     "output_type": "execute_result"
    }
   ],
   "source": [
    "tf_count = data[\"Categoria\"].value_counts()\n",
    "tf_count"
   ]
  },
  {
   "cell_type": "code",
   "execution_count": 230,
   "metadata": {},
   "outputs": [
    {
     "data": {
      "image/png": "[encoded data removed]",
      "text/plain": [
       "<Figure size 640x480 with 1 Axes>"
      ]
     },
     "metadata": {},
     "output_type": "display_data"
    }
   ],
   "source": [
    "plt.bar(\"True\", tf_count[1], color=\"skyblue\", label='Barra Izquierda')\n",
    "plt.bar(\"False\", tf_count[0], color=\"crimson\", label='Barra Derecha')\n",
    "plt.title(\"Cantidad de noticias verdaderas y falsas\")\n",
    "plt.xlabel(\"Categorías\")\n",
    "plt.ylabel(\"Cantidad de noticias\")\n",
    "plt.show()"
   ]
  },
  {
   "cell_type": "markdown",
   "metadata": {},
   "source": [
    "**Cantidad de noticias por tópico**"
   ]
  },
  {
   "cell_type": "code",
   "execution_count": 241,
   "metadata": {},
   "outputs": [
    {
     "data": {
      "text/html": [
       "<div>\n",
       "<style scoped>\n",
       "    .dataframe tbody tr th:only-of-type {\n",
       "        vertical-align: middle;\n",
       "    }\n",
       "\n",
       "    .dataframe tbody tr th {\n",
       "        vertical-align: top;\n",
       "    }\n",
       "\n",
       "    .dataframe thead th {\n",
       "        text-align: right;\n",
       "    }\n",
       "</style>\n",
       "<table border=\"1\" class=\"dataframe\">\n",
       "  <thead>\n",
       "    <tr style=\"text-align: right;\">\n",
       "      <th></th>\n",
       "      <th>Topico</th>\n",
       "      <th>Count</th>\n",
       "    </tr>\n",
       "  </thead>\n",
       "  <tbody>\n",
       "    <tr>\n",
       "      <th>3</th>\n",
       "      <td>Deporte</td>\n",
       "      <td>2</td>\n",
       "    </tr>\n",
       "    <tr>\n",
       "      <th>0</th>\n",
       "      <td>Ambiental</td>\n",
       "      <td>4</td>\n",
       "    </tr>\n",
       "    <tr>\n",
       "      <th>1</th>\n",
       "      <td>Ciencia</td>\n",
       "      <td>13</td>\n",
       "    </tr>\n",
       "    <tr>\n",
       "      <th>8</th>\n",
       "      <td>Internacional</td>\n",
       "      <td>14</td>\n",
       "    </tr>\n",
       "    <tr>\n",
       "      <th>5</th>\n",
       "      <td>Education</td>\n",
       "      <td>22</td>\n",
       "    </tr>\n",
       "    <tr>\n",
       "      <th>12</th>\n",
       "      <td>Security</td>\n",
       "      <td>42</td>\n",
       "    </tr>\n",
       "    <tr>\n",
       "      <th>4</th>\n",
       "      <td>Economy</td>\n",
       "      <td>43</td>\n",
       "    </tr>\n",
       "    <tr>\n",
       "      <th>7</th>\n",
       "      <td>Health</td>\n",
       "      <td>46</td>\n",
       "    </tr>\n",
       "    <tr>\n",
       "      <th>11</th>\n",
       "      <td>Science</td>\n",
       "      <td>89</td>\n",
       "    </tr>\n",
       "    <tr>\n",
       "      <th>10</th>\n",
       "      <td>Política</td>\n",
       "      <td>107</td>\n",
       "    </tr>\n",
       "    <tr>\n",
       "      <th>15</th>\n",
       "      <td>Sport</td>\n",
       "      <td>124</td>\n",
       "    </tr>\n",
       "    <tr>\n",
       "      <th>14</th>\n",
       "      <td>Society</td>\n",
       "      <td>134</td>\n",
       "    </tr>\n",
       "    <tr>\n",
       "      <th>6</th>\n",
       "      <td>Entertainment</td>\n",
       "      <td>148</td>\n",
       "    </tr>\n",
       "    <tr>\n",
       "      <th>13</th>\n",
       "      <td>Sociedad</td>\n",
       "      <td>195</td>\n",
       "    </tr>\n",
       "    <tr>\n",
       "      <th>2</th>\n",
       "      <td>Covid-19</td>\n",
       "      <td>237</td>\n",
       "    </tr>\n",
       "    <tr>\n",
       "      <th>9</th>\n",
       "      <td>Politics</td>\n",
       "      <td>323</td>\n",
       "    </tr>\n",
       "  </tbody>\n",
       "</table>\n",
       "</div>"
      ],
      "text/plain": [
       "           Topico  Count\n",
       "3         Deporte      2\n",
       "0       Ambiental      4\n",
       "1         Ciencia     13\n",
       "8   Internacional     14\n",
       "5       Education     22\n",
       "12       Security     42\n",
       "4         Economy     43\n",
       "7          Health     46\n",
       "11        Science     89\n",
       "10       Política    107\n",
       "15          Sport    124\n",
       "14        Society    134\n",
       "6   Entertainment    148\n",
       "13       Sociedad    195\n",
       "2        Covid-19    237\n",
       "9        Politics    323"
      ]
     },
     "execution_count": 241,
     "metadata": {},
     "output_type": "execute_result"
    }
   ],
   "source": [
    "count_per_topic = data.groupby(data['Topico']).size().reset_index(name=\"Count\").sort_values(by='Count')\n",
    "count_per_topic"
   ]
  },
  {
   "cell_type": "code",
   "execution_count": 248,
   "metadata": {},
   "outputs": [
    {
     "data": {
      "image/png": "[encoded data removed]",
      "text/plain": [
       "<Figure size 1500x1000 with 1 Axes>"
      ]
     },
     "metadata": {},
     "output_type": "display_data"
    }
   ],
   "source": [
    "plt.figure(figsize=(15,10))\n",
    "plt.pie(count_per_topic[\"Count\"], labels=count_per_topic[\"Topico\"],autopct=\"%1.f%%\")\n",
    "\n",
    "plt.title(\"Cantidad de noticias por tópico\")\n",
    "\n",
    "plt.show()"
   ]
  },
  {
   "cell_type": "markdown",
   "metadata": {},
   "source": [
    "**Cantidad de noticias por fuente**"
   ]
  },
  {
   "cell_type": "code",
   "execution_count": 252,
   "metadata": {},
   "outputs": [
    {
     "data": {
      "text/html": [
       "<div>\n",
       "<style scoped>\n",
       "    .dataframe tbody tr th:only-of-type {\n",
       "        vertical-align: middle;\n",
       "    }\n",
       "\n",
       "    .dataframe tbody tr th {\n",
       "        vertical-align: top;\n",
       "    }\n",
       "\n",
       "    .dataframe thead th {\n",
       "        text-align: right;\n",
       "    }\n",
       "</style>\n",
       "<table border=\"1\" class=\"dataframe\">\n",
       "  <thead>\n",
       "    <tr style=\"text-align: right;\">\n",
       "      <th></th>\n",
       "      <th>Fuente</th>\n",
       "      <th>Count</th>\n",
       "    </tr>\n",
       "  </thead>\n",
       "  <tbody>\n",
       "    <tr>\n",
       "      <th>90</th>\n",
       "      <td>El Dizque</td>\n",
       "      <td>143</td>\n",
       "    </tr>\n",
       "    <tr>\n",
       "      <th>109</th>\n",
       "      <td>El Ruinaversal</td>\n",
       "      <td>94</td>\n",
       "    </tr>\n",
       "    <tr>\n",
       "      <th>9</th>\n",
       "      <td>AFPFactual</td>\n",
       "      <td>90</td>\n",
       "    </tr>\n",
       "    <tr>\n",
       "      <th>114</th>\n",
       "      <td>El Universal</td>\n",
       "      <td>69</td>\n",
       "    </tr>\n",
       "    <tr>\n",
       "      <th>126</th>\n",
       "      <td>El país</td>\n",
       "      <td>68</td>\n",
       "    </tr>\n",
       "    <tr>\n",
       "      <th>...</th>\n",
       "      <td>...</td>\n",
       "      <td>...</td>\n",
       "    </tr>\n",
       "    <tr>\n",
       "      <th>188</th>\n",
       "      <td>La Tercera</td>\n",
       "      <td>1</td>\n",
       "    </tr>\n",
       "    <tr>\n",
       "      <th>57</th>\n",
       "      <td>Cuba debate</td>\n",
       "      <td>1</td>\n",
       "    </tr>\n",
       "    <tr>\n",
       "      <th>56</th>\n",
       "      <td>Crónica sur</td>\n",
       "      <td>1</td>\n",
       "    </tr>\n",
       "    <tr>\n",
       "      <th>191</th>\n",
       "      <td>La comarca de Puerto Llano</td>\n",
       "      <td>1</td>\n",
       "    </tr>\n",
       "    <tr>\n",
       "      <th>174</th>\n",
       "      <td>La Libertad</td>\n",
       "      <td>1</td>\n",
       "    </tr>\n",
       "  </tbody>\n",
       "</table>\n",
       "<p>348 rows × 2 columns</p>\n",
       "</div>"
      ],
      "text/plain": [
       "                         Fuente  Count\n",
       "90                    El Dizque    143\n",
       "109              El Ruinaversal     94\n",
       "9                    AFPFactual     90\n",
       "114                El Universal     69\n",
       "126                     El país     68\n",
       "..                          ...    ...\n",
       "188                  La Tercera      1\n",
       "57                  Cuba debate      1\n",
       "56                  Crónica sur      1\n",
       "191  La comarca de Puerto Llano      1\n",
       "174                 La Libertad      1\n",
       "\n",
       "[348 rows x 2 columns]"
      ]
     },
     "execution_count": 252,
     "metadata": {},
     "output_type": "execute_result"
    }
   ],
   "source": [
    "count_per_source = data.groupby(data['Fuente']).size().reset_index(name=\"Count\").sort_values(by='Count',ascending=False)\n",
    "count_per_source"
   ]
  },
  {
   "cell_type": "code",
   "execution_count": 259,
   "metadata": {},
   "outputs": [
    {
     "data": {
      "text/html": [
       "<div>\n",
       "<style scoped>\n",
       "    .dataframe tbody tr th:only-of-type {\n",
       "        vertical-align: middle;\n",
       "    }\n",
       "\n",
       "    .dataframe tbody tr th {\n",
       "        vertical-align: top;\n",
       "    }\n",
       "\n",
       "    .dataframe thead th {\n",
       "        text-align: right;\n",
       "    }\n",
       "</style>\n",
       "<table border=\"1\" class=\"dataframe\">\n",
       "  <thead>\n",
       "    <tr style=\"text-align: right;\">\n",
       "      <th></th>\n",
       "      <th>Fuente</th>\n",
       "      <th>Count</th>\n",
       "    </tr>\n",
       "  </thead>\n",
       "  <tbody>\n",
       "    <tr>\n",
       "      <th>90</th>\n",
       "      <td>El Dizque</td>\n",
       "      <td>143</td>\n",
       "    </tr>\n",
       "    <tr>\n",
       "      <th>109</th>\n",
       "      <td>El Ruinaversal</td>\n",
       "      <td>94</td>\n",
       "    </tr>\n",
       "    <tr>\n",
       "      <th>9</th>\n",
       "      <td>AFPFactual</td>\n",
       "      <td>90</td>\n",
       "    </tr>\n",
       "    <tr>\n",
       "      <th>114</th>\n",
       "      <td>El Universal</td>\n",
       "      <td>69</td>\n",
       "    </tr>\n",
       "    <tr>\n",
       "      <th>126</th>\n",
       "      <td>El país</td>\n",
       "      <td>68</td>\n",
       "    </tr>\n",
       "    <tr>\n",
       "      <th>133</th>\n",
       "      <td>Excelsior</td>\n",
       "      <td>52</td>\n",
       "    </tr>\n",
       "    <tr>\n",
       "      <th>223</th>\n",
       "      <td>Milenio</td>\n",
       "      <td>45</td>\n",
       "    </tr>\n",
       "    <tr>\n",
       "      <th>155</th>\n",
       "      <td>Hay noticia</td>\n",
       "      <td>39</td>\n",
       "    </tr>\n",
       "    <tr>\n",
       "      <th>142</th>\n",
       "      <td>Forbes</td>\n",
       "      <td>38</td>\n",
       "    </tr>\n",
       "    <tr>\n",
       "      <th>44</th>\n",
       "      <td>Censura 0</td>\n",
       "      <td>36</td>\n",
       "    </tr>\n",
       "  </tbody>\n",
       "</table>\n",
       "</div>"
      ],
      "text/plain": [
       "             Fuente  Count\n",
       "90        El Dizque    143\n",
       "109  El Ruinaversal     94\n",
       "9        AFPFactual     90\n",
       "114    El Universal     69\n",
       "126         El país     68\n",
       "133       Excelsior     52\n",
       "223         Milenio     45\n",
       "155     Hay noticia     39\n",
       "142          Forbes     38\n",
       "44        Censura 0     36"
      ]
     },
     "execution_count": 259,
     "metadata": {},
     "output_type": "execute_result"
    }
   ],
   "source": [
    "count_per_source.head(10)"
   ]
  },
  {
   "cell_type": "code",
   "execution_count": 268,
   "metadata": {},
   "outputs": [
    {
     "data": {
      "image/png": "[encoded data removed]",
      "text/plain": [
       "<Figure size 1500x1000 with 1 Axes>"
      ]
     },
     "metadata": {},
     "output_type": "display_data"
    }
   ],
   "source": [
    "plt.figure(figsize=(15, 10))  # Ajusta el tamaño según sea necesario\n",
    "plt.bar(count_per_source.head(10)['Fuente'], count_per_source.head(10)['Count'], color='orange')\n",
    "\n",
    "plt.xlabel('Cantidad de Noticias')\n",
    "plt.ylabel('Fuente')\n",
    "plt.title('Cantidad de Noticias por Fuente')\n",
    "\n",
    "plt.show()"
   ]
  },
  {
   "cell_type": "markdown",
   "metadata": {},
   "source": [
    "**Cantidad de noticias y su categoria por año**"
   ]
  },
  {
   "cell_type": "code",
   "execution_count": 271,
   "metadata": {},
   "outputs": [
    {
     "data": {
      "text/plain": [
       "[Timestamp('2017-04-24 00:00:00'), Timestamp('2023-12-28 00:00:00')]"
      ]
     },
     "execution_count": 271,
     "metadata": {},
     "output_type": "execute_result"
    }
   ],
   "source": [
    "data['Fecha'] = pd.to_datetime(data['Fecha'],dayfirst=True)\n",
    "\n",
    "# Obtener la fecha más antigua y la fecha más reciente\n",
    "fecha_mas_antigua = data['Fecha'].min()\n",
    "fecha_mas_reciente = data['Fecha'].max()\n",
    "\n",
    "[fecha_mas_antigua, fecha_mas_reciente]"
   ]
  },
  {
   "cell_type": "code",
   "execution_count": 272,
   "metadata": {},
   "outputs": [
    {
     "data": {
      "text/plain": [
       "<Figure size 1200x600 with 0 Axes>"
      ]
     },
     "metadata": {},
     "output_type": "display_data"
    },
    {
     "data": {
      "image/png": "[encoded data removed]",
      "text/plain": [
       "<Figure size 640x480 with 1 Axes>"
      ]
     },
     "metadata": {},
     "output_type": "display_data"
    }
   ],
   "source": [
    "data['Fecha'] = pd.to_datetime(data['Fecha'])\n",
    "\n",
    "# Obtener el año de cada noticia\n",
    "data['Year'] = data['Fecha'].dt.year\n",
    "\n",
    "# Graficar la cantidad de noticias por año y clasificación\n",
    "plt.figure(figsize=(12, 6))\n",
    "data.groupby(['Year', 'Categoria']).size().unstack().plot(kind='bar', stacked=True)\n",
    "plt.title('Cantidad de Noticias por Año y Clasificación')\n",
    "plt.xlabel('Año de Publicación')\n",
    "plt.ylabel('Número de Noticias')\n",
    "plt.legend(title='Clasificación')\n",
    "plt.show()"
   ]
  }
 ],
 "metadata": {
  "kernelspec": {
   "display_name": "Python 3.8.10 64-bit",
   "language": "python",
   "name": "python3"
  },
  "language_info": {
   "codemirror_mode": {
    "name": "ipython",
    "version": 3
   },
   "file_extension": ".py",
   "mimetype": "text/x-python",
   "name": "python",
   "nbconvert_exporter": "python",
   "pygments_lexer": "ipython3",
   "version": "3.8.10"
  },
  "orig_nbformat": 4,
  "vscode": {
   "interpreter": {
    "hash": "916dbcbb3f70747c44a77c7bcd40155683ae19c65e1c03b4aa3499c5328201f1"
   }
  }
 },
 "nbformat": 4,
 "nbformat_minor": 2
}
