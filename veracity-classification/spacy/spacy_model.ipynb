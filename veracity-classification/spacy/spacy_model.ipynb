{
 "cells": [
  {
   "cell_type": "code",
   "execution_count": 1,
   "metadata": {},
   "outputs": [],
   "source": [
    "import spacy\n",
    "import pandas as pd\n",
    "from sklearn.model_selection import train_test_split\n"
   ]
  },
  {
   "cell_type": "markdown",
   "metadata": {},
   "source": [
    "#### Cargo los Datos"
   ]
  },
  {
   "cell_type": "code",
   "execution_count": 2,
   "metadata": {},
   "outputs": [
    {
     "data": {
      "text/html": [
       "<div>\n",
       "<style scoped>\n",
       "    .dataframe tbody tr th:only-of-type {\n",
       "        vertical-align: middle;\n",
       "    }\n",
       "\n",
       "    .dataframe tbody tr th {\n",
       "        vertical-align: top;\n",
       "    }\n",
       "\n",
       "    .dataframe thead th {\n",
       "        text-align: right;\n",
       "    }\n",
       "</style>\n",
       "<table border=\"1\" class=\"dataframe\">\n",
       "  <thead>\n",
       "    <tr style=\"text-align: right;\">\n",
       "      <th></th>\n",
       "      <th>clasificacion</th>\n",
       "      <th>texto</th>\n",
       "    </tr>\n",
       "  </thead>\n",
       "  <tbody>\n",
       "    <tr>\n",
       "      <th>0</th>\n",
       "      <td>1</td>\n",
       "      <td>El presidente abre la puerta a unos comicios e...</td>\n",
       "    </tr>\n",
       "    <tr>\n",
       "      <th>1</th>\n",
       "      <td>1</td>\n",
       "      <td>En un escrito, la abogada del Estado Rosa Marí...</td>\n",
       "    </tr>\n",
       "    <tr>\n",
       "      <th>2</th>\n",
       "      <td>0</td>\n",
       "      <td>Este lunes y martes la Asamblea de Madrid acog...</td>\n",
       "    </tr>\n",
       "    <tr>\n",
       "      <th>3</th>\n",
       "      <td>1</td>\n",
       "      <td>Resulta evidente que la ley ha tenido algunos ...</td>\n",
       "    </tr>\n",
       "    <tr>\n",
       "      <th>4</th>\n",
       "      <td>1</td>\n",
       "      <td>El hispanista, que ya ocupó un puesto simbólic...</td>\n",
       "    </tr>\n",
       "  </tbody>\n",
       "</table>\n",
       "</div>"
      ],
      "text/plain": [
       "   clasificacion                                              texto\n",
       "0              1  El presidente abre la puerta a unos comicios e...\n",
       "1              1  En un escrito, la abogada del Estado Rosa Marí...\n",
       "2              0  Este lunes y martes la Asamblea de Madrid acog...\n",
       "3              1  Resulta evidente que la ley ha tenido algunos ...\n",
       "4              1  El hispanista, que ya ocupó un puesto simbólic..."
      ]
     },
     "execution_count": 2,
     "metadata": {},
     "output_type": "execute_result"
    }
   ],
   "source": [
    "data=pd.read_csv(\"../data/data.csv\")\n",
    "data.head()"
   ]
  },
  {
   "cell_type": "code",
   "execution_count": 3,
   "metadata": {},
   "outputs": [
    {
     "data": {
      "text/plain": [
       "clasificacion\n",
       "1    70908\n",
       "0    51868\n",
       "Name: count, dtype: int64"
      ]
     },
     "execution_count": 3,
     "metadata": {},
     "output_type": "execute_result"
    }
   ],
   "source": [
    "data.value_counts(\"clasificacion\")"
   ]
  },
  {
   "cell_type": "code",
   "execution_count": 4,
   "metadata": {},
   "outputs": [],
   "source": [
    "data['texto']= data['texto'].astype(str)"
   ]
  },
  {
   "cell_type": "code",
   "execution_count": 5,
   "metadata": {},
   "outputs": [
    {
     "data": {
      "text/html": [
       "<div>\n",
       "<style scoped>\n",
       "    .dataframe tbody tr th:only-of-type {\n",
       "        vertical-align: middle;\n",
       "    }\n",
       "\n",
       "    .dataframe tbody tr th {\n",
       "        vertical-align: top;\n",
       "    }\n",
       "\n",
       "    .dataframe thead th {\n",
       "        text-align: right;\n",
       "    }\n",
       "</style>\n",
       "<table border=\"1\" class=\"dataframe\">\n",
       "  <thead>\n",
       "    <tr style=\"text-align: right;\">\n",
       "      <th></th>\n",
       "      <th>clasificacion</th>\n",
       "      <th>texto</th>\n",
       "    </tr>\n",
       "  </thead>\n",
       "  <tbody>\n",
       "    <tr>\n",
       "      <th>0</th>\n",
       "      <td>1</td>\n",
       "      <td>No se divulgaron resultados oficiales previos ...</td>\n",
       "    </tr>\n",
       "    <tr>\n",
       "      <th>1</th>\n",
       "      <td>0</td>\n",
       "      <td>Se difundieron en redes sociales supuestos pri...</td>\n",
       "    </tr>\n",
       "    <tr>\n",
       "      <th>2</th>\n",
       "      <td>1</td>\n",
       "      <td>En el balotaje 2023, las boletas con el número...</td>\n",
       "    </tr>\n",
       "    <tr>\n",
       "      <th>3</th>\n",
       "      <td>0</td>\n",
       "      <td>En el balotaje 2023, las boletas con el número...</td>\n",
       "    </tr>\n",
       "    <tr>\n",
       "      <th>4</th>\n",
       "      <td>0</td>\n",
       "      <td>Miles de usuarios denuncian que, durante la jo...</td>\n",
       "    </tr>\n",
       "  </tbody>\n",
       "</table>\n",
       "</div>"
      ],
      "text/plain": [
       "   clasificacion                                              texto\n",
       "0              1  No se divulgaron resultados oficiales previos ...\n",
       "1              0  Se difundieron en redes sociales supuestos pri...\n",
       "2              1  En el balotaje 2023, las boletas con el número...\n",
       "3              0  En el balotaje 2023, las boletas con el número...\n",
       "4              0  Miles de usuarios denuncian que, durante la jo..."
      ]
     },
     "execution_count": 5,
     "metadata": {},
     "output_type": "execute_result"
    }
   ],
   "source": [
    "data_chequeado=pd.read_csv(\"../data/chequeado.csv\")\n",
    "data_chequeado.head()"
   ]
  },
  {
   "cell_type": "code",
   "execution_count": 10,
   "metadata": {},
   "outputs": [
    {
     "name": "stdout",
     "output_type": "stream",
     "text": [
      "clasificacion\n",
      "0    1770\n",
      "1     857\n",
      "Name: count, dtype: int64\n"
     ]
    }
   ],
   "source": [
    "val = data_chequeado.value_counts(\"clasificacion\")\n",
    "print(val)"
   ]
  },
  {
   "cell_type": "code",
   "execution_count": 7,
   "metadata": {},
   "outputs": [],
   "source": [
    "data_chequeado['texto']= data_chequeado['texto'].astype(str)"
   ]
  },
  {
   "cell_type": "markdown",
   "metadata": {},
   "source": [
    "#### Divido en Train, Test Y Split"
   ]
  },
  {
   "cell_type": "code",
   "execution_count": 19,
   "metadata": {},
   "outputs": [
    {
     "name": "stdout",
     "output_type": "stream",
     "text": [
      "Tamaño del conjunto de entrenamiento: 73665\n",
      "Tamaño del conjunto de prueba: 24555\n",
      "Tamaño del conjunto de validación: 24556\n"
     ]
    }
   ],
   "source": [
    "# Divido el conjunto de datos en entrenamiento (60%), prueba (20%) y validación (20%)\n",
    "train_data, test_valid_data = train_test_split(data, test_size=0.4, random_state=42)\n",
    "test_data, val_data = train_test_split(test_valid_data, test_size=0.5, random_state=42)\n",
    "\n",
    "print(\"Tamaño del conjunto de entrenamiento:\", len(train_data))\n",
    "print(\"Tamaño del conjunto de prueba:\", len(test_data))\n",
    "print(\"Tamaño del conjunto de validación:\", len(val_data))"
   ]
  },
  {
   "cell_type": "code",
   "execution_count": 26,
   "metadata": {},
   "outputs": [
    {
     "name": "stdout",
     "output_type": "stream",
     "text": [
      "Valores del conjunto de entrenamiento: 31131 (False) 42534  (True) \n",
      "Valores del conjunto de prueba: 10335 (False) 14220  (True) \n",
      "Valores del conjunto de validación: 10402 (False) 14154  (True) \n"
     ]
    }
   ],
   "source": [
    "train_count = train_data.value_counts(\"clasificacion\")\n",
    "val_count = val_data.value_counts(\"clasificacion\")\n",
    "test_count = test_data.value_counts(\"clasificacion\")\n",
    "\n",
    "print(\"Valores del conjunto de entrenamiento:\", train_count[0], (\"(False)\"),train_count[1], (\" (True) \"))\n",
    "print(\"Valores del conjunto de prueba:\", test_count[0], (\"(False)\"),test_count[1], (\" (True) \"))\n",
    "print(\"Valores del conjunto de validación:\", val_count[0], (\"(False)\"),val_count[1], (\" (True) \"))"
   ]
  },
  {
   "cell_type": "code",
   "execution_count": 27,
   "metadata": {},
   "outputs": [
    {
     "name": "stdout",
     "output_type": "stream",
     "text": [
      "Tamaño del conjunto de entrenamiento: 1576\n",
      "Tamaño del conjunto de prueba: 525\n",
      "Tamaño del conjunto de validación: 526\n"
     ]
    }
   ],
   "source": [
    "# Divido el conjunto de datos en entrenamiento (60%), prueba (20%) y validación (20%)\n",
    "train_chequeado, test_valid_chequeado= train_test_split(data_chequeado, test_size=0.4, random_state=42)\n",
    "test_chequeado, val_chequeado = train_test_split(test_valid_chequeado, test_size=0.5, random_state=42)\n",
    "\n",
    "print(\"Tamaño del conjunto de entrenamiento:\", len(train_chequeado))\n",
    "print(\"Tamaño del conjunto de prueba:\", len(test_chequeado))\n",
    "print(\"Tamaño del conjunto de validación:\", len(val_chequeado))"
   ]
  },
  {
   "cell_type": "code",
   "execution_count": 28,
   "metadata": {},
   "outputs": [
    {
     "name": "stdout",
     "output_type": "stream",
     "text": [
      "Valores del conjunto de entrenamiento: 1046 (False) 530  (True) \n",
      "Valores del conjunto de prueba: 353 (False) 172  (True) \n",
      "Valores del conjunto de validación: 371 (False) 155  (True) \n"
     ]
    }
   ],
   "source": [
    "train_count = train_chequeado.value_counts(\"clasificacion\")\n",
    "val_count = val_chequeado.value_counts(\"clasificacion\")\n",
    "test_count = test_chequeado.value_counts(\"clasificacion\")\n",
    "\n",
    "print(\"Valores del conjunto de entrenamiento:\", train_count[0], (\"(False)\"),train_count[1], (\" (True) \"))\n",
    "print(\"Valores del conjunto de prueba:\", test_count[0], (\"(False)\"),test_count[1], (\" (True) \"))\n",
    "print(\"Valores del conjunto de validación:\", val_count[0], (\"(False)\"),val_count[1], (\" (True) \"))"
   ]
  },
  {
   "cell_type": "markdown",
   "metadata": {},
   "source": [
    "#### Transformo los Datos con Spacy"
   ]
  },
  {
   "cell_type": "code",
   "execution_count": 10,
   "metadata": {},
   "outputs": [],
   "source": [
    "def convert_pandas_to_tuple(data):\n",
    "    data = data.to_dict(orient='records')\n",
    "    return [(d[\"texto\"], {\"FALSE\": d[\"clasificacion\"] == 0, \"TRUE\": d[\"clasificacion\"] == 1}) for d in data]"
   ]
  },
  {
   "cell_type": "code",
   "execution_count": 11,
   "metadata": {},
   "outputs": [],
   "source": [
    "tuple_train_data = convert_pandas_to_tuple(train_data)\n",
    "tuple_val_data = convert_pandas_to_tuple(val_data)\n",
    "tuple_test_data = convert_pandas_to_tuple(test_data)"
   ]
  },
  {
   "cell_type": "code",
   "execution_count": 12,
   "metadata": {},
   "outputs": [],
   "source": [
    "tuple_train_chequeado = convert_pandas_to_tuple(train_chequeado)\n",
    "tuple_val_chequeado = convert_pandas_to_tuple(val_chequeado)\n",
    "tuple_test_chequeado = convert_pandas_to_tuple(test_chequeado)"
   ]
  },
  {
   "cell_type": "code",
   "execution_count": null,
   "metadata": {},
   "outputs": [],
   "source": [
    "nlp = spacy.load(\"es_core_news_lg\")"
   ]
  },
  {
   "cell_type": "code",
   "execution_count": 14,
   "metadata": {},
   "outputs": [],
   "source": [
    "def process_docs(data,nlp):\n",
    "    docs = []\n",
    "    for doc, context in nlp.pipe(data, as_tuples=True):\n",
    "        doc.cats = context\n",
    "        docs.append(doc)\n",
    "    return docs"
   ]
  },
  {
   "cell_type": "code",
   "execution_count": null,
   "metadata": {},
   "outputs": [],
   "source": [
    "doc_train_data = process_docs(tuple_train_data,nlp)"
   ]
  },
  {
   "cell_type": "code",
   "execution_count": 71,
   "metadata": {},
   "outputs": [],
   "source": [
    "doc_test_data = process_docs(tuple_test_data,nlp)"
   ]
  },
  {
   "cell_type": "code",
   "execution_count": 72,
   "metadata": {},
   "outputs": [],
   "source": [
    "doc_val_data = process_docs(tuple_val_data,nlp)"
   ]
  },
  {
   "cell_type": "code",
   "execution_count": 15,
   "metadata": {},
   "outputs": [],
   "source": [
    "doc_train_chequeado = process_docs(tuple_train_chequeado,nlp)"
   ]
  },
  {
   "cell_type": "code",
   "execution_count": 16,
   "metadata": {},
   "outputs": [],
   "source": [
    "doc_test_chequeado = process_docs(tuple_test_chequeado,nlp)"
   ]
  },
  {
   "cell_type": "code",
   "execution_count": 17,
   "metadata": {},
   "outputs": [],
   "source": [
    "doc_val_chequeado = process_docs(tuple_val_chequeado,nlp)"
   ]
  },
  {
   "cell_type": "markdown",
   "metadata": {},
   "source": [
    "#### Almaceno los Docs"
   ]
  },
  {
   "cell_type": "code",
   "execution_count": 18,
   "metadata": {},
   "outputs": [],
   "source": [
    "from spacy.tokens import DocBin"
   ]
  },
  {
   "cell_type": "code",
   "execution_count": 21,
   "metadata": {},
   "outputs": [],
   "source": [
    "def save_docs(data,path):\n",
    "    docbin = DocBin(docs=data)\n",
    "    docbin.to_disk(path)"
   ]
  },
  {
   "cell_type": "code",
   "execution_count": 70,
   "metadata": {},
   "outputs": [],
   "source": [
    "save_docs(doc_train_data,\"./docs/train_data.spacy\")"
   ]
  },
  {
   "cell_type": "code",
   "execution_count": 73,
   "metadata": {},
   "outputs": [],
   "source": [
    "save_docs(doc_test_data,\"./docs/test_data.spacy\")"
   ]
  },
  {
   "cell_type": "code",
   "execution_count": 74,
   "metadata": {},
   "outputs": [],
   "source": [
    "save_docs(doc_val_data,\"./docs/val_data.spacy\")"
   ]
  },
  {
   "cell_type": "code",
   "execution_count": 22,
   "metadata": {},
   "outputs": [],
   "source": [
    "save_docs(doc_train_chequeado,\"./docs/train_chequeado.spacy\")"
   ]
  },
  {
   "cell_type": "code",
   "execution_count": 23,
   "metadata": {},
   "outputs": [],
   "source": [
    "save_docs(doc_test_chequeado,\"./docs/test_chequeado.spacy\")"
   ]
  },
  {
   "cell_type": "code",
   "execution_count": 24,
   "metadata": {},
   "outputs": [],
   "source": [
    "save_docs(doc_val_chequeado,\"./docs/val_chequeado.spacy\")"
   ]
  },
  {
   "cell_type": "markdown",
   "metadata": {},
   "source": [
    "#### Entreno Modelo"
   ]
  },
  {
   "cell_type": "markdown",
   "metadata": {},
   "source": [
    "##### Chequeado"
   ]
  },
  {
   "cell_type": "code",
   "execution_count": null,
   "metadata": {},
   "outputs": [],
   "source": [
    "#! python -m spacy train ./config.cfg --output ./models/data_chequeado --paths.train ./docs/train_chequeado.spacy --paths.dev ./docs/val_chequeado.spacy\n",
    "\n",
    "#============================= Training pipeline =============================\n",
    "#ℹ Pipeline: ['tok2vec', 'textcat']\n",
    "#ℹ Initial learn rate: 0.001\n",
    "#E    #       LOSS TOK2VEC  LOSS TEXTCAT  CATS_SCORE  SCORE \n",
    "#---  ------  ------------  ------------  ----------  ------\n",
    "#  0       0          0.00          0.25       46.25    0.46\n",
    "#  0     200         16.89         59.00       46.19    0.46\n",
    "#  1     400         32.86         51.18       40.97    0.41\n",
    "#  1     600         42.93         52.93       49.28    0.49\n",
    "#  2     800         27.38         48.80       59.79    0.60\n",
    "#  3    1000         30.25         48.58       58.42    0.58\n",
    "#  5    1200         89.07         44.78       63.62    0.64\n",
    "#  7    1400        236.26         38.71       52.69    0.53\n",
    "#  9    1600        249.23         40.23       58.92    0.59\n",
    "# 11    1800        532.75         36.77       58.08    0.58\n",
    "# 15    2000       1454.30         32.91       60.98    0.61\n",
    "# 19    2200       4959.55         26.96       55.18    0.55\n",
    "# 23    2400      10832.40         24.28       63.48    0.63\n",
    "# 28    2600      23742.59         20.82       57.78    0.58\n",
    "# 33    2800      37558.84         18.93       56.31    0.56"
   ]
  },
  {
   "cell_type": "code",
   "execution_count": null,
   "metadata": {},
   "outputs": [],
   "source": [
    "#python -m spacy evaluate ./models/model_chequeado/model-best/ ./docs/test_chequeado.spacy\n",
    "\n",
    "#================================== Results ==================================\n",
    "\n",
    "#TOK                 100.00\n",
    "#TEXTCAT (macro F)   64.02 \n",
    "#SPEED               79    \n",
    "\n",
    "\n",
    "#=========================== Textcat F (per label) ===========================\n",
    "\n",
    "#            P       R       F\n",
    "#FALSE   85.23   57.22   68.47\n",
    "#TRUE    47.57   79.65   59.57\n",
    "\n",
    "\n",
    "#======================== Textcat ROC AUC (per label) ========================\n",
    "\n",
    "#        ROC AUC\n",
    "#FALSE      0.73\n",
    "#TRUE       0.73\n",
    "\n"
   ]
  },
  {
   "cell_type": "code",
   "execution_count": 31,
   "metadata": {},
   "outputs": [
    {
     "name": "stdout",
     "output_type": "stream",
     "text": [
      "/home/dante/.pyenv/versions/3.12.0/lib/python3.12/site-packages/transformers/utils/generic.py:441: UserWarning: torch.utils._pytree._register_pytree_node is deprecated. Please use torch.utils._pytree.register_pytree_node instead.\n",
      "  _torch_pytree._register_pytree_node(\n",
      "\u001b[38;5;4mℹ Using CPU\u001b[0m\n",
      "/home/dante/.pyenv/versions/3.12.0/lib/python3.12/site-packages/transformers/utils/generic.py:309: UserWarning: torch.utils._pytree._register_pytree_node is deprecated. Please use torch.utils._pytree.register_pytree_node instead.\n",
      "  _torch_pytree._register_pytree_node(\n",
      "\u001b[1m\n",
      "================================== Results ==================================\u001b[0m\n",
      "\n",
      "TOK                 100.00\n",
      "TEXTCAT (macro F)   64.02 \n",
      "SPEED               461   \n",
      "\n",
      "\u001b[1m\n",
      "=========================== Textcat F (per label) ===========================\u001b[0m\n",
      "\n",
      "            P       R       F\n",
      "FALSE   85.23   57.22   68.47\n",
      "TRUE    47.57   79.65   59.57\n",
      "\n",
      "\u001b[1m\n",
      "======================== Textcat ROC AUC (per label) ========================\u001b[0m\n",
      "\n",
      "        ROC AUC\n",
      "FALSE      0.73\n",
      "TRUE       0.73\n",
      "\n",
      "\u001b[38;5;2m✔ Saved results to metrics/model_chequeado.json\u001b[0m\n"
     ]
    }
   ],
   "source": [
    "! python -m spacy benchmark accuracy ./models/model_chequeado/model-best/ ./docs/test_chequeado.spacy --output ./metrics/model_chequeado.json\n"
   ]
  }
 ],
 "metadata": {
  "kernelspec": {
   "display_name": "Python 3.12.0 64-bit ('3.12.0')",
   "language": "python",
   "name": "python3"
  },
  "language_info": {
   "codemirror_mode": {
    "name": "ipython",
    "version": 3
   },
   "file_extension": ".py",
   "mimetype": "text/x-python",
   "name": "python",
   "nbconvert_exporter": "python",
   "pygments_lexer": "ipython3",
   "version": "3.12.0"
  },
  "orig_nbformat": 4,
  "vscode": {
   "interpreter": {
    "hash": "825df0fcbad1e6ed7e11c1d53fafc04f4a658ad54114578619c88a90b04ca641"
   }
  }
 },
 "nbformat": 4,
 "nbformat_minor": 2
}
