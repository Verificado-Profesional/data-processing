{
 "cells": [
  {
   "cell_type": "markdown",
   "metadata": {},
   "source": [
    "### **Análisis de Noticias Falsas recopiladas**"
   ]
  },
  {
   "cell_type": "markdown",
   "metadata": {},
   "source": [
    "En este Notebook vamos a estar analizando las noticias falsas en español recopiladas.Estos datos fueron obtenidos de paginas de fact-checking mediante la tecnica de web scrapping.\n",
    "\n",
    "A modo de estandarizar la informacion, se cambiara las labels de la siguiente manera en caso de que corresponda:\n",
    "\n",
    "* True : 1\n",
    "* False : 0"
   ]
  },
  {
   "cell_type": "code",
   "execution_count": 2,
   "metadata": {},
   "outputs": [
    {
     "name": "stderr",
     "output_type": "stream",
     "text": [
      "/tmp/ipykernel_4520/687462750.py:1: DeprecationWarning: \n",
      "Pyarrow will become a required dependency of pandas in the next major release of pandas (pandas 3.0),\n",
      "(to allow more performant data types, such as the Arrow string type, and better interoperability with other libraries)\n",
      "but was not found to be installed on your system.\n",
      "If this would cause problems for you,\n",
      "please provide us feedback at https://github.com/pandas-dev/pandas/issues/54466\n",
      "        \n",
      "  import pandas as pd\n"
     ]
    }
   ],
   "source": [
    "import pandas as pd\n",
    "import matplotlib.pyplot as plt\n",
    "import seaborn as sns"
   ]
  },
  {
   "cell_type": "markdown",
   "metadata": {},
   "source": [
    "### **1. Analisis de Datos de fuentes**"
   ]
  },
  {
   "cell_type": "markdown",
   "metadata": {},
   "source": [
    "**Objetivos de la sección:**\n",
    "\n",
    "*   Estudiar el formato de los datos de las distintas fuentes\n",
    "\n",
    "*   Clasificar los datos en caso de ser necesario\n",
    "\n",
    "*   Unificar las clasificaciones por una escala entre 1 y 0 segun corresponda\n",
    "\n",
    "*   Unificar el nombre de las columnas y eliminar las sobrantes"
   ]
  },
  {
   "cell_type": "markdown",
   "metadata": {},
   "source": [
    "#### **Dataset encontrado en Github [*FakeStorage*]**"
   ]
  },
  {
   "cell_type": "markdown",
   "metadata": {},
   "source": [
    "Este proyecto está dirigido a la construcción de un dataset de noticias falsas (o \"fake news\") en internet que estén en español. Con este dataset buscamos contribuir a la construcción de sistemas para identificar noticias falsas en internet. El dataset sigue en construcción.\n",
    "\n",
    "La carpeta obtenida contaba con los siguientes archivos: \n",
    " * fakenewsMaldita.json\n",
    " * fakenewsNewtral.json\n",
    " * fakenewsNewtral_old.json\n",
    "\n",
    "\n",
    "\n",
    "Para mas informacion visitar el siguiente [enlace](https://github.com/alcorpas10/FakesStorage) al repositorio.\n",
    "\n"
   ]
  },
  {
   "cell_type": "code",
   "execution_count": 29,
   "metadata": {},
   "outputs": [
    {
     "data": {
      "text/html": [
       "<div>\n",
       "<style scoped>\n",
       "    .dataframe tbody tr th:only-of-type {\n",
       "        vertical-align: middle;\n",
       "    }\n",
       "\n",
       "    .dataframe tbody tr th {\n",
       "        vertical-align: top;\n",
       "    }\n",
       "\n",
       "    .dataframe thead th {\n",
       "        text-align: right;\n",
       "    }\n",
       "</style>\n",
       "<table border=\"1\" class=\"dataframe\">\n",
       "  <thead>\n",
       "    <tr style=\"text-align: right;\">\n",
       "      <th></th>\n",
       "      <th>titulo</th>\n",
       "      <th>link</th>\n",
       "      <th>date</th>\n",
       "      <th>words_count</th>\n",
       "    </tr>\n",
       "  </thead>\n",
       "  <tbody>\n",
       "    <tr>\n",
       "      <th>0</th>\n",
       "      <td>No, los datos de positivos de un estudio de la...</td>\n",
       "      <td>https://maldita.es/malditobulo/20211220/complu...</td>\n",
       "      <td>2021/12/20</td>\n",
       "      <td>{'no': 13, 'los': 15, 'datos': 8, 'de': 76, 'p...</td>\n",
       "    </tr>\n",
       "    <tr>\n",
       "      <th>1</th>\n",
       "      <td>La imagen de la cafeteria del Congreso de los ...</td>\n",
       "      <td>https://maldita.es/malditobulo/20211220/cafete...</td>\n",
       "      <td>2021/12/20</td>\n",
       "      <td>{'la': 32, 'imagen': 5, 'de': 31, 'cafeteria':...</td>\n",
       "    </tr>\n",
       "    <tr>\n",
       "      <th>2</th>\n",
       "      <td>Como los antivacunas han utilizado el problema...</td>\n",
       "      <td>https://maldita.es/malditobulo/20211220/kun-ag...</td>\n",
       "      <td>2021/12/20</td>\n",
       "      <td>{'como': 6, 'los': 9, 'antivacunas': 1, 'han':...</td>\n",
       "    </tr>\n",
       "    <tr>\n",
       "      <th>3</th>\n",
       "      <td>No, Mexico no permite modificar el acta de nac...</td>\n",
       "      <td>https://maldita.es/malditobulo/20211220/mexico...</td>\n",
       "      <td>2021/12/20</td>\n",
       "      <td>{'no': 7, 'mexico': 8, 'permite': 3, 'modifica...</td>\n",
       "    </tr>\n",
       "    <tr>\n",
       "      <th>4</th>\n",
       "      <td>No, esta ilustracion del artista Walter Molino...</td>\n",
       "      <td>https://maldita.es/malditobulo/20211220/pintur...</td>\n",
       "      <td>2021/12/20</td>\n",
       "      <td>{'no': 5, 'esta': 1, 'ilustracion': 6, 'del': ...</td>\n",
       "    </tr>\n",
       "  </tbody>\n",
       "</table>\n",
       "</div>"
      ],
      "text/plain": [
       "                                              titulo  \\\n",
       "0  No, los datos de positivos de un estudio de la...   \n",
       "1  La imagen de la cafeteria del Congreso de los ...   \n",
       "2  Como los antivacunas han utilizado el problema...   \n",
       "3  No, Mexico no permite modificar el acta de nac...   \n",
       "4  No, esta ilustracion del artista Walter Molino...   \n",
       "\n",
       "                                                link        date  \\\n",
       "0  https://maldita.es/malditobulo/20211220/complu...  2021/12/20   \n",
       "1  https://maldita.es/malditobulo/20211220/cafete...  2021/12/20   \n",
       "2  https://maldita.es/malditobulo/20211220/kun-ag...  2021/12/20   \n",
       "3  https://maldita.es/malditobulo/20211220/mexico...  2021/12/20   \n",
       "4  https://maldita.es/malditobulo/20211220/pintur...  2021/12/20   \n",
       "\n",
       "                                         words_count  \n",
       "0  {'no': 13, 'los': 15, 'datos': 8, 'de': 76, 'p...  \n",
       "1  {'la': 32, 'imagen': 5, 'de': 31, 'cafeteria':...  \n",
       "2  {'como': 6, 'los': 9, 'antivacunas': 1, 'han':...  \n",
       "3  {'no': 7, 'mexico': 8, 'permite': 3, 'modifica...  \n",
       "4  {'no': 5, 'esta': 1, 'ilustracion': 6, 'del': ...  "
      ]
     },
     "execution_count": 29,
     "metadata": {},
     "output_type": "execute_result"
    }
   ],
   "source": [
    "maldita = pd.read_json(\"data/FakeStorage/fakenewsMaldita.json\").transpose()\n",
    "maldita.head()"
   ]
  },
  {
   "cell_type": "code",
   "execution_count": 30,
   "metadata": {},
   "outputs": [
    {
     "data": {
      "text/plain": [
       "(5640, 4)"
      ]
     },
     "execution_count": 30,
     "metadata": {},
     "output_type": "execute_result"
    }
   ],
   "source": [
    "maldita.shape"
   ]
  },
  {
   "cell_type": "code",
   "execution_count": 31,
   "metadata": {},
   "outputs": [
    {
     "data": {
      "text/html": [
       "<div>\n",
       "<style scoped>\n",
       "    .dataframe tbody tr th:only-of-type {\n",
       "        vertical-align: middle;\n",
       "    }\n",
       "\n",
       "    .dataframe tbody tr th {\n",
       "        vertical-align: top;\n",
       "    }\n",
       "\n",
       "    .dataframe thead th {\n",
       "        text-align: right;\n",
       "    }\n",
       "</style>\n",
       "<table border=\"1\" class=\"dataframe\">\n",
       "  <thead>\n",
       "    <tr style=\"text-align: right;\">\n",
       "      <th></th>\n",
       "      <th>titulo</th>\n",
       "      <th>link</th>\n",
       "      <th>date</th>\n",
       "      <th>words_count</th>\n",
       "    </tr>\n",
       "  </thead>\n",
       "  <tbody>\n",
       "    <tr>\n",
       "      <th>0</th>\n",
       "      <td>Las vacunas contienen óxido de grafeno. Estas ...</td>\n",
       "      <td>https://www.newtral.es/carta-carlos-martinez-v...</td>\n",
       "      <td>20/12/2021</td>\n",
       "      <td>{'las': 29, 'vacunas': 20, 'contienen': 3, 'ox...</td>\n",
       "    </tr>\n",
       "    <tr>\n",
       "      <th>1</th>\n",
       "      <td>Este cuadro de una joven amamantando a un anci...</td>\n",
       "      <td>https://www.newtral.es/jules-lefebvre-cuadro-v...</td>\n",
       "      <td>20/12/2021</td>\n",
       "      <td>{'este': 6, 'cuadro': 6, 'de': 60, 'una': 16, ...</td>\n",
       "    </tr>\n",
       "    <tr>\n",
       "      <th>2</th>\n",
       "      <td>Las personas que han estado en la discoteca TA...</td>\n",
       "      <td>https://www.newtral.es/brote-discoteca-tenerif...</td>\n",
       "      <td>17/12/2021</td>\n",
       "      <td>{'las': 14, 'personas': 3, 'que': 46, 'han': 7...</td>\n",
       "    </tr>\n",
       "    <tr>\n",
       "      <th>3</th>\n",
       "      <td>Ursula Van Der Leyen (sic) dijo a la prensa qu...</td>\n",
       "      <td>https://www.newtral.es/von-der-leyen-codigo-nu...</td>\n",
       "      <td>17/12/2021</td>\n",
       "      <td>{'ursula': 6, 'van': 1, 'der': 11, 'leyen': 11...</td>\n",
       "    </tr>\n",
       "    <tr>\n",
       "      <th>4</th>\n",
       "      <td>Secuestran [en Australia] para inocular a la h...</td>\n",
       "      <td>https://www.newtral.es/nina-obligada-a-vacunar...</td>\n",
       "      <td>17/12/2021</td>\n",
       "      <td>{'secuestran': 2, 'en': 46, 'australia': 21, '...</td>\n",
       "    </tr>\n",
       "  </tbody>\n",
       "</table>\n",
       "</div>"
      ],
      "text/plain": [
       "                                              titulo  \\\n",
       "0  Las vacunas contienen óxido de grafeno. Estas ...   \n",
       "1  Este cuadro de una joven amamantando a un anci...   \n",
       "2  Las personas que han estado en la discoteca TA...   \n",
       "3  Ursula Van Der Leyen (sic) dijo a la prensa qu...   \n",
       "4  Secuestran [en Australia] para inocular a la h...   \n",
       "\n",
       "                                                link        date  \\\n",
       "0  https://www.newtral.es/carta-carlos-martinez-v...  20/12/2021   \n",
       "1  https://www.newtral.es/jules-lefebvre-cuadro-v...  20/12/2021   \n",
       "2  https://www.newtral.es/brote-discoteca-tenerif...  17/12/2021   \n",
       "3  https://www.newtral.es/von-der-leyen-codigo-nu...  17/12/2021   \n",
       "4  https://www.newtral.es/nina-obligada-a-vacunar...  17/12/2021   \n",
       "\n",
       "                                         words_count  \n",
       "0  {'las': 29, 'vacunas': 20, 'contienen': 3, 'ox...  \n",
       "1  {'este': 6, 'cuadro': 6, 'de': 60, 'una': 16, ...  \n",
       "2  {'las': 14, 'personas': 3, 'que': 46, 'han': 7...  \n",
       "3  {'ursula': 6, 'van': 1, 'der': 11, 'leyen': 11...  \n",
       "4  {'secuestran': 2, 'en': 46, 'australia': 21, '...  "
      ]
     },
     "execution_count": 31,
     "metadata": {},
     "output_type": "execute_result"
    }
   ],
   "source": [
    "newtral = pd.read_json(\"data/FakeStorage/fakenewsNewtral.json\").transpose()\n",
    "newtral.head()"
   ]
  },
  {
   "cell_type": "code",
   "execution_count": 32,
   "metadata": {},
   "outputs": [
    {
     "data": {
      "text/html": [
       "<div>\n",
       "<style scoped>\n",
       "    .dataframe tbody tr th:only-of-type {\n",
       "        vertical-align: middle;\n",
       "    }\n",
       "\n",
       "    .dataframe tbody tr th {\n",
       "        vertical-align: top;\n",
       "    }\n",
       "\n",
       "    .dataframe thead th {\n",
       "        text-align: right;\n",
       "    }\n",
       "</style>\n",
       "<table border=\"1\" class=\"dataframe\">\n",
       "  <thead>\n",
       "    <tr style=\"text-align: right;\">\n",
       "      <th></th>\n",
       "      <th>titulo</th>\n",
       "      <th>link</th>\n",
       "      <th>words_count</th>\n",
       "      <th>date</th>\n",
       "    </tr>\n",
       "  </thead>\n",
       "  <tbody>\n",
       "    <tr>\n",
       "      <th>0</th>\n",
       "      <td>Las personas que han estado en la discoteca TA...</td>\n",
       "      <td>https://www.newtral.es/brote-discoteca-tenerif...</td>\n",
       "      <td>{'las': 14, 'personas': 3, 'que': 46, 'han': 7...</td>\n",
       "      <td>17/12/2021</td>\n",
       "    </tr>\n",
       "    <tr>\n",
       "      <th>1</th>\n",
       "      <td>Ursula Van Der Leyen (sic) dijo a la prensa qu...</td>\n",
       "      <td>https://www.newtral.es/von-der-leyen-codigo-nu...</td>\n",
       "      <td>{'ursula': 6, 'van': 1, 'der': 11, 'leyen': 11...</td>\n",
       "      <td>17/12/2021</td>\n",
       "    </tr>\n",
       "    <tr>\n",
       "      <th>2</th>\n",
       "      <td>Secuestran [en Australia] para inocular a la h...</td>\n",
       "      <td>https://www.newtral.es/nina-obligada-a-vacunar...</td>\n",
       "      <td>{'secuestran': 2, 'en': 46, 'australia': 21, '...</td>\n",
       "      <td>17/12/2021</td>\n",
       "    </tr>\n",
       "    <tr>\n",
       "      <th>3</th>\n",
       "      <td>Robert Malone: la vacunación obliga al cuerpo ...</td>\n",
       "      <td>https://www.newtral.es/robert-malone-vacunas-c...</td>\n",
       "      <td>{'robert': 5, 'malone': 11, 'la': 83, 'vacunac...</td>\n",
       "      <td>16/12/2021</td>\n",
       "    </tr>\n",
       "    <tr>\n",
       "      <th>4</th>\n",
       "      <td>[Portadas de Time con imágenes de Bolsonaro y ...</td>\n",
       "      <td>https://www.newtral.es/portada-revista-time-bo...</td>\n",
       "      <td>{'portadas': 3, 'de': 55, 'time': 12, 'con': 8...</td>\n",
       "      <td>16/12/2021</td>\n",
       "    </tr>\n",
       "  </tbody>\n",
       "</table>\n",
       "</div>"
      ],
      "text/plain": [
       "                                              titulo  \\\n",
       "0  Las personas que han estado en la discoteca TA...   \n",
       "1  Ursula Van Der Leyen (sic) dijo a la prensa qu...   \n",
       "2  Secuestran [en Australia] para inocular a la h...   \n",
       "3  Robert Malone: la vacunación obliga al cuerpo ...   \n",
       "4  [Portadas de Time con imágenes de Bolsonaro y ...   \n",
       "\n",
       "                                                link  \\\n",
       "0  https://www.newtral.es/brote-discoteca-tenerif...   \n",
       "1  https://www.newtral.es/von-der-leyen-codigo-nu...   \n",
       "2  https://www.newtral.es/nina-obligada-a-vacunar...   \n",
       "3  https://www.newtral.es/robert-malone-vacunas-c...   \n",
       "4  https://www.newtral.es/portada-revista-time-bo...   \n",
       "\n",
       "                                         words_count        date  \n",
       "0  {'las': 14, 'personas': 3, 'que': 46, 'han': 7...  17/12/2021  \n",
       "1  {'ursula': 6, 'van': 1, 'der': 11, 'leyen': 11...  17/12/2021  \n",
       "2  {'secuestran': 2, 'en': 46, 'australia': 21, '...  17/12/2021  \n",
       "3  {'robert': 5, 'malone': 11, 'la': 83, 'vacunac...  16/12/2021  \n",
       "4  {'portadas': 3, 'de': 55, 'time': 12, 'con': 8...  16/12/2021  "
      ]
     },
     "execution_count": 32,
     "metadata": {},
     "output_type": "execute_result"
    }
   ],
   "source": [
    "newtral_old = pd.read_json(\"data/FakeStorage/fakenewsNewtral_old.json\").transpose()\n",
    "newtral_old.head()"
   ]
  },
  {
   "cell_type": "code",
   "execution_count": 33,
   "metadata": {},
   "outputs": [
    {
     "data": {
      "text/plain": [
       "(1633, 4)"
      ]
     },
     "execution_count": 33,
     "metadata": {},
     "output_type": "execute_result"
    }
   ],
   "source": [
    "newtral_old.shape"
   ]
  },
  {
   "cell_type": "code",
   "execution_count": 34,
   "metadata": {},
   "outputs": [
    {
     "data": {
      "text/plain": [
       "(1640, 4)"
      ]
     },
     "execution_count": 34,
     "metadata": {},
     "output_type": "execute_result"
    }
   ],
   "source": [
    "newtral_union = pd.concat([newtral,newtral_old],ignore_index=True)\n",
    "newtral_sin_duplicados = newtral_union.drop_duplicates(subset=[\"titulo\"])\n",
    "newtral_sin_duplicados.shape"
   ]
  },
  {
   "cell_type": "markdown",
   "metadata": {},
   "source": [
    "#### **Datos recolectados mediante Web Scrapping**\n"
   ]
  },
  {
   "cell_type": "markdown",
   "metadata": {},
   "source": [
    "Todos los datos mostrados a continuacion fueron recolectados por nuestro grupo desde el dia 01/10/2024 hasta el 01/12/2024, a traves de distintas paginas de fact-cheking utilizando el scrapeo de datos.\n",
    "\n",
    "Los datos fueron recolectados de las siguientes fuentes: \n",
    "\n",
    "* [Chequeado](https://chequeado.com/notas/)\n",
    "* [Newtral](https://www.newtral.es/)\n"
   ]
  },
  {
   "cell_type": "markdown",
   "metadata": {},
   "source": [
    "##### **Chequeado**"
   ]
  },
  {
   "cell_type": "code",
   "execution_count": 109,
   "metadata": {},
   "outputs": [
    {
     "data": {
      "text/html": [
       "<div>\n",
       "<style scoped>\n",
       "    .dataframe tbody tr th:only-of-type {\n",
       "        vertical-align: middle;\n",
       "    }\n",
       "\n",
       "    .dataframe tbody tr th {\n",
       "        vertical-align: top;\n",
       "    }\n",
       "\n",
       "    .dataframe thead th {\n",
       "        text-align: right;\n",
       "    }\n",
       "</style>\n",
       "<table border=\"1\" class=\"dataframe\">\n",
       "  <thead>\n",
       "    <tr style=\"text-align: right;\">\n",
       "      <th></th>\n",
       "      <th>Titulo</th>\n",
       "      <th>Categoria</th>\n",
       "      <th>Texto</th>\n",
       "    </tr>\n",
       "  </thead>\n",
       "  <tbody>\n",
       "    <tr>\n",
       "      <th>0</th>\n",
       "      <td>Son falsos estos resultados de boca de urna ad...</td>\n",
       "      <td>Falso</td>\n",
       "      <td>Circulan en redes sociales resultados presiden...</td>\n",
       "    </tr>\n",
       "    <tr>\n",
       "      <th>1</th>\n",
       "      <td>No se divulgaron resultados oficiales previos ...</td>\n",
       "      <td>Falso</td>\n",
       "      <td>Se difundieron en redes sociales supuestos pri...</td>\n",
       "    </tr>\n",
       "    <tr>\n",
       "      <th>2</th>\n",
       "      <td>En el balotaje 2023, las boletas con el número...</td>\n",
       "      <td>Falso</td>\n",
       "      <td>Miles de usuarios denuncian que, durante la jo...</td>\n",
       "    </tr>\n",
       "    <tr>\n",
       "      <th>3</th>\n",
       "      <td>Sergio Massa no pronunció la frase “voy a pode...</td>\n",
       "      <td>Falso</td>\n",
       "      <td>Decenas de miles de usuarios comparten una pla...</td>\n",
       "    </tr>\n",
       "    <tr>\n",
       "      <th>4</th>\n",
       "      <td>No, este mural de Lionel Messi no lleva escrit...</td>\n",
       "      <td>Falso</td>\n",
       "      <td>A pocos días del balotaje, miles de usuarios d...</td>\n",
       "    </tr>\n",
       "  </tbody>\n",
       "</table>\n",
       "</div>"
      ],
      "text/plain": [
       "                                              Titulo Categoria  \\\n",
       "0  Son falsos estos resultados de boca de urna ad...     Falso   \n",
       "1  No se divulgaron resultados oficiales previos ...     Falso   \n",
       "2  En el balotaje 2023, las boletas con el número...     Falso   \n",
       "3  Sergio Massa no pronunció la frase “voy a pode...     Falso   \n",
       "4  No, este mural de Lionel Messi no lleva escrit...     Falso   \n",
       "\n",
       "                                               Texto  \n",
       "0  Circulan en redes sociales resultados presiden...  \n",
       "1  Se difundieron en redes sociales supuestos pri...  \n",
       "2  Miles de usuarios denuncian que, durante la jo...  \n",
       "3  Decenas de miles de usuarios comparten una pla...  \n",
       "4  A pocos días del balotaje, miles de usuarios d...  "
      ]
     },
     "execution_count": 109,
     "metadata": {},
     "output_type": "execute_result"
    }
   ],
   "source": [
    "chequeado = pd.read_csv(\"data/chequeado.csv\",names=['Titulo','Categoria','Texto'],header=0)\n",
    "chequeado.head()\n"
   ]
  },
  {
   "cell_type": "code",
   "execution_count": 110,
   "metadata": {},
   "outputs": [
    {
     "data": {
      "text/plain": [
       "(3638, 3)"
      ]
     },
     "execution_count": 110,
     "metadata": {},
     "output_type": "execute_result"
    }
   ],
   "source": [
    "chequeado.shape"
   ]
  },
  {
   "cell_type": "code",
   "execution_count": 111,
   "metadata": {},
   "outputs": [],
   "source": [
    "chequeado[\"Origen\"] = \"Chequeado\""
   ]
  },
  {
   "cell_type": "code",
   "execution_count": 112,
   "metadata": {},
   "outputs": [
    {
     "data": {
      "text/plain": [
       "Titulo          0\n",
       "Categoria       0\n",
       "Texto        1576\n",
       "Origen          0\n",
       "dtype: int64"
      ]
     },
     "execution_count": 112,
     "metadata": {},
     "output_type": "execute_result"
    }
   ],
   "source": [
    "chequeado.isnull().sum()"
   ]
  },
  {
   "cell_type": "code",
   "execution_count": 113,
   "metadata": {},
   "outputs": [
    {
     "data": {
      "text/plain": [
       "Categoria\n",
       "Falso                     1572\n",
       "Verdadero                  830\n",
       "Engañoso                   374\n",
       "Verdadero, pero…           263\n",
       "Exagerado                  213\n",
       "Insostenible               125\n",
       "Discutible                  94\n",
       "Apresurado                  40\n",
       "En proceso, demorada        30\n",
       "Incumplida                  29\n",
       "En proceso, adelantada      19\n",
       "Fuera de contexto           17\n",
       "Cumplida                    13\n",
       "Inchequeable                10\n",
       "Incumplida con avances       9\n",
       "Name: count, dtype: int64"
      ]
     },
     "execution_count": 113,
     "metadata": {},
     "output_type": "execute_result"
    }
   ],
   "source": [
    "ch_count = chequeado[\"Categoria\"].value_counts()\n",
    "ch_count"
   ]
  },
  {
   "cell_type": "code",
   "execution_count": 40,
   "metadata": {},
   "outputs": [
    {
     "data": {
      "image/png": "[encoded data removed]",
      "text/plain": [
       "<Figure size 1000x600 with 1 Axes>"
      ]
     },
     "metadata": {},
     "output_type": "display_data"
    }
   ],
   "source": [
    "plt.figure(figsize=(10, 6))\n",
    "sns.barplot(x=ch_count.index, y=ch_count.values,hue=ch_count.index, palette='rocket')\n",
    "plt.yscale('log')\n",
    "plt.title('Cantidad de valores por categoría de Chequeado')\n",
    "plt.xlabel('Categoría')\n",
    "plt.ylabel('Cantidad')\n",
    "plt.xticks(rotation=45)\n",
    "plt.show()"
   ]
  },
  {
   "cell_type": "code",
   "execution_count": 41,
   "metadata": {},
   "outputs": [
    {
     "name": "stdout",
     "output_type": "stream",
     "text": [
      "Categoria:  Falso\n",
      "Titulo:  Alberto Fernández: “La OMS recomienda que uno tome muchas bebidas calientes porque el calor mata al virus”\n",
      "Texto:  nan\n"
     ]
    }
   ],
   "source": [
    "noticia_aleatoria_ch = chequeado.sample().iloc[0]\n",
    "print(\"Categoria: \",noticia_aleatoria_ch[\"Categoria\"])\n",
    "print(\"Titulo: \", noticia_aleatoria_ch[\"Titulo\"])\n",
    "print(\"Texto: \",noticia_aleatoria_ch[\"Texto\"])"
   ]
  },
  {
   "cell_type": "markdown",
   "metadata": {},
   "source": [
    "#### **Newtral**"
   ]
  },
  {
   "cell_type": "code",
   "execution_count": 42,
   "metadata": {},
   "outputs": [
    {
     "data": {
      "text/html": [
       "<div>\n",
       "<style scoped>\n",
       "    .dataframe tbody tr th:only-of-type {\n",
       "        vertical-align: middle;\n",
       "    }\n",
       "\n",
       "    .dataframe tbody tr th {\n",
       "        vertical-align: top;\n",
       "    }\n",
       "\n",
       "    .dataframe thead th {\n",
       "        text-align: right;\n",
       "    }\n",
       "</style>\n",
       "<table border=\"1\" class=\"dataframe\">\n",
       "  <thead>\n",
       "    <tr style=\"text-align: right;\">\n",
       "      <th></th>\n",
       "      <th>Texto</th>\n",
       "      <th>Autor</th>\n",
       "      <th>Posicion</th>\n",
       "      <th>Categoria</th>\n",
       "    </tr>\n",
       "  </thead>\n",
       "  <tbody>\n",
       "    <tr>\n",
       "      <th>0</th>\n",
       "      <td>“Hay una resolución del Congreso de los Diputa...</td>\n",
       "      <td>Esteban González Pons</td>\n",
       "      <td>Vicesecretario general del PP</td>\n",
       "      <td>Verdad a medias</td>\n",
       "    </tr>\n",
       "    <tr>\n",
       "      <th>1</th>\n",
       "      <td>\"Nuestra deuda con el Estado es treinta veces ...</td>\n",
       "      <td>Alfonso Rueda</td>\n",
       "      <td>Presidente de la Xunta de Galicia</td>\n",
       "      <td>Verdadero</td>\n",
       "    </tr>\n",
       "    <tr>\n",
       "      <th>2</th>\n",
       "      <td>“Desde el año 2020 le arrebatamos el liderazgo...</td>\n",
       "      <td>Juan Manuel Moreno</td>\n",
       "      <td>Presidente de Andalucía</td>\n",
       "      <td>Verdad a medias</td>\n",
       "    </tr>\n",
       "    <tr>\n",
       "      <th>3</th>\n",
       "      <td>“[Impuesto temporal de grandes fortunas y soli...</td>\n",
       "      <td>Isabel Díaz Ayuso</td>\n",
       "      <td>Presidenta de la Comunidad de Madrid</td>\n",
       "      <td>Falso</td>\n",
       "    </tr>\n",
       "    <tr>\n",
       "      <th>4</th>\n",
       "      <td>“En esta Cámara yo traje una propuesta de Gobi...</td>\n",
       "      <td>Alberto Núñez Feijóo</td>\n",
       "      <td>Presidente del PP</td>\n",
       "      <td>Verdad a medias</td>\n",
       "    </tr>\n",
       "  </tbody>\n",
       "</table>\n",
       "</div>"
      ],
      "text/plain": [
       "                                               Texto                  Autor  \\\n",
       "0  “Hay una resolución del Congreso de los Diputa...  Esteban González Pons   \n",
       "1  \"Nuestra deuda con el Estado es treinta veces ...          Alfonso Rueda   \n",
       "2  “Desde el año 2020 le arrebatamos el liderazgo...     Juan Manuel Moreno   \n",
       "3  “[Impuesto temporal de grandes fortunas y soli...      Isabel Díaz Ayuso   \n",
       "4  “En esta Cámara yo traje una propuesta de Gobi...   Alberto Núñez Feijóo   \n",
       "\n",
       "                               Posicion        Categoria  \n",
       "0         Vicesecretario general del PP  Verdad a medias  \n",
       "1     Presidente de la Xunta de Galicia        Verdadero  \n",
       "2               Presidente de Andalucía  Verdad a medias  \n",
       "3  Presidenta de la Comunidad de Madrid            Falso  \n",
       "4                     Presidente del PP  Verdad a medias  "
      ]
     },
     "execution_count": 42,
     "metadata": {},
     "output_type": "execute_result"
    }
   ],
   "source": [
    "newtral_rmx = pd.read_csv(\"data/newtral.csv\",names=['Texto','Autor','Posicion','Categoria'],header=0)\n",
    "newtral_rmx.head()\n"
   ]
  },
  {
   "cell_type": "code",
   "execution_count": 43,
   "metadata": {},
   "outputs": [
    {
     "data": {
      "text/plain": [
       "(1060, 4)"
      ]
     },
     "execution_count": 43,
     "metadata": {},
     "output_type": "execute_result"
    }
   ],
   "source": [
    "newtral_rmx.shape"
   ]
  },
  {
   "cell_type": "code",
   "execution_count": 44,
   "metadata": {},
   "outputs": [],
   "source": [
    "newtral_rmx[\"Origen\"] = \"Newtral\""
   ]
  },
  {
   "cell_type": "code",
   "execution_count": 45,
   "metadata": {},
   "outputs": [
    {
     "data": {
      "text/plain": [
       "Texto         0\n",
       "Autor         0\n",
       "Posicion     16\n",
       "Categoria     0\n",
       "Origen        0\n",
       "dtype: int64"
      ]
     },
     "execution_count": 45,
     "metadata": {},
     "output_type": "execute_result"
    }
   ],
   "source": [
    "newtral_rmx.isnull().sum()"
   ]
  },
  {
   "cell_type": "code",
   "execution_count": 46,
   "metadata": {},
   "outputs": [
    {
     "data": {
      "text/plain": [
       "Categoria\n",
       "Falso              464\n",
       "Engañoso           442\n",
       "Verdad a medias    141\n",
       "Verdadero           13\n",
       "Name: count, dtype: int64"
      ]
     },
     "execution_count": 46,
     "metadata": {},
     "output_type": "execute_result"
    }
   ],
   "source": [
    "nw_count = newtral_rmx[\"Categoria\"].value_counts()\n",
    "nw_count"
   ]
  },
  {
   "cell_type": "code",
   "execution_count": 47,
   "metadata": {},
   "outputs": [
    {
     "data": {
      "image/png": "[encoded data removed]",
      "text/plain": [
       "<Figure size 1000x600 with 1 Axes>"
      ]
     },
     "metadata": {},
     "output_type": "display_data"
    }
   ],
   "source": [
    "plt.figure(figsize=(10, 6))\n",
    "sns.barplot(x=nw_count.index, y=nw_count.values,hue=nw_count.index, palette='rocket')\n",
    "plt.yscale('log')\n",
    "plt.title('Cantidad de valores por categoría de Newtral')\n",
    "plt.xlabel('Categoría')\n",
    "plt.ylabel('Cantidad')\n",
    "plt.xticks(rotation=45) \n",
    "plt.show()"
   ]
  },
  {
   "cell_type": "code",
   "execution_count": 48,
   "metadata": {},
   "outputs": [
    {
     "name": "stdout",
     "output_type": "stream",
     "text": [
      "Categoria:  Engañoso\n",
      "Autor:  Jordi Turull\n",
      "Texto:  “Catalunya, que es el 16% de la población [de España], el 19% de su economía, recibe el 7% de estos fondos [europeos Next Generation]\"\n"
     ]
    }
   ],
   "source": [
    "noticia_aleatoria_nw = newtral_rmx.sample().iloc[0]\n",
    "print(\"Categoria: \",noticia_aleatoria_nw[\"Categoria\"])\n",
    "print(\"Autor: \", noticia_aleatoria_nw[\"Autor\"])\n",
    "print(\"Texto: \",noticia_aleatoria_nw[\"Texto\"])"
   ]
  },
  {
   "cell_type": "markdown",
   "metadata": {},
   "source": [
    "### Procesamiento de Chequeado\n"
   ]
  },
  {
   "cell_type": "code",
   "execution_count": 114,
   "metadata": {},
   "outputs": [],
   "source": [
    "nuevos_textos = []\n",
    "nuevas_clasificaciones = []\n",
    "\n",
    "for index, row in chequeado.iterrows():\n",
    "    nuevos_textos.extend([row['Titulo'], row['Texto']])\n",
    "    nuevas_clasificaciones.extend([row['Categoria'], row['Categoria']])\n",
    "\n",
    "chequeado_new = pd.DataFrame({'clasificacion': nuevas_clasificaciones,'texto': nuevos_textos})"
   ]
  },
  {
   "cell_type": "code",
   "execution_count": 115,
   "metadata": {},
   "outputs": [
    {
     "data": {
      "text/html": [
       "<div>\n",
       "<style scoped>\n",
       "    .dataframe tbody tr th:only-of-type {\n",
       "        vertical-align: middle;\n",
       "    }\n",
       "\n",
       "    .dataframe tbody tr th {\n",
       "        vertical-align: top;\n",
       "    }\n",
       "\n",
       "    .dataframe thead th {\n",
       "        text-align: right;\n",
       "    }\n",
       "</style>\n",
       "<table border=\"1\" class=\"dataframe\">\n",
       "  <thead>\n",
       "    <tr style=\"text-align: right;\">\n",
       "      <th></th>\n",
       "      <th>clasificacion</th>\n",
       "      <th>texto</th>\n",
       "    </tr>\n",
       "  </thead>\n",
       "  <tbody>\n",
       "    <tr>\n",
       "      <th>0</th>\n",
       "      <td>Falso</td>\n",
       "      <td>Son falsos estos resultados de boca de urna ad...</td>\n",
       "    </tr>\n",
       "    <tr>\n",
       "      <th>1</th>\n",
       "      <td>Falso</td>\n",
       "      <td>Circulan en redes sociales resultados presiden...</td>\n",
       "    </tr>\n",
       "    <tr>\n",
       "      <th>2</th>\n",
       "      <td>Falso</td>\n",
       "      <td>No se divulgaron resultados oficiales previos ...</td>\n",
       "    </tr>\n",
       "    <tr>\n",
       "      <th>3</th>\n",
       "      <td>Falso</td>\n",
       "      <td>Se difundieron en redes sociales supuestos pri...</td>\n",
       "    </tr>\n",
       "    <tr>\n",
       "      <th>4</th>\n",
       "      <td>Falso</td>\n",
       "      <td>En el balotaje 2023, las boletas con el número...</td>\n",
       "    </tr>\n",
       "    <tr>\n",
       "      <th>5</th>\n",
       "      <td>Falso</td>\n",
       "      <td>Miles de usuarios denuncian que, durante la jo...</td>\n",
       "    </tr>\n",
       "    <tr>\n",
       "      <th>6</th>\n",
       "      <td>Falso</td>\n",
       "      <td>Sergio Massa no pronunció la frase “voy a pode...</td>\n",
       "    </tr>\n",
       "    <tr>\n",
       "      <th>7</th>\n",
       "      <td>Falso</td>\n",
       "      <td>Decenas de miles de usuarios comparten una pla...</td>\n",
       "    </tr>\n",
       "    <tr>\n",
       "      <th>8</th>\n",
       "      <td>Falso</td>\n",
       "      <td>No, este mural de Lionel Messi no lleva escrit...</td>\n",
       "    </tr>\n",
       "    <tr>\n",
       "      <th>9</th>\n",
       "      <td>Falso</td>\n",
       "      <td>A pocos días del balotaje, miles de usuarios d...</td>\n",
       "    </tr>\n",
       "  </tbody>\n",
       "</table>\n",
       "</div>"
      ],
      "text/plain": [
       "  clasificacion                                              texto\n",
       "0         Falso  Son falsos estos resultados de boca de urna ad...\n",
       "1         Falso  Circulan en redes sociales resultados presiden...\n",
       "2         Falso  No se divulgaron resultados oficiales previos ...\n",
       "3         Falso  Se difundieron en redes sociales supuestos pri...\n",
       "4         Falso  En el balotaje 2023, las boletas con el número...\n",
       "5         Falso  Miles de usuarios denuncian que, durante la jo...\n",
       "6         Falso  Sergio Massa no pronunció la frase “voy a pode...\n",
       "7         Falso  Decenas de miles de usuarios comparten una pla...\n",
       "8         Falso  No, este mural de Lionel Messi no lleva escrit...\n",
       "9         Falso  A pocos días del balotaje, miles de usuarios d..."
      ]
     },
     "execution_count": 115,
     "metadata": {},
     "output_type": "execute_result"
    }
   ],
   "source": [
    "chequeado_new.head(10)\n"
   ]
  },
  {
   "cell_type": "code",
   "execution_count": 116,
   "metadata": {},
   "outputs": [
    {
     "data": {
      "text/plain": [
       "(5647, 2)"
      ]
     },
     "execution_count": 116,
     "metadata": {},
     "output_type": "execute_result"
    }
   ],
   "source": [
    "chequeado_new = chequeado_new.drop_duplicates(subset='texto').dropna()\n",
    "chequeado_new.shape"
   ]
  },
  {
   "cell_type": "code",
   "execution_count": 117,
   "metadata": {},
   "outputs": [],
   "source": [
    "chequeado_new.to_csv(\"./data/chequeado_new.csv\", index=False)"
   ]
  },
  {
   "cell_type": "markdown",
   "metadata": {},
   "source": [
    "### Utilizo OSINTGPT para procesar los datos"
   ]
  },
  {
   "cell_type": "markdown",
   "metadata": {},
   "source": [
    "#### Genero Embeddings"
   ]
  },
  {
   "cell_type": "code",
   "execution_count": 170,
   "metadata": {},
   "outputs": [],
   "source": [
    "from osintgpt.embeddings import OpenAIEmbeddingGenerator"
   ]
  },
  {
   "cell_type": "code",
   "execution_count": 171,
   "metadata": {},
   "outputs": [],
   "source": [
    "env_path = 'osintgpt/.env'"
   ]
  },
  {
   "cell_type": "code",
   "execution_count": 172,
   "metadata": {},
   "outputs": [],
   "source": [
    "# OpenAIEmbeddingGenerator instance\n",
    "embedding_generator = OpenAIEmbeddingGenerator(env_file_path=env_path)"
   ]
  },
  {
   "cell_type": "code",
   "execution_count": 197,
   "metadata": {},
   "outputs": [],
   "source": [
    "embedding_generator.OPENAI_GPT_MODEL=\"gpt-3.5-turbo\""
   ]
  },
  {
   "cell_type": "code",
   "execution_count": 198,
   "metadata": {},
   "outputs": [
    {
     "data": {
      "text/plain": [
       "'gpt-3.5-turbo'"
      ]
     },
     "execution_count": 198,
     "metadata": {},
     "output_type": "execute_result"
    }
   ],
   "source": [
    "embedding_generator.get_openai_gpt_model()"
   ]
  },
  {
   "cell_type": "code",
   "execution_count": 3,
   "metadata": {},
   "outputs": [
    {
     "data": {
      "text/html": [
       "<div>\n",
       "<style scoped>\n",
       "    .dataframe tbody tr th:only-of-type {\n",
       "        vertical-align: middle;\n",
       "    }\n",
       "\n",
       "    .dataframe tbody tr th {\n",
       "        vertical-align: top;\n",
       "    }\n",
       "\n",
       "    .dataframe thead th {\n",
       "        text-align: right;\n",
       "    }\n",
       "</style>\n",
       "<table border=\"1\" class=\"dataframe\">\n",
       "  <thead>\n",
       "    <tr style=\"text-align: right;\">\n",
       "      <th></th>\n",
       "      <th>clasificacion</th>\n",
       "      <th>texto</th>\n",
       "    </tr>\n",
       "  </thead>\n",
       "  <tbody>\n",
       "    <tr>\n",
       "      <th>0</th>\n",
       "      <td>Falso</td>\n",
       "      <td>Son falsos estos resultados de boca de urna ad...</td>\n",
       "    </tr>\n",
       "    <tr>\n",
       "      <th>1</th>\n",
       "      <td>Falso</td>\n",
       "      <td>Circulan en redes sociales resultados presiden...</td>\n",
       "    </tr>\n",
       "    <tr>\n",
       "      <th>2</th>\n",
       "      <td>Falso</td>\n",
       "      <td>No se divulgaron resultados oficiales previos ...</td>\n",
       "    </tr>\n",
       "    <tr>\n",
       "      <th>3</th>\n",
       "      <td>Falso</td>\n",
       "      <td>Se difundieron en redes sociales supuestos pri...</td>\n",
       "    </tr>\n",
       "    <tr>\n",
       "      <th>4</th>\n",
       "      <td>Falso</td>\n",
       "      <td>En el balotaje 2023, las boletas con el número...</td>\n",
       "    </tr>\n",
       "    <tr>\n",
       "      <th>5</th>\n",
       "      <td>Falso</td>\n",
       "      <td>Miles de usuarios denuncian que, durante la jo...</td>\n",
       "    </tr>\n",
       "    <tr>\n",
       "      <th>6</th>\n",
       "      <td>Falso</td>\n",
       "      <td>Sergio Massa no pronunció la frase “voy a pode...</td>\n",
       "    </tr>\n",
       "    <tr>\n",
       "      <th>7</th>\n",
       "      <td>Falso</td>\n",
       "      <td>Decenas de miles de usuarios comparten una pla...</td>\n",
       "    </tr>\n",
       "    <tr>\n",
       "      <th>8</th>\n",
       "      <td>Falso</td>\n",
       "      <td>No, este mural de Lionel Messi no lleva escrit...</td>\n",
       "    </tr>\n",
       "    <tr>\n",
       "      <th>9</th>\n",
       "      <td>Falso</td>\n",
       "      <td>A pocos días del balotaje, miles de usuarios d...</td>\n",
       "    </tr>\n",
       "  </tbody>\n",
       "</table>\n",
       "</div>"
      ],
      "text/plain": [
       "  clasificacion                                              texto\n",
       "0         Falso  Son falsos estos resultados de boca de urna ad...\n",
       "1         Falso  Circulan en redes sociales resultados presiden...\n",
       "2         Falso  No se divulgaron resultados oficiales previos ...\n",
       "3         Falso  Se difundieron en redes sociales supuestos pri...\n",
       "4         Falso  En el balotaje 2023, las boletas con el número...\n",
       "5         Falso  Miles de usuarios denuncian que, durante la jo...\n",
       "6         Falso  Sergio Massa no pronunció la frase “voy a pode...\n",
       "7         Falso  Decenas de miles de usuarios comparten una pla...\n",
       "8         Falso  No, este mural de Lionel Messi no lleva escrit...\n",
       "9         Falso  A pocos días del balotaje, miles de usuarios d..."
      ]
     },
     "execution_count": 3,
     "metadata": {},
     "output_type": "execute_result"
    }
   ],
   "source": [
    "data = pd.read_csv(\"data/chequeado_new.csv\")\n",
    "data.head(10)"
   ]
  },
  {
   "cell_type": "code",
   "execution_count": 4,
   "metadata": {},
   "outputs": [
    {
     "data": {
      "text/plain": [
       "clasificacion\n",
       "Falso                     2328\n",
       "Verdadero                 1288\n",
       "Engañoso                   612\n",
       "Verdadero, pero…           439\n",
       "Exagerado                  358\n",
       "Insostenible               208\n",
       "Discutible                 175\n",
       "Apresurado                  65\n",
       "Incumplida                  40\n",
       "En proceso, demorada        39\n",
       "En proceso, adelantada      24\n",
       "Fuera de contexto           21\n",
       "Cumplida                    21\n",
       "Inchequeable                20\n",
       "Incumplida con avances       9\n",
       "Name: count, dtype: int64"
      ]
     },
     "execution_count": 4,
     "metadata": {},
     "output_type": "execute_result"
    }
   ],
   "source": [
    "data[\"clasificacion\"].value_counts()"
   ]
  },
  {
   "cell_type": "code",
   "execution_count": 5,
   "metadata": {},
   "outputs": [],
   "source": [
    "data['clasificacion'] = data['clasificacion'].replace(['Engañoso', 'Apresurado','Discutible', 'Exagerado','Insostenible'], 'Falso')\n",
    "data['clasificacion'] = data['clasificacion'].replace(['Verdadero, pero…'], 'Verdadero')"
   ]
  },
  {
   "cell_type": "code",
   "execution_count": 6,
   "metadata": {},
   "outputs": [
    {
     "data": {
      "text/plain": [
       "clasificacion\n",
       "Falso        3746\n",
       "Verdadero    1727\n",
       "Name: count, dtype: int64"
      ]
     },
     "execution_count": 6,
     "metadata": {},
     "output_type": "execute_result"
    }
   ],
   "source": [
    "valores_permitidos = ['Verdadero', 'Falso']\n",
    "data = data[data['clasificacion'].isin(valores_permitidos)]\n",
    "data[\"clasificacion\"].value_counts()"
   ]
  },
  {
   "cell_type": "code",
   "execution_count": 7,
   "metadata": {},
   "outputs": [],
   "source": [
    "data.to_csv(\"./data/chequeado_procesado.csv\", index=False)"
   ]
  },
  {
   "cell_type": "code",
   "execution_count": 199,
   "metadata": {},
   "outputs": [
    {
     "data": {
      "text/html": [
       "<div>\n",
       "<style scoped>\n",
       "    .dataframe tbody tr th:only-of-type {\n",
       "        vertical-align: middle;\n",
       "    }\n",
       "\n",
       "    .dataframe tbody tr th {\n",
       "        vertical-align: top;\n",
       "    }\n",
       "\n",
       "    .dataframe thead th {\n",
       "        text-align: right;\n",
       "    }\n",
       "</style>\n",
       "<table border=\"1\" class=\"dataframe\">\n",
       "  <thead>\n",
       "    <tr style=\"text-align: right;\">\n",
       "      <th></th>\n",
       "      <th>clasificacion</th>\n",
       "      <th>texto</th>\n",
       "      <th>texto_unido</th>\n",
       "    </tr>\n",
       "  </thead>\n",
       "  <tbody>\n",
       "    <tr>\n",
       "      <th>0</th>\n",
       "      <td>Falso</td>\n",
       "      <td>Son falsos estos resultados de boca de urna ad...</td>\n",
       "      <td>Falso | Son falsos estos resultados de boca de...</td>\n",
       "    </tr>\n",
       "    <tr>\n",
       "      <th>1</th>\n",
       "      <td>Falso</td>\n",
       "      <td>Circulan en redes sociales resultados presiden...</td>\n",
       "      <td>Falso | Circulan en redes sociales resultados ...</td>\n",
       "    </tr>\n",
       "    <tr>\n",
       "      <th>2</th>\n",
       "      <td>Falso</td>\n",
       "      <td>No se divulgaron resultados oficiales previos ...</td>\n",
       "      <td>Falso | No se divulgaron resultados oficiales ...</td>\n",
       "    </tr>\n",
       "    <tr>\n",
       "      <th>3</th>\n",
       "      <td>Falso</td>\n",
       "      <td>Se difundieron en redes sociales supuestos pri...</td>\n",
       "      <td>Falso | Se difundieron en redes sociales supue...</td>\n",
       "    </tr>\n",
       "    <tr>\n",
       "      <th>4</th>\n",
       "      <td>Falso</td>\n",
       "      <td>En el balotaje 2023, las boletas con el número...</td>\n",
       "      <td>Falso | En el balotaje 2023, las boletas con e...</td>\n",
       "    </tr>\n",
       "    <tr>\n",
       "      <th>5</th>\n",
       "      <td>Falso</td>\n",
       "      <td>Miles de usuarios denuncian que, durante la jo...</td>\n",
       "      <td>Falso | Miles de usuarios denuncian que, duran...</td>\n",
       "    </tr>\n",
       "    <tr>\n",
       "      <th>6</th>\n",
       "      <td>Falso</td>\n",
       "      <td>Sergio Massa no pronunció la frase “voy a pode...</td>\n",
       "      <td>Falso | Sergio Massa no pronunció la frase “vo...</td>\n",
       "    </tr>\n",
       "    <tr>\n",
       "      <th>7</th>\n",
       "      <td>Falso</td>\n",
       "      <td>Decenas de miles de usuarios comparten una pla...</td>\n",
       "      <td>Falso | Decenas de miles de usuarios comparten...</td>\n",
       "    </tr>\n",
       "    <tr>\n",
       "      <th>8</th>\n",
       "      <td>Falso</td>\n",
       "      <td>No, este mural de Lionel Messi no lleva escrit...</td>\n",
       "      <td>Falso | No, este mural de Lionel Messi no llev...</td>\n",
       "    </tr>\n",
       "    <tr>\n",
       "      <th>9</th>\n",
       "      <td>Falso</td>\n",
       "      <td>A pocos días del balotaje, miles de usuarios d...</td>\n",
       "      <td>Falso | A pocos días del balotaje, miles de us...</td>\n",
       "    </tr>\n",
       "  </tbody>\n",
       "</table>\n",
       "</div>"
      ],
      "text/plain": [
       "  clasificacion                                              texto  \\\n",
       "0         Falso  Son falsos estos resultados de boca de urna ad...   \n",
       "1         Falso  Circulan en redes sociales resultados presiden...   \n",
       "2         Falso  No se divulgaron resultados oficiales previos ...   \n",
       "3         Falso  Se difundieron en redes sociales supuestos pri...   \n",
       "4         Falso  En el balotaje 2023, las boletas con el número...   \n",
       "5         Falso  Miles de usuarios denuncian que, durante la jo...   \n",
       "6         Falso  Sergio Massa no pronunció la frase “voy a pode...   \n",
       "7         Falso  Decenas de miles de usuarios comparten una pla...   \n",
       "8         Falso  No, este mural de Lionel Messi no lleva escrit...   \n",
       "9         Falso  A pocos días del balotaje, miles de usuarios d...   \n",
       "\n",
       "                                         texto_unido  \n",
       "0  Falso | Son falsos estos resultados de boca de...  \n",
       "1  Falso | Circulan en redes sociales resultados ...  \n",
       "2  Falso | No se divulgaron resultados oficiales ...  \n",
       "3  Falso | Se difundieron en redes sociales supue...  \n",
       "4  Falso | En el balotaje 2023, las boletas con e...  \n",
       "5  Falso | Miles de usuarios denuncian que, duran...  \n",
       "6  Falso | Sergio Massa no pronunció la frase “vo...  \n",
       "7  Falso | Decenas de miles de usuarios comparten...  \n",
       "8  Falso | No, este mural de Lionel Messi no llev...  \n",
       "9  Falso | A pocos días del balotaje, miles de us...  "
      ]
     },
     "execution_count": 199,
     "metadata": {},
     "output_type": "execute_result"
    }
   ],
   "source": [
    "data['texto_unido'] = data['clasificacion'] + ' | ' + data['texto']\n",
    "data.head(10)"
   ]
  },
  {
   "cell_type": "code",
   "execution_count": 200,
   "metadata": {},
   "outputs": [
    {
     "data": {
      "text/plain": [
       "(5473, 3)"
      ]
     },
     "execution_count": 200,
     "metadata": {},
     "output_type": "execute_result"
    }
   ],
   "source": [
    "data.shape"
   ]
  },
  {
   "cell_type": "code",
   "execution_count": 201,
   "metadata": {},
   "outputs": [],
   "source": [
    "text_data = data['texto_unido'].tolist()"
   ]
  },
  {
   "cell_type": "code",
   "execution_count": 202,
   "metadata": {},
   "outputs": [],
   "source": [
    "embedding_generator.load_text(text_data)"
   ]
  },
  {
   "cell_type": "code",
   "execution_count": 203,
   "metadata": {},
   "outputs": [
    {
     "name": "stdout",
     "output_type": "stream",
     "text": [
      "Numero de Documentos -> 5473\n"
     ]
    }
   ],
   "source": [
    "print (f'Numero de Documentos -> {len(text_data)}')"
   ]
  },
  {
   "cell_type": "code",
   "execution_count": 204,
   "metadata": {},
   "outputs": [
    {
     "name": "stdout",
     "output_type": "stream",
     "text": [
      "Number of tokens -> 226438\n"
     ]
    }
   ],
   "source": [
    "n_tokens = embedding_generator.count_tokens()\n",
    "print (f'Number of tokens -> {n_tokens}')"
   ]
  },
  {
   "cell_type": "code",
   "execution_count": 205,
   "metadata": {},
   "outputs": [
    {
     "name": "stdout",
     "output_type": "stream",
     "text": [
      "0.0226438\n"
     ]
    }
   ],
   "source": [
    "estimated_cost = embedding_generator.calculate_embeddings_estimated_cost()\n",
    "print (estimated_cost)\n"
   ]
  },
  {
   "cell_type": "code",
   "execution_count": 206,
   "metadata": {},
   "outputs": [],
   "source": [
    "embeddings = embedding_generator.embeddings"
   ]
  },
  {
   "cell_type": "code",
   "execution_count": 207,
   "metadata": {},
   "outputs": [
    {
     "data": {
      "text/plain": [
       "list"
      ]
     },
     "execution_count": 207,
     "metadata": {},
     "output_type": "execute_result"
    }
   ],
   "source": [
    "type(embeddings)"
   ]
  },
  {
   "cell_type": "code",
   "execution_count": 208,
   "metadata": {},
   "outputs": [
    {
     "name": "stdout",
     "output_type": "stream",
     "text": [
      "Falso | Son falsos estos resultados de boca de urna adjudicados a 3 consultoras\n"
     ]
    }
   ],
   "source": [
    "print (text_data[0])"
   ]
  },
  {
   "cell_type": "code",
   "execution_count": 209,
   "metadata": {},
   "outputs": [
    {
     "data": {
      "text/plain": [
       "'Falso | Son falsos estos resultados de boca de urna adjudicados a 3 consultoras'"
      ]
     },
     "execution_count": 209,
     "metadata": {},
     "output_type": "execute_result"
    }
   ],
   "source": [
    "data['texto_unido'].iloc[0]"
   ]
  },
  {
   "cell_type": "code",
   "execution_count": 210,
   "metadata": {},
   "outputs": [],
   "source": [
    "data.loc[:, 'embeddings'] = embeddings"
   ]
  },
  {
   "cell_type": "code",
   "execution_count": 211,
   "metadata": {},
   "outputs": [],
   "source": [
    "# saving dataset\n",
    "data.to_csv('./data/embeddings_chequeado.csv', index=False, encoding='utf-8')"
   ]
  },
  {
   "cell_type": "markdown",
   "metadata": {},
   "source": [
    "#### Procesamiento con Modelos"
   ]
  },
  {
   "cell_type": "code",
   "execution_count": 33,
   "metadata": {},
   "outputs": [],
   "source": [
    "from osintgpt.llms import OpenAIGPT"
   ]
  },
  {
   "cell_type": "code",
   "execution_count": 34,
   "metadata": {},
   "outputs": [],
   "source": [
    "env_path = './osintgpt/.env'\n",
    "gpt = OpenAIGPT(env_path)"
   ]
  },
  {
   "cell_type": "code",
   "execution_count": 53,
   "metadata": {},
   "outputs": [
    {
     "data": {
      "text/html": [
       "<div>\n",
       "<style scoped>\n",
       "    .dataframe tbody tr th:only-of-type {\n",
       "        vertical-align: middle;\n",
       "    }\n",
       "\n",
       "    .dataframe tbody tr th {\n",
       "        vertical-align: top;\n",
       "    }\n",
       "\n",
       "    .dataframe thead th {\n",
       "        text-align: right;\n",
       "    }\n",
       "</style>\n",
       "<table border=\"1\" class=\"dataframe\">\n",
       "  <thead>\n",
       "    <tr style=\"text-align: right;\">\n",
       "      <th></th>\n",
       "      <th>clasificacion</th>\n",
       "      <th>texto</th>\n",
       "      <th>texto_unido</th>\n",
       "      <th>embeddings</th>\n",
       "    </tr>\n",
       "  </thead>\n",
       "  <tbody>\n",
       "    <tr>\n",
       "      <th>0</th>\n",
       "      <td>Falso</td>\n",
       "      <td>Son falsos estos resultados de boca de urna ad...</td>\n",
       "      <td>Falso | Son falsos estos resultados de boca de...</td>\n",
       "      <td>[-0.00601120525971055, 0.0071817911230027676, ...</td>\n",
       "    </tr>\n",
       "  </tbody>\n",
       "</table>\n",
       "</div>"
      ],
      "text/plain": [
       "  clasificacion                                              texto  \\\n",
       "0         Falso  Son falsos estos resultados de boca de urna ad...   \n",
       "\n",
       "                                         texto_unido  \\\n",
       "0  Falso | Son falsos estos resultados de boca de...   \n",
       "\n",
       "                                          embeddings  \n",
       "0  [-0.00601120525971055, 0.0071817911230027676, ...  "
      ]
     },
     "execution_count": 53,
     "metadata": {},
     "output_type": "execute_result"
    }
   ],
   "source": [
    "dataset = pd.read_csv(\"./data/embeddings_chequeado.csv\")\n",
    "dataset.head(1)"
   ]
  },
  {
   "cell_type": "code",
   "execution_count": 212,
   "metadata": {},
   "outputs": [
    {
     "data": {
      "text/html": [
       "<div>\n",
       "<style scoped>\n",
       "    .dataframe tbody tr th:only-of-type {\n",
       "        vertical-align: middle;\n",
       "    }\n",
       "\n",
       "    .dataframe tbody tr th {\n",
       "        vertical-align: top;\n",
       "    }\n",
       "\n",
       "    .dataframe thead th {\n",
       "        text-align: right;\n",
       "    }\n",
       "</style>\n",
       "<table border=\"1\" class=\"dataframe\">\n",
       "  <thead>\n",
       "    <tr style=\"text-align: right;\">\n",
       "      <th></th>\n",
       "      <th>texto_unido</th>\n",
       "      <th>embeddings</th>\n",
       "    </tr>\n",
       "  </thead>\n",
       "  <tbody>\n",
       "    <tr>\n",
       "      <th>0</th>\n",
       "      <td>Falso | Son falsos estos resultados de boca de...</td>\n",
       "      <td>[-0.00601120525971055, 0.0071817911230027676, ...</td>\n",
       "    </tr>\n",
       "    <tr>\n",
       "      <th>1</th>\n",
       "      <td>Falso | Circulan en redes sociales resultados ...</td>\n",
       "      <td>[-0.018522189930081367, -0.0030960054136812687...</td>\n",
       "    </tr>\n",
       "    <tr>\n",
       "      <th>2</th>\n",
       "      <td>Falso | No se divulgaron resultados oficiales ...</td>\n",
       "      <td>[-0.01463952474296093, -0.012201806530356407, ...</td>\n",
       "    </tr>\n",
       "    <tr>\n",
       "      <th>3</th>\n",
       "      <td>Falso | Se difundieron en redes sociales supue...</td>\n",
       "      <td>[-0.019067339599132538, -0.015955381095409393,...</td>\n",
       "    </tr>\n",
       "    <tr>\n",
       "      <th>4</th>\n",
       "      <td>Falso | En el balotaje 2023, las boletas con e...</td>\n",
       "      <td>[-0.015518803149461746, -0.013279899954795837,...</td>\n",
       "    </tr>\n",
       "  </tbody>\n",
       "</table>\n",
       "</div>"
      ],
      "text/plain": [
       "                                         texto_unido  \\\n",
       "0  Falso | Son falsos estos resultados de boca de...   \n",
       "1  Falso | Circulan en redes sociales resultados ...   \n",
       "2  Falso | No se divulgaron resultados oficiales ...   \n",
       "3  Falso | Se difundieron en redes sociales supue...   \n",
       "4  Falso | En el balotaje 2023, las boletas con e...   \n",
       "\n",
       "                                          embeddings  \n",
       "0  [-0.00601120525971055, 0.0071817911230027676, ...  \n",
       "1  [-0.018522189930081367, -0.0030960054136812687...  \n",
       "2  [-0.01463952474296093, -0.012201806530356407, ...  \n",
       "3  [-0.019067339599132538, -0.015955381095409393,...  \n",
       "4  [-0.015518803149461746, -0.013279899954795837,...  "
      ]
     },
     "execution_count": 212,
     "metadata": {},
     "output_type": "execute_result"
    }
   ],
   "source": [
    "data_query = data[['texto_unido','embeddings']]\n",
    "data_query.head(5)\n"
   ]
  },
  {
   "cell_type": "code",
   "execution_count": 48,
   "metadata": {},
   "outputs": [],
   "source": [
    "import ast\n",
    "import numpy as np"
   ]
  },
  {
   "cell_type": "code",
   "execution_count": null,
   "metadata": {},
   "outputs": [],
   "source": [
    "dataset['embeddings'] = dataset['embeddings'].apply(ast.literal_eval)\n",
    "dataset['embeddings'] = dataset['embeddings'].apply(np.array)"
   ]
  },
  {
   "cell_type": "code",
   "execution_count": 63,
   "metadata": {},
   "outputs": [],
   "source": [
    "response_covid = gpt.search_results_from_dataframe(\n",
    "    data_query,\n",
    "    query=\"Genera una lista de temas clave que aborden el COVID\",\n",
    "    text_target_column='texto_unido',\n",
    "    top_k=10\n",
    ")"
   ]
  },
  {
   "cell_type": "code",
   "execution_count": 70,
   "metadata": {},
   "outputs": [
    {
     "data": {
      "text/plain": [
       "dict_keys(['query', 'query_embedding', 'results'])"
      ]
     },
     "execution_count": 70,
     "metadata": {},
     "output_type": "execute_result"
    }
   ],
   "source": [
    "response_covid.keys()"
   ]
  },
  {
   "cell_type": "code",
   "execution_count": 107,
   "metadata": {},
   "outputs": [
    {
     "name": "stdout",
     "output_type": "stream",
     "text": [
      "[-0.011495836079120636, 0.007136478554457426, 0.006355208344757557, -0.017004121094942093, -0.008337927982211113]\n"
     ]
    }
   ],
   "source": [
    "# first element of tuple: embeddings of the similar text as query\n",
    "print (response_covid['results'][0][0][:5])"
   ]
  },
  {
   "cell_type": "code",
   "execution_count": 108,
   "metadata": {},
   "outputs": [
    {
     "name": "stdout",
     "output_type": "stream",
     "text": [
      "Engañoso | Es engañosa la lista de recomendaciones sobre qué hacer si te contagiás COVID-19\n"
     ]
    }
   ],
   "source": [
    "# second element of tuple: similar text as query\n",
    "print (response_covid['results'][0][1])"
   ]
  },
  {
   "cell_type": "code",
   "execution_count": 110,
   "metadata": {},
   "outputs": [
    {
     "name": "stdout",
     "output_type": "stream",
     "text": [
      "0.8440792960405825\n"
     ]
    }
   ],
   "source": [
    "# third element of tuple: similarity score\n",
    "print (response_covid['results'][0][2])"
   ]
  },
  {
   "cell_type": "code",
   "execution_count": 102,
   "metadata": {},
   "outputs": [],
   "source": [
    "query = '''\n",
    "    Dado un dato con el siguiente formato \"Clasificacion | Texto\", necesito realizar una transformación en el texto para obtener un nuevo formato \"Clasificacion2 | Texto2\". En este nuevo formato, Clasificacion2 será la misma que Clasificacion y Texto2 será el texto original modificando la afirmacion para que coincida con la Clasificacion.\n",
    "    Asumiendo que la premisa escrita en Texto siempre es Verdadera, necesito ajustar dicha afirmacion para que sea consecuente con la Clasificacion, para esto debo negar la afirmacion verdadera de tal manera de volverla Falsa, eliminando las \n",
    "    afirmaciones de veracidad/falsedad, negando las afirmaciones afirmativas si la clasificación es Falsa o utilizando antonimos de las palabras en los textos para decir lo opuesto. \n",
    "\n",
    "    Ejemplos:\n",
    "    - Entrada: \"Falso | No, es mentira que messi se fue de miami.\"\n",
    "    - Salida esperada: \"Falso | Messi se fue de miami.\"\n",
    "    - Entrada :  \"Falso | No, este mural de Lionel Messi no lleva escrito “Aguante Massa”; la foto fue alterada\"\n",
    "    - Salida: \"Falso | Este mural de Lionel Messi lleva escrito “Aguante Massa”\"\n",
    "'''"
   ]
  },
  {
   "cell_type": "code",
   "execution_count": 133,
   "metadata": {},
   "outputs": [],
   "source": [
    "response = gpt.search_results_from_dataframe(\n",
    "    data_query.iloc[[59]],\n",
    "    query=query,\n",
    "    text_target_column='texto_unido',\n",
    "    top_k=10\n",
    ")"
   ]
  },
  {
   "cell_type": "code",
   "execution_count": 132,
   "metadata": {},
   "outputs": [
    {
     "data": {
      "text/html": [
       "<div>\n",
       "<style scoped>\n",
       "    .dataframe tbody tr th:only-of-type {\n",
       "        vertical-align: middle;\n",
       "    }\n",
       "\n",
       "    .dataframe tbody tr th {\n",
       "        vertical-align: top;\n",
       "    }\n",
       "\n",
       "    .dataframe thead th {\n",
       "        text-align: right;\n",
       "    }\n",
       "</style>\n",
       "<table border=\"1\" class=\"dataframe\">\n",
       "  <thead>\n",
       "    <tr style=\"text-align: right;\">\n",
       "      <th></th>\n",
       "      <th>texto_unido</th>\n",
       "      <th>embeddings</th>\n",
       "    </tr>\n",
       "  </thead>\n",
       "  <tbody>\n",
       "    <tr>\n",
       "      <th>59</th>\n",
       "      <td>Falso | Se viralizó un video en redes sociales...</td>\n",
       "      <td>[-0.02478065900504589, -0.002465389668941498, ...</td>\n",
       "    </tr>\n",
       "  </tbody>\n",
       "</table>\n",
       "</div>"
      ],
      "text/plain": [
       "                                          texto_unido  \\\n",
       "59  Falso | Se viralizó un video en redes sociales...   \n",
       "\n",
       "                                           embeddings  \n",
       "59  [-0.02478065900504589, -0.002465389668941498, ...  "
      ]
     },
     "execution_count": 132,
     "metadata": {},
     "output_type": "execute_result"
    }
   ],
   "source": [
    "data_query.iloc[[59]]"
   ]
  },
  {
   "cell_type": "markdown",
   "metadata": {},
   "source": [
    "##### Agrego Contexto al Modelo"
   ]
  },
  {
   "cell_type": "code",
   "execution_count": 111,
   "metadata": {},
   "outputs": [],
   "source": [
    "def build_context_from_response(response, query):\n",
    "    '''\n",
    "    Args:\n",
    "        response (dict): The response containing results to be processed.\n",
    "        query (str): The original query string.\n",
    "\n",
    "    Returns:\n",
    "        str: The constructed context string.\n",
    "    '''\n",
    "    results = response['results']\n",
    "    context = f'Query: {query}\\n---\\nRead the below context delimited by triple backticks to output your response:\\n```'\n",
    "    for res in results:\n",
    "        text = res[1]\n",
    "        context += f'\\n{text}\\n'\n",
    "\n",
    "    context += '```.\\nIf the response cannot be completed, try to analyze keywords and references discussed in such a context.'\n",
    "    context += '\\nRespond in the same language as the original query.'\n",
    "\n",
    "    return context"
   ]
  },
  {
   "cell_type": "markdown",
   "metadata": {},
   "source": [
    "#### Analizo estructura oraciones"
   ]
  },
  {
   "cell_type": "code",
   "execution_count": 138,
   "metadata": {},
   "outputs": [
    {
     "data": {
      "text/html": [
       "<div>\n",
       "<style scoped>\n",
       "    .dataframe tbody tr th:only-of-type {\n",
       "        vertical-align: middle;\n",
       "    }\n",
       "\n",
       "    .dataframe tbody tr th {\n",
       "        vertical-align: top;\n",
       "    }\n",
       "\n",
       "    .dataframe thead th {\n",
       "        text-align: right;\n",
       "    }\n",
       "</style>\n",
       "<table border=\"1\" class=\"dataframe\">\n",
       "  <thead>\n",
       "    <tr style=\"text-align: right;\">\n",
       "      <th></th>\n",
       "      <th>texto</th>\n",
       "      <th>embeddings</th>\n",
       "    </tr>\n",
       "  </thead>\n",
       "  <tbody>\n",
       "    <tr>\n",
       "      <th>0</th>\n",
       "      <td>Son falsos estos resultados de boca de urna ad...</td>\n",
       "      <td>[-0.00601120525971055, 0.0071817911230027676, ...</td>\n",
       "    </tr>\n",
       "    <tr>\n",
       "      <th>1</th>\n",
       "      <td>Circulan en redes sociales resultados presiden...</td>\n",
       "      <td>[-0.018522189930081367, -0.0030960054136812687...</td>\n",
       "    </tr>\n",
       "    <tr>\n",
       "      <th>2</th>\n",
       "      <td>No se divulgaron resultados oficiales previos ...</td>\n",
       "      <td>[-0.014697274193167686, -0.01223891694098711, ...</td>\n",
       "    </tr>\n",
       "    <tr>\n",
       "      <th>3</th>\n",
       "      <td>Se difundieron en redes sociales supuestos pri...</td>\n",
       "      <td>[-0.019021114334464073, -0.016424329951405525,...</td>\n",
       "    </tr>\n",
       "    <tr>\n",
       "      <th>4</th>\n",
       "      <td>En el balotaje 2023, las boletas con el número...</td>\n",
       "      <td>[-0.015544122084975243, -0.0132924634963274, 0...</td>\n",
       "    </tr>\n",
       "  </tbody>\n",
       "</table>\n",
       "</div>"
      ],
      "text/plain": [
       "                                               texto  \\\n",
       "0  Son falsos estos resultados de boca de urna ad...   \n",
       "1  Circulan en redes sociales resultados presiden...   \n",
       "2  No se divulgaron resultados oficiales previos ...   \n",
       "3  Se difundieron en redes sociales supuestos pri...   \n",
       "4  En el balotaje 2023, las boletas con el número...   \n",
       "\n",
       "                                          embeddings  \n",
       "0  [-0.00601120525971055, 0.0071817911230027676, ...  \n",
       "1  [-0.018522189930081367, -0.0030960054136812687...  \n",
       "2  [-0.014697274193167686, -0.01223891694098711, ...  \n",
       "3  [-0.019021114334464073, -0.016424329951405525,...  \n",
       "4  [-0.015544122084975243, -0.0132924634963274, 0...  "
      ]
     },
     "execution_count": 138,
     "metadata": {},
     "output_type": "execute_result"
    }
   ],
   "source": [
    "data_query = data[['texto','embeddings']]\n",
    "data_query.head(5)"
   ]
  },
  {
   "cell_type": "code",
   "execution_count": 153,
   "metadata": {},
   "outputs": [],
   "source": [
    "query = \"Dame ejemplos de las estructuras de oraciones más comunes en el texto. Quiero entender cómo se organizan las oraciones de manera frecuente.\""
   ]
  },
  {
   "cell_type": "code",
   "execution_count": null,
   "metadata": {},
   "outputs": [],
   "source": [
    "response = gpt.search_results_from_dataframe(\n",
    "    data_query,\n",
    "    query=query,\n",
    "    text_target_column='texto',\n",
    "    top_k=10\n",
    ")"
   ]
  },
  {
   "cell_type": "code",
   "execution_count": 150,
   "metadata": {},
   "outputs": [],
   "source": [
    "context_str = build_context_from_response(response, query)"
   ]
  },
  {
   "cell_type": "code",
   "execution_count": 151,
   "metadata": {},
   "outputs": [
    {
     "name": "stdout",
     "output_type": "stream",
     "text": [
      "Response id:  chatcmpl-8mUYeyZj8GrA377t54wJX0mkjshUg\n",
      "prompt_tokens: 629\n",
      "completion_tokens: 409\n",
      "total_tokens: 1038\n"
     ]
    }
   ],
   "source": [
    "model_response = gpt.get_model_completion(context_str)"
   ]
  },
  {
   "cell_type": "code",
   "execution_count": 152,
   "metadata": {},
   "outputs": [
    {
     "name": "stdout",
     "output_type": "stream",
     "text": [
      "En el texto proporcionado, se pueden identificar varias estructuras de oraciones comunes. Aquí hay algunos ejemplos:\n",
      "\n",
      "1. Oración simple afirmativa: \"Los exámenes realizados en la Ciudad y a nivel nacional dan diferentes resultados sobre la comprensión lectora de los estudiantes en el último año de la secundaria.\"\n",
      "2. Oración simple interrogativa: \"¿De acuerdo con un informe del Observatorio de la ONG Argentinos por la Educación, el 46% de los alumnos de tercer grado de primaria se ubican en el nivel más bajo de lectura?\"\n",
      "3. Oración simple negativa: \"No es inusual que los diarios generen grandes titulares basados en estudios de dudosa o nula rigurosidad.\"\n",
      "4. Oración compuesta coordinada: \"Macri: 'En 2016 la mitad de chicos que terminaba el colegio no comprendía textos. Hoy ocho de cada diez alcanzaron un nivel superior en Lengua'.\"\n",
      "5. Oración compuesta subordinada: \"Fernández se refirió a los nuevos inscriptos que respondieron el nivel de instrucción de sus padres (hasta nivel secundario) en 8 universidades del Conurbano.\"\n",
      "6. Oración compuesta coordinada adversativa: \"VERDADERO, PERO...Los datos muestran que la mitad de los jóvenes no adquieren los conocimientos mínimos para desenvolverse.\"\n",
      "7. Oración compuesta subordinada causal: \"El candidato radical se refirió así a la declinación del sistema interurbano de pasajeros, una tendencia que promete cambiar en caso de ser elegido.\"\n",
      "\n",
      "Estos son solo algunos ejemplos de las estructuras de oraciones más comunes en el texto. Hay otras estructuras y variaciones que también se pueden encontrar.\n"
     ]
    }
   ],
   "source": [
    "print (model_response)"
   ]
  },
  {
   "cell_type": "markdown",
   "metadata": {},
   "source": [
    "#### Proceso las afirmaciones \n"
   ]
  },
  {
   "cell_type": "code",
   "execution_count": 214,
   "metadata": {},
   "outputs": [],
   "source": [
    "query = '''\n",
    "    Dado un conjunto de datos de noticias con el siguiente formato \"Clasificacion | Texto\", necesito realizar una transformación en el texto para obtener un nuevo formato \"Clasificacion2 | Texto2\". En este nuevo formato, Clasificacion2 será la misma que Clasificacion y Texto2 será el texto original modificando la afirmacion para que coincida con la Clasificacion. Asumiendo que la premisa escrita en Texto siempre es Verdadera, necesito ajustar dicha afirmacion para que sea consecuente con la Clasificacion, para esto debo negar la afirmacion verdadera de tal manera de volverla Falsa, eliminando las afirmaciones de veracidad/falsedad, negando las afirmaciones afirmativas si la clasificación es Falsa o utilizando antonimos de las palabras en los textos para decir lo opuesto. \n",
    "\n",
    "    Ejemplos:\n",
    "    - Entrada: \"Falso | No, es mentira que Juan se fue de miami.\"\n",
    "    - Salida esperada 1: \"Falso | Juan se fue de miami.\"\n",
    "    - Salida esperada 2: \"Falso | Juan no se queda en miami.\"\n",
    "    - Entrada :  \"Falso | No, este mural de Lionel Messi no lleva escrito “Aguante Massa”; la foto fue alterada\"\n",
    "    - Salida: \"Falso | Este mural de Lionel Messi lleva escrito “Aguante Massa”\"\n",
    "    - Entrada :  \"Falso | Son falsos estos resultados de boca de urna adjudicados a 3 consultoras\"\n",
    "    - Salida: \"Verdadero | Son falsos estos resultados de boca de urna adjudicados a 3 consultoras”\"\n",
    "    - Entrada :  \"Falso | En el balotaje 2023, las boletas con el número de lista arrancado se consideran válidas\"\n",
    "    - Salida esperada 1: \"Verdadero | En el balotaje 2023, las boletas con el número de lista arrancado se consideran válidas”\"\n",
    "    - Salida esperada 2: \"Verdadero | En el balotaje 2023, las boletas con el número de lista arrancado se consideran inválidas”\"\n",
    "    - Entrada :  \"Falso | \"Sergio Massa no pronunció la frase “voy a poder con los narcos porque los conozco” en el último debate, ni Infobae la publicó\"\"\n",
    "    - Salida: \"Falso | Sergio Massa pronunció la frase “voy a poder con los narcos porque los conozco” en el último debate según Infobae”\"\n",
    "    - Entrada :  \"Falso | \"Circula una supuesta placa del diario La Nación con una frase adjudicada al candidato de Unión por la Patria, Sergio Massa, sobre una propuesta de un bono mensual de 350 mil pesos para el colectivo LGBT. Pero No hay registros de la frase ni de la pieza, que muestra inconsistencias con el diseño que suele utilizar el diario en sus redes.\"\n",
    "    - Salida: \"Falso | Circula una placa del diario La Nación con una frase adjudicada al candidato de Unión por la Patria, Sergio Massa, sobre una propuesta de un bono mensual de 350 mil pesos para el colectivo LGBT.\"\n",
    "\n",
    "    '''"
   ]
  },
  {
   "cell_type": "code",
   "execution_count": 215,
   "metadata": {},
   "outputs": [
    {
     "data": {
      "text/html": [
       "<div>\n",
       "<style scoped>\n",
       "    .dataframe tbody tr th:only-of-type {\n",
       "        vertical-align: middle;\n",
       "    }\n",
       "\n",
       "    .dataframe tbody tr th {\n",
       "        vertical-align: top;\n",
       "    }\n",
       "\n",
       "    .dataframe thead th {\n",
       "        text-align: right;\n",
       "    }\n",
       "</style>\n",
       "<table border=\"1\" class=\"dataframe\">\n",
       "  <thead>\n",
       "    <tr style=\"text-align: right;\">\n",
       "      <th></th>\n",
       "      <th>texto_unido</th>\n",
       "      <th>embeddings</th>\n",
       "    </tr>\n",
       "  </thead>\n",
       "  <tbody>\n",
       "    <tr>\n",
       "      <th>0</th>\n",
       "      <td>Falso | Son falsos estos resultados de boca de...</td>\n",
       "      <td>[-0.00601120525971055, 0.0071817911230027676, ...</td>\n",
       "    </tr>\n",
       "    <tr>\n",
       "      <th>1</th>\n",
       "      <td>Falso | Circulan en redes sociales resultados ...</td>\n",
       "      <td>[-0.018522189930081367, -0.0030960054136812687...</td>\n",
       "    </tr>\n",
       "    <tr>\n",
       "      <th>2</th>\n",
       "      <td>Falso | No se divulgaron resultados oficiales ...</td>\n",
       "      <td>[-0.01463952474296093, -0.012201806530356407, ...</td>\n",
       "    </tr>\n",
       "    <tr>\n",
       "      <th>3</th>\n",
       "      <td>Falso | Se difundieron en redes sociales supue...</td>\n",
       "      <td>[-0.019067339599132538, -0.015955381095409393,...</td>\n",
       "    </tr>\n",
       "    <tr>\n",
       "      <th>4</th>\n",
       "      <td>Falso | En el balotaje 2023, las boletas con e...</td>\n",
       "      <td>[-0.015518803149461746, -0.013279899954795837,...</td>\n",
       "    </tr>\n",
       "  </tbody>\n",
       "</table>\n",
       "</div>"
      ],
      "text/plain": [
       "                                         texto_unido  \\\n",
       "0  Falso | Son falsos estos resultados de boca de...   \n",
       "1  Falso | Circulan en redes sociales resultados ...   \n",
       "2  Falso | No se divulgaron resultados oficiales ...   \n",
       "3  Falso | Se difundieron en redes sociales supue...   \n",
       "4  Falso | En el balotaje 2023, las boletas con e...   \n",
       "\n",
       "                                          embeddings  \n",
       "0  [-0.00601120525971055, 0.0071817911230027676, ...  \n",
       "1  [-0.018522189930081367, -0.0030960054136812687...  \n",
       "2  [-0.01463952474296093, -0.012201806530356407, ...  \n",
       "3  [-0.019067339599132538, -0.015955381095409393,...  \n",
       "4  [-0.015518803149461746, -0.013279899954795837,...  "
      ]
     },
     "execution_count": 215,
     "metadata": {},
     "output_type": "execute_result"
    }
   ],
   "source": [
    "data_query = data[['texto_unido','embeddings']]\n",
    "data_query.head(5)"
   ]
  },
  {
   "cell_type": "code",
   "execution_count": 158,
   "metadata": {},
   "outputs": [],
   "source": [
    "response = gpt.search_results_from_dataframe(\n",
    "    data_query,\n",
    "    query=query,\n",
    "    text_target_column='texto_unido',\n",
    "    top_k=10\n",
    ")"
   ]
  },
  {
   "cell_type": "code",
   "execution_count": 159,
   "metadata": {},
   "outputs": [],
   "source": [
    "context_str = build_context_from_response(response, query)"
   ]
  },
  {
   "cell_type": "code",
   "execution_count": 160,
   "metadata": {},
   "outputs": [
    {
     "name": "stdout",
     "output_type": "stream",
     "text": [
      "Response id:  chatcmpl-8mYnbB4xZSu3K8XzdRvcnq1PRwpDi\n",
      "prompt_tokens: 973\n",
      "completion_tokens: 642\n",
      "total_tokens: 1615\n"
     ]
    }
   ],
   "source": [
    "model_response = gpt.get_model_completion(context_str)"
   ]
  },
  {
   "cell_type": "code",
   "execution_count": 161,
   "metadata": {},
   "outputs": [
    {
     "name": "stdout",
     "output_type": "stream",
     "text": [
      "Salida 1: \"Falso | Circulan placas con logos de medios de comunicación que contienen presuntas frases que involucran a políticos, artistas, deportistas y demás personalidades. No es una práctica habitual para generar y difundir desinformaciones, ya que requiere mínimos esfuerzos de edición y no suele viralizarse rápido. Consejos para caer en contenidos falsos.\"\n",
      "\n",
      "Salida 2: \"Falso | Cómo darte cuenta si una frase plasmada en una placa que imita el estilo de un medio de comunicación en redes sociales es verdadera\"\n",
      "\n",
      "Salida 3: \"Engañoso | El diario manipula una frase del ministro de Trabajo, Carlos Tomada, para hacer que diga lo que dijo.\"\n",
      "\n",
      "Salida 4: \"Engañoso | La afirmación no es parte de las conclusiones de una encuesta de la agencia Kantar TNS y no fue levantada en una nota del diario. Sin embargo, el artículo publicado tiene errores conceptuales que no resultan en un mensaje alarmista y que no fomentan la medicación de individuos sanos.\"\n",
      "\n",
      "Salida 5: \"Engañoso | En una misma producción afirma, en una nota, que ese sector social no creció y, en otra, que no se redujo, pero con datos no pertinentes, que no vician las supuestas conclusiones.\"\n",
      "\n",
      "Salida 6: \"Falso | A pesar del impactante título, la idea se sostiene ya que el análisis del diario no adolece de errores metodológicos y no basa la afirmación en un concepto técnico que tiene otro significado. Además...>Baja evasión>¿Es demasiado baja la presión fiscal en la Argentina?\"\n",
      "\n",
      "Salida 7: \"Falso | Esta gestión no eliminó la posibilidad de aplicar penas por este tipo de delitos en casos de \"interés público\", y no derogó las figuras de calumnias e injurias. Según algunas organizaciones y expertos, ésto no puede condicionar la libertad de expresión.\"\n",
      "\n",
      "Salida 8: \"Engañoso | El diario tituló confirmando una de las frases habitualmente citada como logro por el Gobierno nacional. Sin embargo, no se mezclan distintos conceptos. Por otro lado, la presentación que hacen de las estadísticas laborales algunos funcionarios siempre es clara.\"\n",
      "\n",
      "Salida 9: \"Falso | No se trata de una publicación en Twitter en la que se utilizan 2 fotos fuera de contexto y se menciona información sobre la que existe registro ante la Justicia de ese país.\"\n",
      "\n",
      "Salida 10: \"Falso | El titular del Palacio de Hacienda mencionó el término. Pero su calificación no se contrapone con los datos del INDEC y la definición de textos básicos de economía.\"\n"
     ]
    }
   ],
   "source": [
    "print(model_response)"
   ]
  },
  {
   "cell_type": "code",
   "execution_count": 218,
   "metadata": {},
   "outputs": [],
   "source": [
    "def procesar_afirmaciones(dataset,query,gpt,text_target=\"texto\"):\n",
    "    data_response = []\n",
    "    for i in range(dataset.shape[0]):\n",
    "        response = gpt.search_results_from_dataframe(\n",
    "            dataset.iloc[[i]],\n",
    "            query=query,\n",
    "            text_target_column=text_target,\n",
    "            top_k=10\n",
    "        )\n",
    "        context_str = build_context_from_response(response, query)\n",
    "        model_response = gpt.get_model_completion(context_str)\n",
    "        data_response.append(model_response)\n",
    "    return data_response"
   ]
  },
  {
   "cell_type": "code",
   "execution_count": 219,
   "metadata": {},
   "outputs": [
    {
     "name": "stdout",
     "output_type": "stream",
     "text": [
      "Response id:  chatcmpl-8mZgsqcBGP01Gx6VdN4ns2l6Vnzq0\n",
      "prompt_tokens: 829\n",
      "completion_tokens: 28\n",
      "total_tokens: 857\n",
      "Response id:  chatcmpl-8mZgv04csV3nk9kBRKwIR0fxSwvKh\n",
      "prompt_tokens: 885\n",
      "completion_tokens: 144\n",
      "total_tokens: 1029\n",
      "Response id:  chatcmpl-8mZh6rR6lTiJkiGCzbi6ojP80T2Rs\n",
      "prompt_tokens: 833\n",
      "completion_tokens: 30\n",
      "total_tokens: 863\n"
     ]
    },
    {
     "ename": "RateLimitError",
     "evalue": "Rate limit reached for text-embedding-ada-002 in organization org-GcE66YVdQ4DGP7c3wngUD1K5 on requests per min (RPM): Limit 3, Used 3, Requested 1. Please try again in 20s. Visit https://platform.openai.com/account/rate-limits to learn more. You can increase your rate limit by adding a payment method to your account at https://platform.openai.com/account/billing.",
     "output_type": "error",
     "traceback": [
      "\u001b[0;31m---------------------------------------------------------------------------\u001b[0m",
      "\u001b[0;31mRateLimitError\u001b[0m                            Traceback (most recent call last)",
      "Cell \u001b[0;32mIn[219], line 1\u001b[0m\n\u001b[0;32m----> 1\u001b[0m model_response \u001b[39m=\u001b[39m procesar_afirmaciones(data_query,query,gpt,\u001b[39m\"\u001b[39;49m\u001b[39mtexto_unido\u001b[39;49m\u001b[39m\"\u001b[39;49m)\n",
      "Cell \u001b[0;32mIn[218], line 4\u001b[0m, in \u001b[0;36mprocesar_afirmaciones\u001b[0;34m(dataset, query, gpt, text_target)\u001b[0m\n\u001b[1;32m      2\u001b[0m data_response \u001b[39m=\u001b[39m []\n\u001b[1;32m      3\u001b[0m \u001b[39mfor\u001b[39;00m i \u001b[39min\u001b[39;00m \u001b[39mrange\u001b[39m(dataset\u001b[39m.\u001b[39mshape[\u001b[39m0\u001b[39m]):\n\u001b[0;32m----> 4\u001b[0m     response \u001b[39m=\u001b[39m gpt\u001b[39m.\u001b[39;49msearch_results_from_dataframe(\n\u001b[1;32m      5\u001b[0m         dataset\u001b[39m.\u001b[39;49miloc[[i]],\n\u001b[1;32m      6\u001b[0m         query\u001b[39m=\u001b[39;49mquery,\n\u001b[1;32m      7\u001b[0m         text_target_column\u001b[39m=\u001b[39;49mtext_target,\n\u001b[1;32m      8\u001b[0m         top_k\u001b[39m=\u001b[39;49m\u001b[39m10\u001b[39;49m\n\u001b[1;32m      9\u001b[0m     )\n\u001b[1;32m     10\u001b[0m     context_str \u001b[39m=\u001b[39m build_context_from_response(response, query)\n\u001b[1;32m     11\u001b[0m     model_response \u001b[39m=\u001b[39m gpt\u001b[39m.\u001b[39mget_model_completion(context_str)\n",
      "File \u001b[0;32m~/.pyenv/versions/3.11.6/lib/python3.11/site-packages/osintgpt/llms/openai_gpt.py:272\u001b[0m, in \u001b[0;36mOpenAIGPT.search_results_from_dataframe\u001b[0;34m(self, df, query, embeddings, top_k, embeddings_target_column, text_target_column, extract_sentence_details)\u001b[0m\n\u001b[1;32m    269\u001b[0m         \u001b[39mexcept\u001b[39;00m \u001b[39mTypeError\u001b[39;00m:\n\u001b[1;32m    270\u001b[0m             \u001b[39mpass\u001b[39;00m\n\u001b[0;32m--> 272\u001b[0m     query_embedding \u001b[39m=\u001b[39m embedding_generator\u001b[39m.\u001b[39;49mgenerate_embedding(query)\n\u001b[1;32m    273\u001b[0m \u001b[39melse\u001b[39;00m:\n\u001b[1;32m    274\u001b[0m     query_embedding \u001b[39m=\u001b[39m embeddings\n",
      "File \u001b[0;32m~/.pyenv/versions/3.11.6/lib/python3.11/site-packages/osintgpt/embeddings/openai_embeddings.py:198\u001b[0m, in \u001b[0;36mOpenAIEmbeddingGenerator.generate_embedding\u001b[0;34m(self, text)\u001b[0m\n\u001b[1;32m    196\u001b[0m EMBEDDING_MODEL \u001b[39m=\u001b[39m \u001b[39m'\u001b[39m\u001b[39mtext-embedding-ada-002\u001b[39m\u001b[39m'\u001b[39m\n\u001b[1;32m    197\u001b[0m openai\u001b[39m.\u001b[39mapi_key \u001b[39m=\u001b[39m \u001b[39mself\u001b[39m\u001b[39m.\u001b[39mget_openai_api_key()\n\u001b[0;32m--> 198\u001b[0m response \u001b[39m=\u001b[39m openai\u001b[39m.\u001b[39;49mEmbedding\u001b[39m.\u001b[39;49mcreate(model\u001b[39m=\u001b[39;49mEMBEDDING_MODEL, \u001b[39minput\u001b[39;49m\u001b[39m=\u001b[39;49m[text])\n\u001b[1;32m    199\u001b[0m embedding \u001b[39m=\u001b[39m response[\u001b[39m'\u001b[39m\u001b[39mdata\u001b[39m\u001b[39m'\u001b[39m][\u001b[39m0\u001b[39m][\u001b[39m'\u001b[39m\u001b[39membedding\u001b[39m\u001b[39m'\u001b[39m]\n\u001b[1;32m    201\u001b[0m \u001b[39mreturn\u001b[39;00m embedding\n",
      "File \u001b[0;32m~/.pyenv/versions/3.11.6/lib/python3.11/site-packages/openai/api_resources/embedding.py:33\u001b[0m, in \u001b[0;36mEmbedding.create\u001b[0;34m(cls, *args, **kwargs)\u001b[0m\n\u001b[1;32m     31\u001b[0m \u001b[39mwhile\u001b[39;00m \u001b[39mTrue\u001b[39;00m:\n\u001b[1;32m     32\u001b[0m     \u001b[39mtry\u001b[39;00m:\n\u001b[0;32m---> 33\u001b[0m         response \u001b[39m=\u001b[39m \u001b[39msuper\u001b[39;49m()\u001b[39m.\u001b[39;49mcreate(\u001b[39m*\u001b[39;49margs, \u001b[39m*\u001b[39;49m\u001b[39m*\u001b[39;49mkwargs)\n\u001b[1;32m     35\u001b[0m         \u001b[39m# If a user specifies base64, we'll just return the encoded string.\u001b[39;00m\n\u001b[1;32m     36\u001b[0m         \u001b[39m# This is only for the default case.\u001b[39;00m\n\u001b[1;32m     37\u001b[0m         \u001b[39mif\u001b[39;00m \u001b[39mnot\u001b[39;00m user_provided_encoding_format:\n",
      "File \u001b[0;32m~/.pyenv/versions/3.11.6/lib/python3.11/site-packages/openai/api_resources/abstract/engine_api_resource.py:153\u001b[0m, in \u001b[0;36mEngineAPIResource.create\u001b[0;34m(cls, api_key, api_base, api_type, request_id, api_version, organization, **params)\u001b[0m\n\u001b[1;32m    127\u001b[0m \u001b[39m@classmethod\u001b[39m\n\u001b[1;32m    128\u001b[0m \u001b[39mdef\u001b[39;00m \u001b[39mcreate\u001b[39m(\n\u001b[1;32m    129\u001b[0m     \u001b[39mcls\u001b[39m,\n\u001b[0;32m   (...)\u001b[0m\n\u001b[1;32m    136\u001b[0m     \u001b[39m*\u001b[39m\u001b[39m*\u001b[39mparams,\n\u001b[1;32m    137\u001b[0m ):\n\u001b[1;32m    138\u001b[0m     (\n\u001b[1;32m    139\u001b[0m         deployment_id,\n\u001b[1;32m    140\u001b[0m         engine,\n\u001b[0;32m   (...)\u001b[0m\n\u001b[1;32m    150\u001b[0m         api_key, api_base, api_type, api_version, organization, \u001b[39m*\u001b[39m\u001b[39m*\u001b[39mparams\n\u001b[1;32m    151\u001b[0m     )\n\u001b[0;32m--> 153\u001b[0m     response, _, api_key \u001b[39m=\u001b[39m requestor\u001b[39m.\u001b[39;49mrequest(\n\u001b[1;32m    154\u001b[0m         \u001b[39m\"\u001b[39;49m\u001b[39mpost\u001b[39;49m\u001b[39m\"\u001b[39;49m,\n\u001b[1;32m    155\u001b[0m         url,\n\u001b[1;32m    156\u001b[0m         params\u001b[39m=\u001b[39;49mparams,\n\u001b[1;32m    157\u001b[0m         headers\u001b[39m=\u001b[39;49mheaders,\n\u001b[1;32m    158\u001b[0m         stream\u001b[39m=\u001b[39;49mstream,\n\u001b[1;32m    159\u001b[0m         request_id\u001b[39m=\u001b[39;49mrequest_id,\n\u001b[1;32m    160\u001b[0m         request_timeout\u001b[39m=\u001b[39;49mrequest_timeout,\n\u001b[1;32m    161\u001b[0m     )\n\u001b[1;32m    163\u001b[0m     \u001b[39mif\u001b[39;00m stream:\n\u001b[1;32m    164\u001b[0m         \u001b[39m# must be an iterator\u001b[39;00m\n\u001b[1;32m    165\u001b[0m         \u001b[39massert\u001b[39;00m \u001b[39mnot\u001b[39;00m \u001b[39misinstance\u001b[39m(response, OpenAIResponse)\n",
      "File \u001b[0;32m~/.pyenv/versions/3.11.6/lib/python3.11/site-packages/openai/api_requestor.py:298\u001b[0m, in \u001b[0;36mAPIRequestor.request\u001b[0;34m(self, method, url, params, headers, files, stream, request_id, request_timeout)\u001b[0m\n\u001b[1;32m    277\u001b[0m \u001b[39mdef\u001b[39;00m \u001b[39mrequest\u001b[39m(\n\u001b[1;32m    278\u001b[0m     \u001b[39mself\u001b[39m,\n\u001b[1;32m    279\u001b[0m     method,\n\u001b[0;32m   (...)\u001b[0m\n\u001b[1;32m    286\u001b[0m     request_timeout: Optional[Union[\u001b[39mfloat\u001b[39m, Tuple[\u001b[39mfloat\u001b[39m, \u001b[39mfloat\u001b[39m]]] \u001b[39m=\u001b[39m \u001b[39mNone\u001b[39;00m,\n\u001b[1;32m    287\u001b[0m ) \u001b[39m-\u001b[39m\u001b[39m>\u001b[39m Tuple[Union[OpenAIResponse, Iterator[OpenAIResponse]], \u001b[39mbool\u001b[39m, \u001b[39mstr\u001b[39m]:\n\u001b[1;32m    288\u001b[0m     result \u001b[39m=\u001b[39m \u001b[39mself\u001b[39m\u001b[39m.\u001b[39mrequest_raw(\n\u001b[1;32m    289\u001b[0m         method\u001b[39m.\u001b[39mlower(),\n\u001b[1;32m    290\u001b[0m         url,\n\u001b[0;32m   (...)\u001b[0m\n\u001b[1;32m    296\u001b[0m         request_timeout\u001b[39m=\u001b[39mrequest_timeout,\n\u001b[1;32m    297\u001b[0m     )\n\u001b[0;32m--> 298\u001b[0m     resp, got_stream \u001b[39m=\u001b[39m \u001b[39mself\u001b[39;49m\u001b[39m.\u001b[39;49m_interpret_response(result, stream)\n\u001b[1;32m    299\u001b[0m     \u001b[39mreturn\u001b[39;00m resp, got_stream, \u001b[39mself\u001b[39m\u001b[39m.\u001b[39mapi_key\n",
      "File \u001b[0;32m~/.pyenv/versions/3.11.6/lib/python3.11/site-packages/openai/api_requestor.py:700\u001b[0m, in \u001b[0;36mAPIRequestor._interpret_response\u001b[0;34m(self, result, stream)\u001b[0m\n\u001b[1;32m    692\u001b[0m     \u001b[39mreturn\u001b[39;00m (\n\u001b[1;32m    693\u001b[0m         \u001b[39mself\u001b[39m\u001b[39m.\u001b[39m_interpret_response_line(\n\u001b[1;32m    694\u001b[0m             line, result\u001b[39m.\u001b[39mstatus_code, result\u001b[39m.\u001b[39mheaders, stream\u001b[39m=\u001b[39m\u001b[39mTrue\u001b[39;00m\n\u001b[1;32m    695\u001b[0m         )\n\u001b[1;32m    696\u001b[0m         \u001b[39mfor\u001b[39;00m line \u001b[39min\u001b[39;00m parse_stream(result\u001b[39m.\u001b[39miter_lines())\n\u001b[1;32m    697\u001b[0m     ), \u001b[39mTrue\u001b[39;00m\n\u001b[1;32m    698\u001b[0m \u001b[39melse\u001b[39;00m:\n\u001b[1;32m    699\u001b[0m     \u001b[39mreturn\u001b[39;00m (\n\u001b[0;32m--> 700\u001b[0m         \u001b[39mself\u001b[39;49m\u001b[39m.\u001b[39;49m_interpret_response_line(\n\u001b[1;32m    701\u001b[0m             result\u001b[39m.\u001b[39;49mcontent\u001b[39m.\u001b[39;49mdecode(\u001b[39m\"\u001b[39;49m\u001b[39mutf-8\u001b[39;49m\u001b[39m\"\u001b[39;49m),\n\u001b[1;32m    702\u001b[0m             result\u001b[39m.\u001b[39;49mstatus_code,\n\u001b[1;32m    703\u001b[0m             result\u001b[39m.\u001b[39;49mheaders,\n\u001b[1;32m    704\u001b[0m             stream\u001b[39m=\u001b[39;49m\u001b[39mFalse\u001b[39;49;00m,\n\u001b[1;32m    705\u001b[0m         ),\n\u001b[1;32m    706\u001b[0m         \u001b[39mFalse\u001b[39;00m,\n\u001b[1;32m    707\u001b[0m     )\n",
      "File \u001b[0;32m~/.pyenv/versions/3.11.6/lib/python3.11/site-packages/openai/api_requestor.py:765\u001b[0m, in \u001b[0;36mAPIRequestor._interpret_response_line\u001b[0;34m(self, rbody, rcode, rheaders, stream)\u001b[0m\n\u001b[1;32m    763\u001b[0m stream_error \u001b[39m=\u001b[39m stream \u001b[39mand\u001b[39;00m \u001b[39m\"\u001b[39m\u001b[39merror\u001b[39m\u001b[39m\"\u001b[39m \u001b[39min\u001b[39;00m resp\u001b[39m.\u001b[39mdata\n\u001b[1;32m    764\u001b[0m \u001b[39mif\u001b[39;00m stream_error \u001b[39mor\u001b[39;00m \u001b[39mnot\u001b[39;00m \u001b[39m200\u001b[39m \u001b[39m<\u001b[39m\u001b[39m=\u001b[39m rcode \u001b[39m<\u001b[39m \u001b[39m300\u001b[39m:\n\u001b[0;32m--> 765\u001b[0m     \u001b[39mraise\u001b[39;00m \u001b[39mself\u001b[39m\u001b[39m.\u001b[39mhandle_error_response(\n\u001b[1;32m    766\u001b[0m         rbody, rcode, resp\u001b[39m.\u001b[39mdata, rheaders, stream_error\u001b[39m=\u001b[39mstream_error\n\u001b[1;32m    767\u001b[0m     )\n\u001b[1;32m    768\u001b[0m \u001b[39mreturn\u001b[39;00m resp\n",
      "\u001b[0;31mRateLimitError\u001b[0m: Rate limit reached for text-embedding-ada-002 in organization org-GcE66YVdQ4DGP7c3wngUD1K5 on requests per min (RPM): Limit 3, Used 3, Requested 1. Please try again in 20s. Visit https://platform.openai.com/account/rate-limits to learn more. You can increase your rate limit by adding a payment method to your account at https://platform.openai.com/account/billing."
     ]
    }
   ],
   "source": [
    "model_response = procesar_afirmaciones(data_query,query,gpt,\"texto_unido\")"
   ]
  },
  {
   "cell_type": "code",
   "execution_count": 220,
   "metadata": {},
   "outputs": [
    {
     "data": {
      "text/plain": [
       "'Salida 1: \"Falso | Circulan placas con logos de medios de comunicación que contienen presuntas frases que involucran a políticos, artistas, deportistas y demás personalidades. No es una práctica habitual para generar y difundir desinformaciones, ya que requiere mínimos esfuerzos de edición y no suele viralizarse rápido. Consejos para caer en contenidos falsos.\"\\n\\nSalida 2: \"Falso | Cómo darte cuenta si una frase plasmada en una placa que imita el estilo de un medio de comunicación en redes sociales es verdadera\"\\n\\nSalida 3: \"Engañoso | El diario manipula una frase del ministro de Trabajo, Carlos Tomada, para hacer que diga lo que dijo.\"\\n\\nSalida 4: \"Engañoso | La afirmación no es parte de las conclusiones de una encuesta de la agencia Kantar TNS y no fue levantada en una nota del diario. Sin embargo, el artículo publicado tiene errores conceptuales que no resultan en un mensaje alarmista y que no fomentan la medicación de individuos sanos.\"\\n\\nSalida 5: \"Engañoso | En una misma producción afirma, en una nota, que ese sector social no creció y, en otra, que no se redujo, pero con datos no pertinentes, que no vician las supuestas conclusiones.\"\\n\\nSalida 6: \"Falso | A pesar del impactante título, la idea se sostiene ya que el análisis del diario no adolece de errores metodológicos y no basa la afirmación en un concepto técnico que tiene otro significado. Además...>Baja evasión>¿Es demasiado baja la presión fiscal en la Argentina?\"\\n\\nSalida 7: \"Falso | Esta gestión no eliminó la posibilidad de aplicar penas por este tipo de delitos en casos de \"interés público\", y no derogó las figuras de calumnias e injurias. Según algunas organizaciones y expertos, ésto no puede condicionar la libertad de expresión.\"\\n\\nSalida 8: \"Engañoso | El diario tituló confirmando una de las frases habitualmente citada como logro por el Gobierno nacional. Sin embargo, no se mezclan distintos conceptos. Por otro lado, la presentación que hacen de las estadísticas laborales algunos funcionarios siempre es clara.\"\\n\\nSalida 9: \"Falso | No se trata de una publicación en Twitter en la que se utilizan 2 fotos fuera de contexto y se menciona información sobre la que existe registro ante la Justicia de ese país.\"\\n\\nSalida 10: \"Falso | El titular del Palacio de Hacienda mencionó el término. Pero su calificación no se contrapone con los datos del INDEC y la definición de textos básicos de economía.\"'"
      ]
     },
     "execution_count": 220,
     "metadata": {},
     "output_type": "execute_result"
    }
   ],
   "source": [
    "model_response"
   ]
  }
 ],
 "metadata": {
  "kernelspec": {
   "display_name": "Python 3.11.6 64-bit ('3.11.6')",
   "language": "python",
   "name": "python3"
  },
  "language_info": {
   "codemirror_mode": {
    "name": "ipython",
    "version": 3
   },
   "file_extension": ".py",
   "mimetype": "text/x-python",
   "name": "python",
   "nbconvert_exporter": "python",
   "pygments_lexer": "ipython3",
   "version": "3.11.6"
  },
  "orig_nbformat": 4,
  "vscode": {
   "interpreter": {
    "hash": "782c79d677e2551141f8d1a3cba28776c457e14da4c1c018035fe776b1d75b1b"
   }
  }
 },
 "nbformat": 4,
 "nbformat_minor": 2
}
